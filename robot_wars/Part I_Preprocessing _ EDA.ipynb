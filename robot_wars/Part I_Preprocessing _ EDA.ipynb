{
 "cells": [
  {
   "cell_type": "markdown",
   "id": "24d4bae2-c369-4cfb-9fc1-fd8d93e4adf4",
   "metadata": {},
   "source": [
    "\n",
    "# ROBOT WARS\n",
    "\n",
    "## Text Classification of Legitimate & Computer Generated Amazon Reviews\n",
    "*Can machines fight machines?*\n",
    "---"
   ]
  },
  {
   "cell_type": "markdown",
   "id": "6d6f1699-abbf-45ee-9c6f-2f5f5a87cbec",
   "metadata": {},
   "source": [
    "![amazon](https://productimages.nimbledeals.com/nimblebuy/amazoncom-egift-card-34-47169-regular.jpg)"
   ]
  },
  {
   "cell_type": "markdown",
   "id": "5c625d37-2b65-48ad-8231-9c9e6a8ab9d3",
   "metadata": {},
   "source": [
    "### Background\n",
    "---\n",
    "\n",
    "\n",
    "In the United States, more than 80% of consumers indicate they use online reviews before [purchasing a product](https://www.pewresearch.org/internet/wp-content/uploads/sites/9/2016/12/PI_2016.12.19_Online-Shopping_FINAL.pdf). As reviews are among the most influential factors on consumers' buying behavior, fraudulent actors are tempted to hire writers who specialize in or use automated methods for generating fake reviews to enhance the attractiveness of their products and services. Technological progress in text generation – natural language processing (NLP) and machine learning (ML) to be more specific – has incentivized the automation of fake reviews, as with generative language models, fake reviews could be generated at scale and a fraction of the cost compared to human-generated fake reviews.\n",
    "\n",
    "\n",
    "Studies have shown that:\n",
    ">* 76% of U.S. consumers trust online reviews as much as [recommendations from family and friends](https://www.brightlocal.com/research/local-consumer-review-survey)\n",
    ">* An extra star on a restaurant's Yelp rating can [increase revenue by 5% to 9%](https://www.hbs.edu/ris/Publication%20Files/12-016_a7e4a5a2-03f9-490d-b093-8f951238dba2.pdf)\n",
    "\n",
    "\n",
    "With ecommerce being forecast to grow by 50 percent over the next four years, reaching about [7.4 trillion dollars by 2025](https://www.statista.com/statistics/379046/worldwide-retail-e-commerce-sales), this may incentivize bad actors to perpetuate this fradulent act and the problem of fake reviews may prove to be persistent."
   ]
  },
  {
   "cell_type": "markdown",
   "id": "b20b405b-fc43-49c8-bdff-7fd0d8ff01a8",
   "metadata": {},
   "source": [
    "### Problem Statement\n",
    "---\n",
    "Given a dataset of ~40K Amazon Reviews (50% are legitimate & 50% are computer generated using GPT-2). The dataset can be downloaded [here](https://osf.io/tyue9/). In this project, we will compare the performance of both Machine Learning and Deep Learning Models.\n",
    "\n",
    "**Problem Type**: NLP Binary Classification\n",
    "<br>\n",
    "**Evaluation Metric**: Model performance will be evaluated using F1-score (>0.9).\n",
    "\n",
    "\n",
    "In this notebook, we will preprocess the text in the dataset and perform Exploratory Data Analysis to better understand the data."
   ]
  },
  {
   "cell_type": "code",
   "execution_count": 1,
   "id": "74aa2e5b-416b-4d28-93a0-d35ae1902eef",
   "metadata": {},
   "outputs": [],
   "source": [
    "# contraction library is required, uncomment to install\n",
    "# !pip install contractions"
   ]
  },
  {
   "cell_type": "code",
   "execution_count": 2,
   "id": "3fb93cee-0fe5-4439-9278-d00e6ca3ff45",
   "metadata": {},
   "outputs": [],
   "source": [
    "# Standard libraries go here\n",
    "import pandas as pd\n",
    "import seaborn as sns\n",
    "import numpy as np\n",
    "import matplotlib.pyplot as plt\n",
    "import seaborn as sns\n",
    "import warnings\n",
    "\n",
    "warnings.filterwarnings(\"ignore\")\n",
    "\n",
    "\n",
    "# For Bag-of-Words processing\n",
    "from sklearn.feature_extraction.text import CountVectorizer\n",
    "import nltk\n",
    "from nltk.tokenize import RegexpTokenizer\n",
    "import contractions\n",
    "import re"
   ]
  },
  {
   "cell_type": "markdown",
   "id": "708b4d94-ae04-46e3-8dac-a686fc981838",
   "metadata": {},
   "source": [
    "### Loading Dataset and Preliminaries\n",
    "\n",
    "\n",
    "The dataset consists of 4 columns, with 40432 rows.\n",
    "\n",
    "\n",
    "* `category`: Product category of item/s under review\n",
    "* `rating`: Rating of the review\n",
    "* `label`: CG - Computer Generated, OR - Original\n",
    "* `text_`: Text content of review\n",
    "\n",
    "\n",
    "We will not be using the `rating` column for review."
   ]
  },
  {
   "cell_type": "code",
   "execution_count": 3,
   "id": "12dc2173-9c03-4bb8-853d-8decfbdb295e",
   "metadata": {},
   "outputs": [
    {
     "data": {
      "text/html": [
       "<div>\n",
       "<style scoped>\n",
       "    .dataframe tbody tr th:only-of-type {\n",
       "        vertical-align: middle;\n",
       "    }\n",
       "\n",
       "    .dataframe tbody tr th {\n",
       "        vertical-align: top;\n",
       "    }\n",
       "\n",
       "    .dataframe thead th {\n",
       "        text-align: right;\n",
       "    }\n",
       "</style>\n",
       "<table border=\"1\" class=\"dataframe\">\n",
       "  <thead>\n",
       "    <tr style=\"text-align: right;\">\n",
       "      <th></th>\n",
       "      <th>category</th>\n",
       "      <th>rating</th>\n",
       "      <th>label</th>\n",
       "      <th>text_</th>\n",
       "    </tr>\n",
       "  </thead>\n",
       "  <tbody>\n",
       "    <tr>\n",
       "      <th>0</th>\n",
       "      <td>Home_and_Kitchen_5</td>\n",
       "      <td>5.0</td>\n",
       "      <td>CG</td>\n",
       "      <td>Love this!  Well made, sturdy, and very comfor...</td>\n",
       "    </tr>\n",
       "    <tr>\n",
       "      <th>1</th>\n",
       "      <td>Home_and_Kitchen_5</td>\n",
       "      <td>5.0</td>\n",
       "      <td>CG</td>\n",
       "      <td>love it, a great upgrade from the original.  I...</td>\n",
       "    </tr>\n",
       "    <tr>\n",
       "      <th>2</th>\n",
       "      <td>Home_and_Kitchen_5</td>\n",
       "      <td>5.0</td>\n",
       "      <td>CG</td>\n",
       "      <td>This pillow saved my back. I love the look and...</td>\n",
       "    </tr>\n",
       "    <tr>\n",
       "      <th>3</th>\n",
       "      <td>Home_and_Kitchen_5</td>\n",
       "      <td>1.0</td>\n",
       "      <td>CG</td>\n",
       "      <td>Missing information on how to use it, but it i...</td>\n",
       "    </tr>\n",
       "    <tr>\n",
       "      <th>4</th>\n",
       "      <td>Home_and_Kitchen_5</td>\n",
       "      <td>5.0</td>\n",
       "      <td>CG</td>\n",
       "      <td>Very nice set. Good quality. We have had the s...</td>\n",
       "    </tr>\n",
       "  </tbody>\n",
       "</table>\n",
       "</div>"
      ],
      "text/plain": [
       "             category  rating label  \\\n",
       "0  Home_and_Kitchen_5     5.0    CG   \n",
       "1  Home_and_Kitchen_5     5.0    CG   \n",
       "2  Home_and_Kitchen_5     5.0    CG   \n",
       "3  Home_and_Kitchen_5     1.0    CG   \n",
       "4  Home_and_Kitchen_5     5.0    CG   \n",
       "\n",
       "                                               text_  \n",
       "0  Love this!  Well made, sturdy, and very comfor...  \n",
       "1  love it, a great upgrade from the original.  I...  \n",
       "2  This pillow saved my back. I love the look and...  \n",
       "3  Missing information on how to use it, but it i...  \n",
       "4  Very nice set. Good quality. We have had the s...  "
      ]
     },
     "execution_count": 3,
     "metadata": {},
     "output_type": "execute_result"
    }
   ],
   "source": [
    "reviews = pd.read_csv('fake reviews dataset.csv')\n",
    "reviews.head()"
   ]
  },
  {
   "cell_type": "code",
   "execution_count": 4,
   "id": "f4ad26f1-d518-442f-b32a-c1bb414fe6d4",
   "metadata": {},
   "outputs": [
    {
     "data": {
      "text/plain": [
       "(40432, 4)"
      ]
     },
     "execution_count": 4,
     "metadata": {},
     "output_type": "execute_result"
    }
   ],
   "source": [
    "reviews.shape"
   ]
  },
  {
   "cell_type": "code",
   "execution_count": 5,
   "id": "6bca6a8d-372f-47a2-8d0f-6cf36f66cf61",
   "metadata": {},
   "outputs": [
    {
     "data": {
      "text/plain": [
       "category     object\n",
       "rating      float64\n",
       "label        object\n",
       "text_        object\n",
       "dtype: object"
      ]
     },
     "execution_count": 5,
     "metadata": {},
     "output_type": "execute_result"
    }
   ],
   "source": [
    "reviews.dtypes"
   ]
  },
  {
   "cell_type": "markdown",
   "id": "f5e803ce-97f0-4f71-bf92-3ec3665f2f58",
   "metadata": {},
   "source": [
    "There are no missing values in this dataset."
   ]
  },
  {
   "cell_type": "code",
   "execution_count": 6,
   "id": "bbdb3ecf-7ac8-4678-9eff-f7433dc53d10",
   "metadata": {},
   "outputs": [
    {
     "data": {
      "text/plain": [
       "category    0\n",
       "rating      0\n",
       "label       0\n",
       "text_       0\n",
       "dtype: int64"
      ]
     },
     "execution_count": 6,
     "metadata": {},
     "output_type": "execute_result"
    }
   ],
   "source": [
    "reviews.isnull().sum()"
   ]
  },
  {
   "cell_type": "markdown",
   "id": "036d9eb2-7088-469b-9e09-a705d47e7e33",
   "metadata": {},
   "source": [
    "### Standardizing Column Names\n",
    "\n",
    "We shall remove the redundant underscore to standardize the text column. No changes to the other columns are required."
   ]
  },
  {
   "cell_type": "code",
   "execution_count": 7,
   "id": "20cb1f91-4478-4d12-92bf-4942cbc0dffc",
   "metadata": {},
   "outputs": [],
   "source": [
    "reviews.rename(columns={'text_':'text'}, inplace=True)"
   ]
  },
  {
   "cell_type": "markdown",
   "id": "678ece66-e6fe-4b23-b299-da9a1a0cd8c3",
   "metadata": {},
   "source": [
    "### Standardizing Category Labels\n",
    "\n",
    "\n",
    "The category labels have an extra '_5' at the end of the string, we shall standardize the contents of the `category` column into snake case and remove the redundant characters at the back"
   ]
  },
  {
   "cell_type": "code",
   "execution_count": 8,
   "id": "78ef363e-9e1f-42c4-a308-d4fa63da03f9",
   "metadata": {},
   "outputs": [],
   "source": [
    "reviews['category'] = reviews['category'].apply(lambda x: x.lower().replace('_5',''))"
   ]
  },
  {
   "cell_type": "markdown",
   "id": "3ec088e4-7075-474d-b139-38706aaf1acd",
   "metadata": {},
   "source": [
    "### Numerical Labelling of Class\n",
    "\n",
    "\n",
    "**Fake reviews will be labelled as Class '1'**, while real reviews will be labelled as Class '0'."
   ]
  },
  {
   "cell_type": "code",
   "execution_count": 9,
   "id": "8f240de7-9e0b-4080-8840-0cee2c8851d5",
   "metadata": {},
   "outputs": [
    {
     "data": {
      "text/html": [
       "<div>\n",
       "<style scoped>\n",
       "    .dataframe tbody tr th:only-of-type {\n",
       "        vertical-align: middle;\n",
       "    }\n",
       "\n",
       "    .dataframe tbody tr th {\n",
       "        vertical-align: top;\n",
       "    }\n",
       "\n",
       "    .dataframe thead th {\n",
       "        text-align: right;\n",
       "    }\n",
       "</style>\n",
       "<table border=\"1\" class=\"dataframe\">\n",
       "  <thead>\n",
       "    <tr style=\"text-align: right;\">\n",
       "      <th></th>\n",
       "      <th>category</th>\n",
       "      <th>rating</th>\n",
       "      <th>label</th>\n",
       "      <th>text</th>\n",
       "      <th>class</th>\n",
       "    </tr>\n",
       "  </thead>\n",
       "  <tbody>\n",
       "    <tr>\n",
       "      <th>0</th>\n",
       "      <td>home_and_kitchen</td>\n",
       "      <td>5.0</td>\n",
       "      <td>CG</td>\n",
       "      <td>Love this!  Well made, sturdy, and very comfor...</td>\n",
       "      <td>1</td>\n",
       "    </tr>\n",
       "    <tr>\n",
       "      <th>1</th>\n",
       "      <td>home_and_kitchen</td>\n",
       "      <td>5.0</td>\n",
       "      <td>CG</td>\n",
       "      <td>love it, a great upgrade from the original.  I...</td>\n",
       "      <td>1</td>\n",
       "    </tr>\n",
       "    <tr>\n",
       "      <th>2</th>\n",
       "      <td>home_and_kitchen</td>\n",
       "      <td>5.0</td>\n",
       "      <td>CG</td>\n",
       "      <td>This pillow saved my back. I love the look and...</td>\n",
       "      <td>1</td>\n",
       "    </tr>\n",
       "    <tr>\n",
       "      <th>3</th>\n",
       "      <td>home_and_kitchen</td>\n",
       "      <td>1.0</td>\n",
       "      <td>CG</td>\n",
       "      <td>Missing information on how to use it, but it i...</td>\n",
       "      <td>1</td>\n",
       "    </tr>\n",
       "    <tr>\n",
       "      <th>4</th>\n",
       "      <td>home_and_kitchen</td>\n",
       "      <td>5.0</td>\n",
       "      <td>CG</td>\n",
       "      <td>Very nice set. Good quality. We have had the s...</td>\n",
       "      <td>1</td>\n",
       "    </tr>\n",
       "  </tbody>\n",
       "</table>\n",
       "</div>"
      ],
      "text/plain": [
       "           category  rating label  \\\n",
       "0  home_and_kitchen     5.0    CG   \n",
       "1  home_and_kitchen     5.0    CG   \n",
       "2  home_and_kitchen     5.0    CG   \n",
       "3  home_and_kitchen     1.0    CG   \n",
       "4  home_and_kitchen     5.0    CG   \n",
       "\n",
       "                                                text  class  \n",
       "0  Love this!  Well made, sturdy, and very comfor...      1  \n",
       "1  love it, a great upgrade from the original.  I...      1  \n",
       "2  This pillow saved my back. I love the look and...      1  \n",
       "3  Missing information on how to use it, but it i...      1  \n",
       "4  Very nice set. Good quality. We have had the s...      1  "
      ]
     },
     "execution_count": 9,
     "metadata": {},
     "output_type": "execute_result"
    }
   ],
   "source": [
    "reviews['class'] = reviews['label'].apply(lambda x: 1 if x == 'CG' else 0)\n",
    "reviews.head()"
   ]
  },
  {
   "cell_type": "markdown",
   "id": "6c10fdb3-5aca-400e-86b7-cf880984885c",
   "metadata": {},
   "source": [
    "### Text Cleaning\n",
    "\n",
    "\n",
    "We will preprocess the text to remove the unecessary noise. In the function below the following text cleaning actions were taken.\n",
    "\n",
    "* Expanded the contractions (eg. isn't is replaced by is not, shan't is replaced by shall not etc.) using the contractions library\n",
    "* Converted all text to lowercase\n",
    "* Removed html tags\n",
    "* Removed web addresses \n",
    "* Removed numbers\n",
    "\n",
    "\n",
    "The clean text is then saved to a `.csv`file for downstream use."
   ]
  },
  {
   "cell_type": "code",
   "execution_count": 10,
   "id": "f6b7f0c6-3f60-4047-a010-a094b522273d",
   "metadata": {},
   "outputs": [],
   "source": [
    " def preprocess(sentence):\n",
    "    '''\n",
    "\n",
    "    Takes input of a document, converts to lowercase and removes special symbols, numbers and web addresses. \n",
    "    Tokenizes words and DOES NOT remove stop words\n",
    "\n",
    "    '''\n",
    "    sentence=str(sentence)\n",
    "    expand = contractions.fix(sentence, slang=True)\n",
    "    lowercase = expand.lower()\n",
    "    cleanr = re.compile('<.*?>&nbsp;')\n",
    "    cleantext = re.sub(cleanr, '', lowercase)\n",
    "    rem_url=re.sub(r'http\\S+', '',cleantext)\n",
    "    rem_num = re.sub('[0-9]+', '', rem_url)\n",
    "    tokenizer = RegexpTokenizer(r'\\w+')\n",
    "    tokens = tokenizer.tokenize(rem_num)\n",
    "    \n",
    "    return ' '.join(tokens)"
   ]
  },
  {
   "cell_type": "code",
   "execution_count": 11,
   "id": "7585cff8-f12c-409b-8706-7e92407748cc",
   "metadata": {},
   "outputs": [],
   "source": [
    "reviews_clean = reviews.copy()\n",
    "reviews_clean['clean_text'] = reviews_clean['text'].apply(lambda x: preprocess(x))"
   ]
  },
  {
   "cell_type": "markdown",
   "id": "06916a10-a5db-4b6d-b595-583909e828de",
   "metadata": {},
   "source": [
    "## Exploratory Data Analysis (EDA)"
   ]
  },
  {
   "cell_type": "markdown",
   "id": "9119bc76-0109-4607-bb47-fde700c2c042",
   "metadata": {},
   "source": [
    "#### Removal of Duplicate and Missing Values"
   ]
  },
  {
   "cell_type": "code",
   "execution_count": 12,
   "id": "32825710-99bd-4733-90cd-f50b1394f420",
   "metadata": {},
   "outputs": [
    {
     "data": {
      "text/html": [
       "<div>\n",
       "<style scoped>\n",
       "    .dataframe tbody tr th:only-of-type {\n",
       "        vertical-align: middle;\n",
       "    }\n",
       "\n",
       "    .dataframe tbody tr th {\n",
       "        vertical-align: top;\n",
       "    }\n",
       "\n",
       "    .dataframe thead th {\n",
       "        text-align: right;\n",
       "    }\n",
       "</style>\n",
       "<table border=\"1\" class=\"dataframe\">\n",
       "  <thead>\n",
       "    <tr style=\"text-align: right;\">\n",
       "      <th></th>\n",
       "      <th>category</th>\n",
       "      <th>rating</th>\n",
       "      <th>label</th>\n",
       "      <th>text</th>\n",
       "      <th>class</th>\n",
       "      <th>clean_text</th>\n",
       "    </tr>\n",
       "  </thead>\n",
       "  <tbody>\n",
       "    <tr>\n",
       "      <th>0</th>\n",
       "      <td>home_and_kitchen</td>\n",
       "      <td>5.0</td>\n",
       "      <td>CG</td>\n",
       "      <td>Love this!  Well made, sturdy, and very comfor...</td>\n",
       "      <td>1</td>\n",
       "      <td>love this well made sturdy and very comfortabl...</td>\n",
       "    </tr>\n",
       "    <tr>\n",
       "      <th>1</th>\n",
       "      <td>home_and_kitchen</td>\n",
       "      <td>5.0</td>\n",
       "      <td>CG</td>\n",
       "      <td>love it, a great upgrade from the original.  I...</td>\n",
       "      <td>1</td>\n",
       "      <td>love it a great upgrade from the original i ha...</td>\n",
       "    </tr>\n",
       "    <tr>\n",
       "      <th>2</th>\n",
       "      <td>home_and_kitchen</td>\n",
       "      <td>5.0</td>\n",
       "      <td>CG</td>\n",
       "      <td>This pillow saved my back. I love the look and...</td>\n",
       "      <td>1</td>\n",
       "      <td>this pillow saved my back i love the look and ...</td>\n",
       "    </tr>\n",
       "    <tr>\n",
       "      <th>3</th>\n",
       "      <td>home_and_kitchen</td>\n",
       "      <td>1.0</td>\n",
       "      <td>CG</td>\n",
       "      <td>Missing information on how to use it, but it i...</td>\n",
       "      <td>1</td>\n",
       "      <td>missing information on how to use it but it is...</td>\n",
       "    </tr>\n",
       "    <tr>\n",
       "      <th>4</th>\n",
       "      <td>home_and_kitchen</td>\n",
       "      <td>5.0</td>\n",
       "      <td>CG</td>\n",
       "      <td>Very nice set. Good quality. We have had the s...</td>\n",
       "      <td>1</td>\n",
       "      <td>very nice set good quality we have had the set...</td>\n",
       "    </tr>\n",
       "  </tbody>\n",
       "</table>\n",
       "</div>"
      ],
      "text/plain": [
       "           category  rating label  \\\n",
       "0  home_and_kitchen     5.0    CG   \n",
       "1  home_and_kitchen     5.0    CG   \n",
       "2  home_and_kitchen     5.0    CG   \n",
       "3  home_and_kitchen     1.0    CG   \n",
       "4  home_and_kitchen     5.0    CG   \n",
       "\n",
       "                                                text  class  \\\n",
       "0  Love this!  Well made, sturdy, and very comfor...      1   \n",
       "1  love it, a great upgrade from the original.  I...      1   \n",
       "2  This pillow saved my back. I love the look and...      1   \n",
       "3  Missing information on how to use it, but it i...      1   \n",
       "4  Very nice set. Good quality. We have had the s...      1   \n",
       "\n",
       "                                          clean_text  \n",
       "0  love this well made sturdy and very comfortabl...  \n",
       "1  love it a great upgrade from the original i ha...  \n",
       "2  this pillow saved my back i love the look and ...  \n",
       "3  missing information on how to use it but it is...  \n",
       "4  very nice set good quality we have had the set...  "
      ]
     },
     "metadata": {},
     "output_type": "display_data"
    },
    {
     "name": "stdout",
     "output_type": "stream",
     "text": [
      "(40432, 6)\n"
     ]
    }
   ],
   "source": [
    "display(reviews_clean.head())\n",
    "print(reviews_clean.shape)"
   ]
  },
  {
   "cell_type": "code",
   "execution_count": 13,
   "id": "9e8e6046-f555-44ef-9567-8a52237444bf",
   "metadata": {},
   "outputs": [
    {
     "name": "stdout",
     "output_type": "stream",
     "text": [
      "category      0\n",
      "rating        0\n",
      "label         0\n",
      "text          0\n",
      "class         0\n",
      "clean_text    0\n",
      "dtype: int64\n",
      "41\n"
     ]
    }
   ],
   "source": [
    "print(reviews_clean.isnull().sum())\n",
    "print(reviews_clean['clean_text'].duplicated().sum())"
   ]
  },
  {
   "cell_type": "code",
   "execution_count": 14,
   "id": "dede404a-6dbe-4aba-887b-95b0f5032bd2",
   "metadata": {},
   "outputs": [
    {
     "data": {
      "text/html": [
       "<div>\n",
       "<style scoped>\n",
       "    .dataframe tbody tr th:only-of-type {\n",
       "        vertical-align: middle;\n",
       "    }\n",
       "\n",
       "    .dataframe tbody tr th {\n",
       "        vertical-align: top;\n",
       "    }\n",
       "\n",
       "    .dataframe thead th {\n",
       "        text-align: right;\n",
       "    }\n",
       "</style>\n",
       "<table border=\"1\" class=\"dataframe\">\n",
       "  <thead>\n",
       "    <tr style=\"text-align: right;\">\n",
       "      <th></th>\n",
       "      <th>category</th>\n",
       "      <th>rating</th>\n",
       "      <th>label</th>\n",
       "      <th>text</th>\n",
       "      <th>class</th>\n",
       "      <th>clean_text</th>\n",
       "    </tr>\n",
       "  </thead>\n",
       "  <tbody>\n",
       "    <tr>\n",
       "      <th>725</th>\n",
       "      <td>home_and_kitchen</td>\n",
       "      <td>4.0</td>\n",
       "      <td>CG</td>\n",
       "      <td>Easy to put together and looks nice and the fi...</td>\n",
       "      <td>1</td>\n",
       "      <td>easy to put together and looks nice and the fi...</td>\n",
       "    </tr>\n",
       "    <tr>\n",
       "      <th>4010</th>\n",
       "      <td>home_and_kitchen</td>\n",
       "      <td>1.0</td>\n",
       "      <td>CG</td>\n",
       "      <td>&lt;div id=\"video-block-R35RA3JRQQJM8N\" class=\"a-...</td>\n",
       "      <td>1</td>\n",
       "      <td>input type hidden name value</td>\n",
       "    </tr>\n",
       "    <tr>\n",
       "      <th>4735</th>\n",
       "      <td>sports_and_outdoors</td>\n",
       "      <td>3.0</td>\n",
       "      <td>CG</td>\n",
       "      <td>It does the job but it takes a lot of practice...</td>\n",
       "      <td>1</td>\n",
       "      <td>it does the job but it takes a lot of practice...</td>\n",
       "    </tr>\n",
       "    <tr>\n",
       "      <th>6025</th>\n",
       "      <td>sports_and_outdoors</td>\n",
       "      <td>5.0</td>\n",
       "      <td>CG</td>\n",
       "      <td>This is a really good starter kit, with lots o...</td>\n",
       "      <td>1</td>\n",
       "      <td>this is a really good starter kit with lots of...</td>\n",
       "    </tr>\n",
       "    <tr>\n",
       "      <th>6708</th>\n",
       "      <td>sports_and_outdoors</td>\n",
       "      <td>5.0</td>\n",
       "      <td>CG</td>\n",
       "      <td>Great, no complaints. Comfortable, phone fits ...</td>\n",
       "      <td>1</td>\n",
       "      <td>great no complaints comfortable phone fits in ...</td>\n",
       "    </tr>\n",
       "    <tr>\n",
       "      <th>7575</th>\n",
       "      <td>sports_and_outdoors</td>\n",
       "      <td>5.0</td>\n",
       "      <td>CG</td>\n",
       "      <td>&lt;div id=\"video-block-RFSBG1YPR3MRI\" class=\"a-s...</td>\n",
       "      <td>1</td>\n",
       "      <td>this is a great knife for the money and a grea...</td>\n",
       "    </tr>\n",
       "    <tr>\n",
       "      <th>11956</th>\n",
       "      <td>electronics</td>\n",
       "      <td>5.0</td>\n",
       "      <td>CG</td>\n",
       "      <td>&lt;div id=\"video-block-R1TWZK14HQADKC\" class=\"a-...</td>\n",
       "      <td>1</td>\n",
       "      <td>input type hidden name value ssl images amazon</td>\n",
       "    </tr>\n",
       "    <tr>\n",
       "      <th>11958</th>\n",
       "      <td>electronics</td>\n",
       "      <td>4.0</td>\n",
       "      <td>CG</td>\n",
       "      <td>&lt;div id=\"video-block-RWOK1Y3WFP2O7\" class=\"a-s...</td>\n",
       "      <td>1</td>\n",
       "      <td>input type hidden name value</td>\n",
       "    </tr>\n",
       "    <tr>\n",
       "      <th>12548</th>\n",
       "      <td>movies_and_tv</td>\n",
       "      <td>5.0</td>\n",
       "      <td>CG</td>\n",
       "      <td>One of the best movies of the year.  Not for e...</td>\n",
       "      <td>1</td>\n",
       "      <td>one of the best movies of the year not for eve...</td>\n",
       "    </tr>\n",
       "    <tr>\n",
       "      <th>12769</th>\n",
       "      <td>movies_and_tv</td>\n",
       "      <td>4.0</td>\n",
       "      <td>CG</td>\n",
       "      <td>It was a good movie. I liked the movie. The pl...</td>\n",
       "      <td>1</td>\n",
       "      <td>it was a good movie i liked the movie the plot...</td>\n",
       "    </tr>\n",
       "    <tr>\n",
       "      <th>13650</th>\n",
       "      <td>movies_and_tv</td>\n",
       "      <td>4.0</td>\n",
       "      <td>CG</td>\n",
       "      <td>I have loved this movie, it is an interesting ...</td>\n",
       "      <td>1</td>\n",
       "      <td>i have loved this movie it is an interesting a...</td>\n",
       "    </tr>\n",
       "    <tr>\n",
       "      <th>16443</th>\n",
       "      <td>tools_and_home_improvement</td>\n",
       "      <td>5.0</td>\n",
       "      <td>CG</td>\n",
       "      <td>This is a very sturdy saw. The only problem is...</td>\n",
       "      <td>1</td>\n",
       "      <td>this is a very sturdy saw the only problem is ...</td>\n",
       "    </tr>\n",
       "    <tr>\n",
       "      <th>19802</th>\n",
       "      <td>pet_supplies</td>\n",
       "      <td>5.0</td>\n",
       "      <td>CG</td>\n",
       "      <td>My dog loves these and it has kept her occupie...</td>\n",
       "      <td>1</td>\n",
       "      <td>my dog loves these and it has kept her occupie...</td>\n",
       "    </tr>\n",
       "    <tr>\n",
       "      <th>20242</th>\n",
       "      <td>pet_supplies</td>\n",
       "      <td>5.0</td>\n",
       "      <td>CG</td>\n",
       "      <td>My dog loves it and it has kept her occupied f...</td>\n",
       "      <td>1</td>\n",
       "      <td>my dog loves it and it has kept her occupied f...</td>\n",
       "    </tr>\n",
       "    <tr>\n",
       "      <th>21398</th>\n",
       "      <td>pet_supplies</td>\n",
       "      <td>5.0</td>\n",
       "      <td>CG</td>\n",
       "      <td>I got this for my dog. It's a good size and my...</td>\n",
       "      <td>1</td>\n",
       "      <td>i got this for my dog it is a good size and my...</td>\n",
       "    </tr>\n",
       "    <tr>\n",
       "      <th>22305</th>\n",
       "      <td>pet_supplies</td>\n",
       "      <td>5.0</td>\n",
       "      <td>OR</td>\n",
       "      <td>Got these to give to my 8 mth old chihuahua wh...</td>\n",
       "      <td>0</td>\n",
       "      <td>got these to give to my mth old chihuahua who ...</td>\n",
       "    </tr>\n",
       "    <tr>\n",
       "      <th>26444</th>\n",
       "      <td>kindle_store</td>\n",
       "      <td>5.0</td>\n",
       "      <td>CG</td>\n",
       "      <td>I received this story as an ARC in exchange fo...</td>\n",
       "      <td>1</td>\n",
       "      <td>i received this story as an arc in exchange fo...</td>\n",
       "    </tr>\n",
       "    <tr>\n",
       "      <th>26448</th>\n",
       "      <td>kindle_store</td>\n",
       "      <td>5.0</td>\n",
       "      <td>CG</td>\n",
       "      <td>This is the second in a series and the first i...</td>\n",
       "      <td>1</td>\n",
       "      <td>this is the second in a series and the first i...</td>\n",
       "    </tr>\n",
       "    <tr>\n",
       "      <th>27141</th>\n",
       "      <td>kindle_store</td>\n",
       "      <td>5.0</td>\n",
       "      <td>CG</td>\n",
       "      <td>This is one of the best books I've read in a l...</td>\n",
       "      <td>1</td>\n",
       "      <td>this is one of the best books i have read in a...</td>\n",
       "    </tr>\n",
       "    <tr>\n",
       "      <th>27233</th>\n",
       "      <td>kindle_store</td>\n",
       "      <td>5.0</td>\n",
       "      <td>CG</td>\n",
       "      <td>This is the first book in a series by the auth...</td>\n",
       "      <td>1</td>\n",
       "      <td>this is the first book in a series by the auth...</td>\n",
       "    </tr>\n",
       "    <tr>\n",
       "      <th>29091</th>\n",
       "      <td>books</td>\n",
       "      <td>5.0</td>\n",
       "      <td>CG</td>\n",
       "      <td>I really enjoyed this book. The characters wer...</td>\n",
       "      <td>1</td>\n",
       "      <td>i really enjoyed this book the characters were...</td>\n",
       "    </tr>\n",
       "    <tr>\n",
       "      <th>29203</th>\n",
       "      <td>books</td>\n",
       "      <td>5.0</td>\n",
       "      <td>CG</td>\n",
       "      <td>I really enjoyed this book. The characters wer...</td>\n",
       "      <td>1</td>\n",
       "      <td>i really enjoyed this book the characters were...</td>\n",
       "    </tr>\n",
       "    <tr>\n",
       "      <th>29345</th>\n",
       "      <td>books</td>\n",
       "      <td>2.0</td>\n",
       "      <td>CG</td>\n",
       "      <td>I was disappointed in this book. It was a good...</td>\n",
       "      <td>1</td>\n",
       "      <td>i was disappointed in this book it was a good ...</td>\n",
       "    </tr>\n",
       "    <tr>\n",
       "      <th>33331</th>\n",
       "      <td>toys_and_games</td>\n",
       "      <td>5.0</td>\n",
       "      <td>CG</td>\n",
       "      <td>My 16 month old loves this toy and the materia...</td>\n",
       "      <td>1</td>\n",
       "      <td>my month old loves this toy and the materials ...</td>\n",
       "    </tr>\n",
       "    <tr>\n",
       "      <th>33415</th>\n",
       "      <td>toys_and_games</td>\n",
       "      <td>4.0</td>\n",
       "      <td>CG</td>\n",
       "      <td>My 19 month old son loves it and the materials...</td>\n",
       "      <td>1</td>\n",
       "      <td>my month old son loves it and the materials ar...</td>\n",
       "    </tr>\n",
       "    <tr>\n",
       "      <th>33602</th>\n",
       "      <td>toys_and_games</td>\n",
       "      <td>5.0</td>\n",
       "      <td>CG</td>\n",
       "      <td>I got this for my son for Christmas.  He loved...</td>\n",
       "      <td>1</td>\n",
       "      <td>i got this for my son for christmas he loved i...</td>\n",
       "    </tr>\n",
       "    <tr>\n",
       "      <th>34193</th>\n",
       "      <td>toys_and_games</td>\n",
       "      <td>5.0</td>\n",
       "      <td>CG</td>\n",
       "      <td>I bought this for my son for Christmas.  He lo...</td>\n",
       "      <td>1</td>\n",
       "      <td>i bought this for my son for christmas he love...</td>\n",
       "    </tr>\n",
       "    <tr>\n",
       "      <th>34303</th>\n",
       "      <td>toys_and_games</td>\n",
       "      <td>5.0</td>\n",
       "      <td>CG</td>\n",
       "      <td>I bought this for my son for Christmas. He lov...</td>\n",
       "      <td>1</td>\n",
       "      <td>i bought this for my son for christmas he love...</td>\n",
       "    </tr>\n",
       "    <tr>\n",
       "      <th>34304</th>\n",
       "      <td>toys_and_games</td>\n",
       "      <td>5.0</td>\n",
       "      <td>CG</td>\n",
       "      <td>my 4 year old loves this toy and the materials...</td>\n",
       "      <td>1</td>\n",
       "      <td>my year old loves this toy and the materials a...</td>\n",
       "    </tr>\n",
       "    <tr>\n",
       "      <th>34314</th>\n",
       "      <td>toys_and_games</td>\n",
       "      <td>5.0</td>\n",
       "      <td>CG</td>\n",
       "      <td>I got this for my son for Christmas. He loved ...</td>\n",
       "      <td>1</td>\n",
       "      <td>i got this for my son for christmas he loved i...</td>\n",
       "    </tr>\n",
       "    <tr>\n",
       "      <th>34589</th>\n",
       "      <td>toys_and_games</td>\n",
       "      <td>5.0</td>\n",
       "      <td>CG</td>\n",
       "      <td>I bought this for a kid who was into science. ...</td>\n",
       "      <td>1</td>\n",
       "      <td>i bought this for a kid who was into science h...</td>\n",
       "    </tr>\n",
       "    <tr>\n",
       "      <th>34795</th>\n",
       "      <td>toys_and_games</td>\n",
       "      <td>5.0</td>\n",
       "      <td>CG</td>\n",
       "      <td>I bought this for my son for Christmas.  He lo...</td>\n",
       "      <td>1</td>\n",
       "      <td>i bought this for my son for christmas he love...</td>\n",
       "    </tr>\n",
       "    <tr>\n",
       "      <th>34921</th>\n",
       "      <td>toys_and_games</td>\n",
       "      <td>4.0</td>\n",
       "      <td>CG</td>\n",
       "      <td>I bought this as a gift for my son's third bir...</td>\n",
       "      <td>1</td>\n",
       "      <td>i bought this as a gift for my son s third bir...</td>\n",
       "    </tr>\n",
       "    <tr>\n",
       "      <th>35166</th>\n",
       "      <td>toys_and_games</td>\n",
       "      <td>4.0</td>\n",
       "      <td>CG</td>\n",
       "      <td>I purchased this for my son's 3rd birthday. He...</td>\n",
       "      <td>1</td>\n",
       "      <td>i purchased this for my son s rd birthday he l...</td>\n",
       "    </tr>\n",
       "    <tr>\n",
       "      <th>36508</th>\n",
       "      <td>toys_and_games</td>\n",
       "      <td>5.0</td>\n",
       "      <td>CG</td>\n",
       "      <td>&lt;div id=\"video-block-R28F4M41UIB1DN\" class=\"a-...</td>\n",
       "      <td>1</td>\n",
       "      <td>input type hidden name value ssl images amazon...</td>\n",
       "    </tr>\n",
       "    <tr>\n",
       "      <th>36534</th>\n",
       "      <td>toys_and_games</td>\n",
       "      <td>5.0</td>\n",
       "      <td>CG</td>\n",
       "      <td>&lt;div id=\"video-block-R13NRMAER1K3U8\" class=\"a-...</td>\n",
       "      <td>1</td>\n",
       "      <td>input type hidden name value ssl images amazon...</td>\n",
       "    </tr>\n",
       "    <tr>\n",
       "      <th>36548</th>\n",
       "      <td>toys_and_games</td>\n",
       "      <td>5.0</td>\n",
       "      <td>CG</td>\n",
       "      <td>&lt;div id=\"video-block-R2L55OXWDAVW29\" class=\"a-...</td>\n",
       "      <td>1</td>\n",
       "      <td>input type hidden name value ssl images amazon...</td>\n",
       "    </tr>\n",
       "    <tr>\n",
       "      <th>36568</th>\n",
       "      <td>toys_and_games</td>\n",
       "      <td>5.0</td>\n",
       "      <td>CG</td>\n",
       "      <td>&lt;div id=\"video-block-RSDK4AXMN726M\" class=\"a-s...</td>\n",
       "      <td>1</td>\n",
       "      <td>input type hidden name value ssl images amazon...</td>\n",
       "    </tr>\n",
       "    <tr>\n",
       "      <th>37221</th>\n",
       "      <td>clothing_shoes_and_jewelry</td>\n",
       "      <td>4.0</td>\n",
       "      <td>CG</td>\n",
       "      <td>These are very comfortable.  They have the wid...</td>\n",
       "      <td>1</td>\n",
       "      <td>these are very comfortable they have the wide ...</td>\n",
       "    </tr>\n",
       "    <tr>\n",
       "      <th>37543</th>\n",
       "      <td>clothing_shoes_and_jewelry</td>\n",
       "      <td>5.0</td>\n",
       "      <td>CG</td>\n",
       "      <td>I bought this for a Halloween costume and it w...</td>\n",
       "      <td>1</td>\n",
       "      <td>i bought this for a halloween costume and it w...</td>\n",
       "    </tr>\n",
       "    <tr>\n",
       "      <th>38808</th>\n",
       "      <td>clothing_shoes_and_jewelry</td>\n",
       "      <td>4.0</td>\n",
       "      <td>CG</td>\n",
       "      <td>I bought these for my daughter. She loves them...</td>\n",
       "      <td>1</td>\n",
       "      <td>i bought these for my daughter she loves them ...</td>\n",
       "    </tr>\n",
       "  </tbody>\n",
       "</table>\n",
       "</div>"
      ],
      "text/plain": [
       "                         category  rating label  \\\n",
       "725              home_and_kitchen     4.0    CG   \n",
       "4010             home_and_kitchen     1.0    CG   \n",
       "4735          sports_and_outdoors     3.0    CG   \n",
       "6025          sports_and_outdoors     5.0    CG   \n",
       "6708          sports_and_outdoors     5.0    CG   \n",
       "7575          sports_and_outdoors     5.0    CG   \n",
       "11956                 electronics     5.0    CG   \n",
       "11958                 electronics     4.0    CG   \n",
       "12548               movies_and_tv     5.0    CG   \n",
       "12769               movies_and_tv     4.0    CG   \n",
       "13650               movies_and_tv     4.0    CG   \n",
       "16443  tools_and_home_improvement     5.0    CG   \n",
       "19802                pet_supplies     5.0    CG   \n",
       "20242                pet_supplies     5.0    CG   \n",
       "21398                pet_supplies     5.0    CG   \n",
       "22305                pet_supplies     5.0    OR   \n",
       "26444                kindle_store     5.0    CG   \n",
       "26448                kindle_store     5.0    CG   \n",
       "27141                kindle_store     5.0    CG   \n",
       "27233                kindle_store     5.0    CG   \n",
       "29091                       books     5.0    CG   \n",
       "29203                       books     5.0    CG   \n",
       "29345                       books     2.0    CG   \n",
       "33331              toys_and_games     5.0    CG   \n",
       "33415              toys_and_games     4.0    CG   \n",
       "33602              toys_and_games     5.0    CG   \n",
       "34193              toys_and_games     5.0    CG   \n",
       "34303              toys_and_games     5.0    CG   \n",
       "34304              toys_and_games     5.0    CG   \n",
       "34314              toys_and_games     5.0    CG   \n",
       "34589              toys_and_games     5.0    CG   \n",
       "34795              toys_and_games     5.0    CG   \n",
       "34921              toys_and_games     4.0    CG   \n",
       "35166              toys_and_games     4.0    CG   \n",
       "36508              toys_and_games     5.0    CG   \n",
       "36534              toys_and_games     5.0    CG   \n",
       "36548              toys_and_games     5.0    CG   \n",
       "36568              toys_and_games     5.0    CG   \n",
       "37221  clothing_shoes_and_jewelry     4.0    CG   \n",
       "37543  clothing_shoes_and_jewelry     5.0    CG   \n",
       "38808  clothing_shoes_and_jewelry     4.0    CG   \n",
       "\n",
       "                                                    text  class  \\\n",
       "725    Easy to put together and looks nice and the fi...      1   \n",
       "4010   <div id=\"video-block-R35RA3JRQQJM8N\" class=\"a-...      1   \n",
       "4735   It does the job but it takes a lot of practice...      1   \n",
       "6025   This is a really good starter kit, with lots o...      1   \n",
       "6708   Great, no complaints. Comfortable, phone fits ...      1   \n",
       "7575   <div id=\"video-block-RFSBG1YPR3MRI\" class=\"a-s...      1   \n",
       "11956  <div id=\"video-block-R1TWZK14HQADKC\" class=\"a-...      1   \n",
       "11958  <div id=\"video-block-RWOK1Y3WFP2O7\" class=\"a-s...      1   \n",
       "12548  One of the best movies of the year.  Not for e...      1   \n",
       "12769  It was a good movie. I liked the movie. The pl...      1   \n",
       "13650  I have loved this movie, it is an interesting ...      1   \n",
       "16443  This is a very sturdy saw. The only problem is...      1   \n",
       "19802  My dog loves these and it has kept her occupie...      1   \n",
       "20242  My dog loves it and it has kept her occupied f...      1   \n",
       "21398  I got this for my dog. It's a good size and my...      1   \n",
       "22305  Got these to give to my 8 mth old chihuahua wh...      0   \n",
       "26444  I received this story as an ARC in exchange fo...      1   \n",
       "26448  This is the second in a series and the first i...      1   \n",
       "27141  This is one of the best books I've read in a l...      1   \n",
       "27233  This is the first book in a series by the auth...      1   \n",
       "29091  I really enjoyed this book. The characters wer...      1   \n",
       "29203  I really enjoyed this book. The characters wer...      1   \n",
       "29345  I was disappointed in this book. It was a good...      1   \n",
       "33331  My 16 month old loves this toy and the materia...      1   \n",
       "33415  My 19 month old son loves it and the materials...      1   \n",
       "33602  I got this for my son for Christmas.  He loved...      1   \n",
       "34193  I bought this for my son for Christmas.  He lo...      1   \n",
       "34303  I bought this for my son for Christmas. He lov...      1   \n",
       "34304  my 4 year old loves this toy and the materials...      1   \n",
       "34314  I got this for my son for Christmas. He loved ...      1   \n",
       "34589  I bought this for a kid who was into science. ...      1   \n",
       "34795  I bought this for my son for Christmas.  He lo...      1   \n",
       "34921  I bought this as a gift for my son's third bir...      1   \n",
       "35166  I purchased this for my son's 3rd birthday. He...      1   \n",
       "36508  <div id=\"video-block-R28F4M41UIB1DN\" class=\"a-...      1   \n",
       "36534  <div id=\"video-block-R13NRMAER1K3U8\" class=\"a-...      1   \n",
       "36548  <div id=\"video-block-R2L55OXWDAVW29\" class=\"a-...      1   \n",
       "36568  <div id=\"video-block-RSDK4AXMN726M\" class=\"a-s...      1   \n",
       "37221  These are very comfortable.  They have the wid...      1   \n",
       "37543  I bought this for a Halloween costume and it w...      1   \n",
       "38808  I bought these for my daughter. She loves them...      1   \n",
       "\n",
       "                                              clean_text  \n",
       "725    easy to put together and looks nice and the fi...  \n",
       "4010                        input type hidden name value  \n",
       "4735   it does the job but it takes a lot of practice...  \n",
       "6025   this is a really good starter kit with lots of...  \n",
       "6708   great no complaints comfortable phone fits in ...  \n",
       "7575   this is a great knife for the money and a grea...  \n",
       "11956     input type hidden name value ssl images amazon  \n",
       "11958                       input type hidden name value  \n",
       "12548  one of the best movies of the year not for eve...  \n",
       "12769  it was a good movie i liked the movie the plot...  \n",
       "13650  i have loved this movie it is an interesting a...  \n",
       "16443  this is a very sturdy saw the only problem is ...  \n",
       "19802  my dog loves these and it has kept her occupie...  \n",
       "20242  my dog loves it and it has kept her occupied f...  \n",
       "21398  i got this for my dog it is a good size and my...  \n",
       "22305  got these to give to my mth old chihuahua who ...  \n",
       "26444  i received this story as an arc in exchange fo...  \n",
       "26448  this is the second in a series and the first i...  \n",
       "27141  this is one of the best books i have read in a...  \n",
       "27233  this is the first book in a series by the auth...  \n",
       "29091  i really enjoyed this book the characters were...  \n",
       "29203  i really enjoyed this book the characters were...  \n",
       "29345  i was disappointed in this book it was a good ...  \n",
       "33331  my month old loves this toy and the materials ...  \n",
       "33415  my month old son loves it and the materials ar...  \n",
       "33602  i got this for my son for christmas he loved i...  \n",
       "34193  i bought this for my son for christmas he love...  \n",
       "34303  i bought this for my son for christmas he love...  \n",
       "34304  my year old loves this toy and the materials a...  \n",
       "34314  i got this for my son for christmas he loved i...  \n",
       "34589  i bought this for a kid who was into science h...  \n",
       "34795  i bought this for my son for christmas he love...  \n",
       "34921  i bought this as a gift for my son s third bir...  \n",
       "35166  i purchased this for my son s rd birthday he l...  \n",
       "36508  input type hidden name value ssl images amazon...  \n",
       "36534  input type hidden name value ssl images amazon...  \n",
       "36548  input type hidden name value ssl images amazon...  \n",
       "36568  input type hidden name value ssl images amazon...  \n",
       "37221  these are very comfortable they have the wide ...  \n",
       "37543  i bought this for a halloween costume and it w...  \n",
       "38808  i bought these for my daughter she loves them ...  "
      ]
     },
     "execution_count": 14,
     "metadata": {},
     "output_type": "execute_result"
    }
   ],
   "source": [
    "reviews_clean[reviews_clean['clean_text'].duplicated()]"
   ]
  },
  {
   "cell_type": "code",
   "execution_count": 15,
   "id": "dffe4716-6c27-4dd7-a098-76d8e9137d66",
   "metadata": {},
   "outputs": [
    {
     "name": "stdout",
     "output_type": "stream",
     "text": [
      "(40391, 6)\n"
     ]
    }
   ],
   "source": [
    "reviews_clean.drop_duplicates(subset=['clean_text'], inplace=True)\n",
    "print(reviews_clean.shape)"
   ]
  },
  {
   "cell_type": "markdown",
   "id": "447e8ef0-25af-4b16-921a-ffd1f94a9690",
   "metadata": {},
   "source": [
    "#### Text Analysis"
   ]
  },
  {
   "cell_type": "code",
   "execution_count": 16,
   "id": "14e2d1e9-2460-4ca4-82dd-12ca3183d07e",
   "metadata": {},
   "outputs": [],
   "source": [
    "# Distribution of number of words in a review\n",
    "reviews_clean['text_word_length'] = reviews_clean['text'].apply(lambda x: len(x.split()))"
   ]
  },
  {
   "cell_type": "code",
   "execution_count": 17,
   "id": "aa3aea46-6029-48d0-8a2b-04d9b8a37014",
   "metadata": {},
   "outputs": [],
   "source": [
    "# create dataframes for positive and negative classes\n",
    "fake_reviews = reviews_clean[reviews_clean['class']==1]\n",
    "real_reviews = reviews_clean[reviews_clean['class']==0]"
   ]
  },
  {
   "cell_type": "markdown",
   "id": "e9b6e0a0-be68-42c7-aafc-479007d217db",
   "metadata": {},
   "source": [
    "We can observe that the distributions of word length is right skewed and is observed in both classes. There is also an obvious peak of 17-18 words for the computer-generated reviews."
   ]
  },
  {
   "cell_type": "code",
   "execution_count": 18,
   "id": "017c34bd-5360-4c88-9b8f-0d9c3ea14eff",
   "metadata": {},
   "outputs": [
    {
     "name": "stdout",
     "output_type": "stream",
     "text": [
      "count    40391.000000\n",
      "mean        67.502265\n",
      "std         69.604194\n",
      "min          1.000000\n",
      "25%         21.000000\n",
      "50%         39.000000\n",
      "75%         85.000000\n",
      "max        373.000000\n",
      "Name: text_word_length, dtype: float64\n"
     ]
    },
    {
     "data": {
      "image/png": "[encoded data removed]",
      "text/plain": [
       "<Figure size 720x360 with 2 Axes>"
      ]
     },
     "metadata": {
      "needs_background": "light"
     },
     "output_type": "display_data"
    }
   ],
   "source": [
    "sns.displot(x='text_word_length', data= reviews_clean, kde=True, height=5, aspect=1, col='class', palette='Set2')\n",
    "print(reviews_clean['text_word_length'].describe())"
   ]
  },
  {
   "cell_type": "markdown",
   "id": "8709191f-d413-46d9-b052-feef87da67c1",
   "metadata": {},
   "source": [
    "From the summary statistics above, we observe that 75% of the data consists of reviews with 85 words or less. Due to memory limitations of the local machine, we will only limit the analysis to reviews that are **100 words or less** as it still captures the bulk of the data."
   ]
  },
  {
   "cell_type": "code",
   "execution_count": 19,
   "id": "072561d7-9536-4220-8305-5d25a10475a7",
   "metadata": {},
   "outputs": [],
   "source": [
    "df_100 = reviews_clean[reviews_clean['text_word_length'] < 100]\n",
    "\n",
    "df_100_fake = df_100[df_100['class']==1]\n",
    "df_100_real = df_100[df_100['class']==0]"
   ]
  },
  {
   "cell_type": "markdown",
   "id": "0b2a287c-64e8-480e-bb61-246f1d67eaea",
   "metadata": {},
   "source": [
    "There are many common unigrams between the real and fake reviews, in fact the top 4 unigrams are identical for both classes. \n",
    "\n",
    "Similarly, there are also common bigrams"
   ]
  },
  {
   "cell_type": "code",
   "execution_count": 20,
   "id": "f2a5599d-00b8-449c-924f-94b512346ddd",
   "metadata": {},
   "outputs": [
    {
     "data": {
      "image/png": "[encoded data removed]",
      "text/plain": [
       "<Figure size 1008x432 with 2 Axes>"
      ]
     },
     "metadata": {
      "needs_background": "light"
     },
     "output_type": "display_data"
    }
   ],
   "source": [
    "# Top 10 occuring words\n",
    "cvec = CountVectorizer(stop_words='english')\n",
    "\n",
    "fake_counts = cvec.fit_transform(df_100_fake['clean_text'].values)\n",
    "fake_df = pd.DataFrame(fake_counts.todense(), \n",
    "                          columns=cvec.get_feature_names()).sum().sort_values(ascending=False).head(15)\n",
    "\n",
    "real_counts = cvec.fit_transform(df_100_real['clean_text'].values)\n",
    "real_df = pd.DataFrame(real_counts.todense(), \n",
    "                          columns=cvec.get_feature_names()).sum().sort_values(ascending=False).head(15)\n",
    "\n",
    "fig, axes = plt.subplots(nrows=1, ncols=2, figsize=(14,6))\n",
    "sns.barplot(fake_df.values,fake_df.index, ax=axes[0], palette = 'Set2', orient='h')\n",
    "sns.barplot(real_df.values,real_df.index, ax=axes[1], palette = 'Set2', orient='h')\n",
    "\n",
    "axes[0].set_title('Top 10 Occuring Unigrams in Fake Reviews')\n",
    "axes[0].set_xlabel('Frequency')\n",
    "axes[1].set_title('Top 10 Occuring Unigrams in Real Reviews')\n",
    "axes[1].set_xlabel('Frequency')\n",
    "plt.tight_layout()"
   ]
  },
  {
   "cell_type": "code",
   "execution_count": 21,
   "id": "3c578aa5-fac5-4b39-9d67-456b386843f2",
   "metadata": {},
   "outputs": [
    {
     "data": {
      "image/png": "[encoded data removed]",
      "text/plain": [
       "<Figure size 1008x432 with 2 Axes>"
      ]
     },
     "metadata": {
      "needs_background": "light"
     },
     "output_type": "display_data"
    }
   ],
   "source": [
    "cvec = CountVectorizer(stop_words='english', ngram_range=(2,2))\n",
    "\n",
    "fake_counts = cvec.fit_transform(df_100_fake['clean_text'].values)\n",
    "fake_df = pd.DataFrame(fake_counts.todense(), \n",
    "                          columns=cvec.get_feature_names()).sum().sort_values(ascending=False).head(15)\n",
    "\n",
    "real_counts = cvec.fit_transform(df_100_real['clean_text'].values)\n",
    "real_df = pd.DataFrame(real_counts.todense(), \n",
    "                          columns=cvec.get_feature_names()).sum().sort_values(ascending=False).head(15)\n",
    "\n",
    "fig, axes = plt.subplots(nrows=1, ncols=2, figsize=(14,6))\n",
    "sns.barplot(fake_df.values,fake_df.index, ax=axes[0], palette = 'Set2', orient='h')\n",
    "sns.barplot(real_df.values,real_df.index, ax=axes[1], palette = 'Set2', orient='h')\n",
    "\n",
    "axes[0].set_title('Top 10 Occuring Bigrams in Fake Reviews')\n",
    "axes[0].set_xlabel('Frequency')\n",
    "axes[1].set_title('Top 10 Occuring Bigrams in Real Reviews')\n",
    "axes[1].set_xlabel('Frequency')\n",
    "plt.tight_layout()"
   ]
  },
  {
   "cell_type": "markdown",
   "id": "786bc387-8047-43b3-a0e7-245c98cc7e91",
   "metadata": {},
   "source": [
    "### Class Distributions"
   ]
  },
  {
   "cell_type": "markdown",
   "id": "62818306-9695-4d34-9497-78d0d71b28ad",
   "metadata": {},
   "source": [
    "Even after dropping rows to get rid of duplicated values, the dataset is still fairly balanced across category and rating."
   ]
  },
  {
   "cell_type": "code",
   "execution_count": 22,
   "id": "1529890e-0048-4faa-a01c-3836c035fe5c",
   "metadata": {},
   "outputs": [
    {
     "data": {
      "text/plain": [
       "0    0.500483\n",
       "1    0.499517\n",
       "Name: class, dtype: float64"
      ]
     },
     "execution_count": 22,
     "metadata": {},
     "output_type": "execute_result"
    }
   ],
   "source": [
    "# Class distribution\n",
    "\n",
    "reviews_clean['class'].value_counts(normalize=True)"
   ]
  },
  {
   "cell_type": "code",
   "execution_count": 23,
   "id": "9e0466d8-6904-4f19-9346-681ce04bb66f",
   "metadata": {},
   "outputs": [
    {
     "data": {
      "image/png": "[encoded data removed]",
      "text/plain": [
       "<Figure size 1728x432 with 1 Axes>"
      ]
     },
     "metadata": {
      "needs_background": "light"
     },
     "output_type": "display_data"
    }
   ],
   "source": [
    "# Class distributions for category\n",
    "plt.figure(figsize=(24,6))\n",
    "sns.countplot(x='category', data=reviews_clean, hue='class', palette='Set2')\n",
    "plt.title('Review Counts per Category', fontsize=14)\n",
    "plt.show()"
   ]
  },
  {
   "cell_type": "code",
   "execution_count": 24,
   "id": "be15b27d-d0e3-47b5-b017-22527258c446",
   "metadata": {},
   "outputs": [
    {
     "data": {
      "text/plain": [
       "<AxesSubplot:xlabel='rating', ylabel='count'>"
      ]
     },
     "execution_count": 24,
     "metadata": {},
     "output_type": "execute_result"
    },
    {
     "data": {
      "image/png": "[encoded data removed]",
      "text/plain": [
       "<Figure size 1008x432 with 1 Axes>"
      ]
     },
     "metadata": {
      "needs_background": "light"
     },
     "output_type": "display_data"
    }
   ],
   "source": [
    "# Class distributions for rating\n",
    "plt.figure(figsize=(14,6))\n",
    "sns.countplot(x='rating', data=reviews_clean, hue='class', palette='Set2')"
   ]
  },
  {
   "cell_type": "code",
   "execution_count": 27,
   "id": "a507a71b-cd85-448d-baca-404a43f6cd50",
   "metadata": {},
   "outputs": [],
   "source": [
    "# saving the preprocessed data for use in the next notebook\n",
    "reviews_clean.to_csv('../data/reviews_clean.csv', index=False)"
   ]
  },
  {
   "cell_type": "markdown",
   "id": "a9c62912-e522-4d5a-b4eb-9bb6670a5bdb",
   "metadata": {},
   "source": [
    "# Notebook Conclusion\n",
    "\n",
    "\n",
    "In this notebook, we have preprocessed the data, cleaned it and performed Exploratory Data Analysis. The cleaned data has also been saved as a csv file to be used in the later notebooks.\n",
    "\n",
    "\n",
    "In the next notebook, we will load the clean data and feed them into the Machine Learning models."
   ]
  },
  {
   "cell_type": "markdown",
   "id": "dee87cef-8f76-44ea-b6d5-237a2d2fc18c",
   "metadata": {},
   "source": [
    "<TBC>"
   ]
  }
 ],
 "metadata": {
  "kernelspec": {
   "display_name": "Python 3 (ipykernel)",
   "language": "python",
   "name": "python3"
  },
  "language_info": {
   "codemirror_mode": {
    "name": "ipython",
    "version": 3
   },
   "file_extension": ".py",
   "mimetype": "text/x-python",
   "name": "python",
   "nbconvert_exporter": "python",
   "pygments_lexer": "ipython3",
   "version": "3.8.12"
  }
 },
 "nbformat": 4,
 "nbformat_minor": 5
}
