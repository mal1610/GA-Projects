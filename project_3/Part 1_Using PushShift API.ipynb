{
 "cells": [
  {
   "cell_type": "markdown",
   "id": "eb958a22",
   "metadata": {},
   "source": [
    "![image.png](images/image.jpg)\n",
    "\n",
    "## Part 1 - Introduction & Business Problem\n",
    "---\n",
    "\n",
    "### Background\n",
    "\n",
    "\n",
    "Reddit is an American social news aggregation, web content rating, and discussion website. Registered members submit content to the site and the site is organized by subject into user-created boards called \"subreddits\", which cover a variety of topics such as news, politics, religion, movies, video games, music, books, sports, fitness, cooking, pets, and image-sharing etc. Moderation is also conducted by community-specific moderators, who are not considered Reddit employees.\n",
    "\n",
    "\n",
    "Due to the laissez-faire approach adopted by Reddit with respect to online content, it is common for inappropriate content such as illegal/undesirable activities to be posted online on Reddit before those posts can be removed by community moderators, which can be a time-consuming and tedious process for larger subreddits.\n",
    "\n",
    "### Business Problem\n",
    "\n",
    "The moderators of the r/Football subreddit (the customer) has engaged our Tech Consultancy firm to develop a classification model to detect whether a post is related to Soccer Betting in the subreddit. The moderators do not wish for gambling content to be on the subreddit as there are users who are minors and such content would not be appropriate. The intent is for the model to be ran periodically to remove soccer-betting related posts from the subreddit.\n",
    "\n",
    "\n",
    "### Broad Methodology\n",
    "\n",
    "\n",
    "Data will be obtained from both the r/Football and r/SoccerBetting subreddits so that the classification model can be trained on the keywords in both subreddits.Posts from r/Soccerbetting will be used to obtain words that are associated with soccer betting and gambling. The classification result of a post belonging to r/Soccerbetting will be used as a proxy to signify gambling content in a post. \n",
    "\n",
    "\n",
    "The eventual binary classification model will be able to classify whether a future post belong to r/Football or r/Soccerbetting, if the post is classified as belonging to r/Soccerbetting, it will be flagged as an inappropriate post and be deleted. Automating the moderation of the subreddit will save significant effort on the part of the moderators.\n"
   ]
  },
  {
   "cell_type": "markdown",
   "id": "a69e72c7",
   "metadata": {},
   "source": [
    "## Using the PushShift API to obtain Subreddit Data\n",
    "\n",
    "\n",
    "The [PushShift API](https://github.com/pushshift/api) is used to obtain 2000 posts each from the r/Football and r/Soccerbetting subreddits. This is done via the function `get_posts` which loops several times to load the data into a DataFrame.\n",
    "\n",
    "\n",
    "The DataFrame is then exported as a .csv file to Part 2 to process in a separate notebook."
   ]
  },
  {
   "cell_type": "code",
   "execution_count": 257,
   "id": "ed46668e",
   "metadata": {},
   "outputs": [],
   "source": [
    "import requests\n",
    "import pandas as pd\n",
    "import re\n",
    "\n",
    "pd.options.display.max_columns = 100\n",
    "pd.options.display.max_rows = 100"
   ]
  },
  {
   "cell_type": "code",
   "execution_count": 258,
   "id": "638674ed",
   "metadata": {},
   "outputs": [],
   "source": [
    "def get_posts(num_comments_required, subreddit_name, url='https://api.pushshift.io/reddit/search/submission'):\n",
    "    \n",
    "    num_iter = int(num_comments_required/100)\n",
    "    params = {'size':100,\n",
    "              'subreddit': subreddit_name}\n",
    "    df = pd.DataFrame()\n",
    "   \n",
    "    for i in range(num_iter):\n",
    "        res = requests.get(url, params)\n",
    "        data = res.json()\n",
    "        comments = data['data']\n",
    "        temp = pd.DataFrame(comments)\n",
    "        df = pd.concat([df,temp], axis=0)\n",
    "        params['before'] = comments[-1]['created_utc']\n",
    "    \n",
    "    return df"
   ]
  },
  {
   "cell_type": "code",
   "execution_count": 262,
   "id": "a05fd58e",
   "metadata": {},
   "outputs": [
    {
     "name": "stdout",
     "output_type": "stream",
     "text": [
      "(2000, 82)\n",
      "(2000, 77)\n",
      "(4000, 84)\n"
     ]
    }
   ],
   "source": [
    "df_soccer = get_posts(2000,\"Football\")\n",
    "df_betting = get_posts(2000,\"SoccerBetting\")\n",
    "\n",
    "print(df_soccer.shape)\n",
    "print(df_betting.shape)\n",
    "\n",
    "df = pd.concat([df_soccer, df_betting], axis=0)\n",
    "df.reset_index(drop=True, inplace=True)\n",
    "print(df.shape)"
   ]
  },
  {
   "cell_type": "code",
   "execution_count": 263,
   "id": "a2907015",
   "metadata": {},
   "outputs": [
    {
     "data": {
      "text/plain": [
       "(4000, 3)"
      ]
     },
     "metadata": {},
     "output_type": "display_data"
    }
   ],
   "source": [
    "subreddit = df[['subreddit', 'selftext', 'title']]\n",
    "subreddit.reset_index(drop=True,inplace=True)\n",
    "display(subreddit.shape)\n",
    "\n",
    "subreddit.to_csv('subreddit.csv', index_label=False)"
   ]
  }
 ],
 "metadata": {
  "kernelspec": {
   "display_name": "Python 3 (ipykernel)",
   "language": "python",
   "name": "python3"
  },
  "language_info": {
   "codemirror_mode": {
    "name": "ipython",
    "version": 3
   },
   "file_extension": ".py",
   "mimetype": "text/x-python",
   "name": "python",
   "nbconvert_exporter": "python",
   "pygments_lexer": "ipython3",
   "version": "3.8.12"
  }
 },
 "nbformat": 4,
 "nbformat_minor": 5
}
