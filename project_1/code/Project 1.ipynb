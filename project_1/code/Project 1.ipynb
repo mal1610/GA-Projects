{
 "cells": [
  {
   "cell_type": "markdown",
   "metadata": {},
   "source": [
    "<img src=\"http://imgur.com/1ZcRyrc.png\" style=\"float: left; margin: 20px; height: 55px\">\n",
    "\n",
    "# Project 1: Standardized Test Analysis"
   ]
  },
  {
   "cell_type": "markdown",
   "metadata": {},
   "source": [
    "--- \n",
    "# Part 1\n",
    "\n",
    "Part 1 requires knowledge of basic Python.\n",
    "\n",
    "---"
   ]
  },
  {
   "cell_type": "markdown",
   "metadata": {},
   "source": [
    "## Problem Statement"
   ]
  },
  {
   "cell_type": "markdown",
   "metadata": {},
   "source": [
    "\n",
    "\n",
    "Better student performance is traditionally associated lower Teacher-Student ratios and experienced teachers. \n",
    "\n",
    "\n",
    "As a member of the California State Education Department deliberating whether mandate smaller class sizes or hire more experienced teachers. This project aims conduct a preliminary study to verify this hypothesis in California using data from the 2019 SAT & ACT from K12 test-takers to see if this relationship exists by comparing the\n",
    "\n",
    "\n",
    "    - Teacher-Student Ratio \n",
    "    - Teacher's Teaching Experience (Average years of teaching experience and average years of teaching in the county)\n",
    "\n",
    "of counties with students scoring above the SAT benchmark and ACT score of 21 in 2019 (hereby referred to as the measured outcomes)\n",
    "\n",
    "\n",
    "To answer the question:\n",
    "> \"Do lower Teacher-K12 Student Ratios or greater teacher experience affect the measured outcomes for the SAT and ACT?\"\n",
    "\n",
    "\n"
   ]
  },
  {
   "cell_type": "markdown",
   "metadata": {},
   "source": [
    "### Contents:\n",
    "- [Background](#Background)\n",
    "- [Data Import & Cleaning](#Data-Import-and-Cleaning)\n",
    "- [Exploratory Data Analysis](#Exploratory-Data-Analysis)\n",
    "- [Data Visualization](#Visualize-the-Data)\n",
    "- [Conclusions and Recommendations](#Conclusions-and-Recommendations)"
   ]
  },
  {
   "cell_type": "markdown",
   "metadata": {},
   "source": [
    "## Background"
   ]
  },
  {
   "cell_type": "markdown",
   "metadata": {},
   "source": [
    "The SAT and ACT are standardized tests that many colleges and universities in the United States require for their admissions process. This score is used along with other materials such as grade point average (GPA) and essay responses to determine whether or not a potential student will be accepted to the university.\n",
    "\n",
    "The SAT has two sections of the test: Evidence-Based Reading and Writing and Math ([*source*](https://www.princetonreview.com/college/sat-sections)). The ACT has 4 sections: English, Mathematics, Reading, and Science, with an additional optional writing section ([*source*](https://www.act.org/content/act/en/products-and-services/the-act/scores/understanding-your-scores.html)). They have different score ranges, more information can be found at the websites below:\n",
    "* [SAT](https://collegereadiness.collegeboard.org/sat)\n",
    "* [ACT](https://www.act.org/content/act/en.html)\n",
    "\n",
    "Class size is one of the small number of variables in American K-12 education that are both thought to influence student learning legislative mandates on maximum class size have been very popular at the state level.  In recent decades, at least 24 states have mandated or incentivized class-size reduction (CSR). As small classes would be higher to maintain due to manpower costs (more teachers required) and infrastructure (more classrooms and separate facilities), a deeper study on whether CSR does indeed provide better student outcomes is required.\n",
    "\n",
    "Teacher experience is used as an alternative to compare the effects of Teacher-Student Ratio on the measured SAT and ACT outcomes."
   ]
  },
  {
   "cell_type": "markdown",
   "metadata": {},
   "source": [
    "### Data Used in This Notebook\n",
    "\n",
    "We will be using the following datasets in this notebook, brief description of the datasets below:\n",
    "\n",
    "- State of California 2019 SAT Data `(sat_2019_ca.csv)`: Shows the 2019 SAT outcomes at school, district and county-level by grade 11 & 12 students\n",
    "    \n",
    "- State of California 2019 ACT Data `(act_2019_ca.csv)`: Shows the 2019 ACT outcomes at school, district and county-level by grade 12 students only"
   ]
  },
  {
   "cell_type": "markdown",
   "metadata": {},
   "source": [
    "### Outside Research"
   ]
  },
  {
   "cell_type": "markdown",
   "metadata": {},
   "source": [
    "External data separate from the SAT and ACT scores were obtained from the California Department of Education. The external data are:\n",
    "\n",
    "- 2018-2019 Certificated Staff Education Report: State of California Teachers `(StaffEducation.txt)`: Shows the number of teachers per county by education level for counties in California in 2018-2019\n",
    "\n",
    "\n",
    "- 2018-2019 Certificated Staff Experience Report: State of California Teachers `(StaffExp.txt)`: Shows the average teacher years in service and teaching years in the county for counties in California in 2018-2019"
   ]
  },
  {
   "cell_type": "markdown",
   "metadata": {},
   "source": [
    "### Coding Challenges\n",
    "\n",
    "1. Manually calculate mean:\n",
    "\n",
    "    Write a function that takes in values and returns the mean of the values. Create a list of numbers that you test on your function to check to make sure your function works!\n",
    "    \n",
    "    *Note*: Do not use any mean methods built-in to any Python libraries to do this! This should be done without importing any additional libraries."
   ]
  },
  {
   "cell_type": "code",
   "execution_count": 1,
   "metadata": {},
   "outputs": [],
   "source": [
    "def get_mean(val):\n",
    "    return (sum(val)/len(val))"
   ]
  },
  {
   "cell_type": "code",
   "execution_count": 2,
   "metadata": {},
   "outputs": [
    {
     "data": {
      "text/plain": [
       "2.5"
      ]
     },
     "execution_count": 2,
     "metadata": {},
     "output_type": "execute_result"
    }
   ],
   "source": [
    "# Testing the function 1\n",
    "get_mean([1,2,3,4])"
   ]
  },
  {
   "cell_type": "markdown",
   "metadata": {},
   "source": [
    "2. Manually calculate standard deviation:\n",
    "\n",
    "    The formula for standard deviation is below:\n",
    "\n",
    "    $$\\sigma = \\sqrt{\\frac{1}{n}\\sum_{i=1}^n(x_i - \\mu)^2}$$\n",
    "\n",
    "    Where $x_i$ represents each value in the dataset, $\\mu$ represents the mean of all values in the dataset and $n$ represents the number of values in the dataset.\n",
    "\n",
    "    Write a function that takes in values and returns the standard deviation of the values using the formula above. Hint: use the function you wrote above to calculate the mean! Use the list of numbers you created above to test on your function.\n",
    "    \n",
    "    *Note*: Do not use any standard deviation methods built-in to any Python libraries to do this! This should be done without importing any additional libraries."
   ]
  },
  {
   "cell_type": "code",
   "execution_count": 3,
   "metadata": {},
   "outputs": [],
   "source": [
    "def get_std(val):\n",
    "    total = 0\n",
    "    for i in val:\n",
    "        total += (i-get_mean(val))**2\n",
    "    \n",
    "    return (total/len(val))**(1/2)"
   ]
  },
  {
   "cell_type": "code",
   "execution_count": 4,
   "metadata": {},
   "outputs": [
    {
     "name": "stdout",
     "output_type": "stream",
     "text": [
      "1.118033988749895\n",
      "1.118033988749895\n"
     ]
    }
   ],
   "source": [
    "# We import numpy to check use the .std() method\n",
    "import numpy as np\n",
    "\n",
    "print(get_std([1,2,3,4]))\n",
    "print(np.std([1,2,3,4]))"
   ]
  },
  {
   "cell_type": "markdown",
   "metadata": {},
   "source": [
    "3. Data cleaning function:\n",
    "    \n",
    "    Write a function that takes in a string that is a number and a percent symbol (ex. '50%', '30.5%', etc.) and converts this to a float that is the decimal approximation of the percent. For example, inputting '50%' in your function should return 0.5, '30.5%' should return 0.305, etc. Make sure to test your function to make sure it works!\n",
    "\n",
    "You will use these functions later on in the project!"
   ]
  },
  {
   "cell_type": "code",
   "execution_count": 5,
   "metadata": {},
   "outputs": [],
   "source": [
    "def percent_str_to_float(string):\n",
    "    return float(string.replace(\"%\",\"\"))/100"
   ]
  },
  {
   "cell_type": "code",
   "execution_count": 6,
   "metadata": {},
   "outputs": [
    {
     "name": "stdout",
     "output_type": "stream",
     "text": [
      "0.5\n",
      "0.3055\n"
     ]
    }
   ],
   "source": [
    "# Testing the function using \"50%\" and \"30.55%\"\n",
    "print(percent_str_to_float(\"50%\"))\n",
    "print(percent_str_to_float(\"30.55%\"))"
   ]
  },
  {
   "cell_type": "markdown",
   "metadata": {},
   "source": [
    "--- \n",
    "# Data Import and Cleaning\n",
    "\n",
    "---"
   ]
  },
  {
   "cell_type": "markdown",
   "metadata": {},
   "source": [
    "*All libraries used should be added here*"
   ]
  },
  {
   "cell_type": "code",
   "execution_count": 7,
   "metadata": {},
   "outputs": [],
   "source": [
    "import pandas as pd\n",
    "import numpy as np\n",
    "import matplotlib.pyplot as plt\n",
    "import seaborn as sns\n",
    "\n",
    "%matplotlib inline"
   ]
  },
  {
   "cell_type": "markdown",
   "metadata": {},
   "source": [
    "## Approach\n",
    "We will be adopting the approach below:\n",
    "\n",
    "\n",
    "-  Import and clean the California 2019 SAT dataset, California 2019 ACT dataset, California Teachers Qualifications dataset and California Teacher's Experience dataset\n",
    "-  Create additional columns for the additional metrics required for each DataFrame\n",
    "-  Merge the required columns to form the consolidated SAT and ACT DataFrame for analysis after individual DataFrames are cleaned."
   ]
  },
  {
   "cell_type": "markdown",
   "metadata": {},
   "source": [
    "###  DATASET 1 : California 2019 SAT Outcomes `(sat_2019_ca.csv)`"
   ]
  },
  {
   "cell_type": "code",
   "execution_count": 8,
   "metadata": {
    "scrolled": true
   },
   "outputs": [
    {
     "data": {
      "text/plain": [
       "(2580, 26)"
      ]
     },
     "metadata": {},
     "output_type": "display_data"
    },
    {
     "data": {
      "text/html": [
       "<div>\n",
       "<style scoped>\n",
       "    .dataframe tbody tr th:only-of-type {\n",
       "        vertical-align: middle;\n",
       "    }\n",
       "\n",
       "    .dataframe tbody tr th {\n",
       "        vertical-align: top;\n",
       "    }\n",
       "\n",
       "    .dataframe thead th {\n",
       "        text-align: right;\n",
       "    }\n",
       "</style>\n",
       "<table border=\"1\" class=\"dataframe\">\n",
       "  <thead>\n",
       "    <tr style=\"text-align: right;\">\n",
       "      <th></th>\n",
       "      <th>CDS</th>\n",
       "      <th>CCode</th>\n",
       "      <th>CDCode</th>\n",
       "      <th>SCode</th>\n",
       "      <th>RType</th>\n",
       "      <th>SName</th>\n",
       "      <th>DName</th>\n",
       "      <th>CName</th>\n",
       "      <th>Enroll12</th>\n",
       "      <th>NumTSTTakr12</th>\n",
       "      <th>...</th>\n",
       "      <th>NumERWBenchmark11</th>\n",
       "      <th>PctERWBenchmark11</th>\n",
       "      <th>NumMathBenchmark11</th>\n",
       "      <th>PctMathBenchmark11</th>\n",
       "      <th>TotNumBothBenchmark12</th>\n",
       "      <th>PctBothBenchmark12</th>\n",
       "      <th>TotNumBothBenchmark11</th>\n",
       "      <th>PctBothBenchmark11</th>\n",
       "      <th>Year</th>\n",
       "      <th>Unnamed: 25</th>\n",
       "    </tr>\n",
       "  </thead>\n",
       "  <tbody>\n",
       "    <tr>\n",
       "      <th>0</th>\n",
       "      <td>6.615981e+12</td>\n",
       "      <td>6.0</td>\n",
       "      <td>661598.0</td>\n",
       "      <td>630046.0</td>\n",
       "      <td>S</td>\n",
       "      <td>Colusa Alternative Home</td>\n",
       "      <td>Colusa Unified</td>\n",
       "      <td>Colusa</td>\n",
       "      <td>18.0</td>\n",
       "      <td>0.0</td>\n",
       "      <td>...</td>\n",
       "      <td>NaN</td>\n",
       "      <td>NaN</td>\n",
       "      <td>NaN</td>\n",
       "      <td>NaN</td>\n",
       "      <td>NaN</td>\n",
       "      <td>NaN</td>\n",
       "      <td>NaN</td>\n",
       "      <td>NaN</td>\n",
       "      <td>2018-19</td>\n",
       "      <td>NaN</td>\n",
       "    </tr>\n",
       "    <tr>\n",
       "      <th>1</th>\n",
       "      <td>6.616061e+12</td>\n",
       "      <td>6.0</td>\n",
       "      <td>661606.0</td>\n",
       "      <td>634758.0</td>\n",
       "      <td>S</td>\n",
       "      <td>Maxwell Sr High</td>\n",
       "      <td>Maxwell Unified</td>\n",
       "      <td>Colusa</td>\n",
       "      <td>29.0</td>\n",
       "      <td>10.0</td>\n",
       "      <td>...</td>\n",
       "      <td>*</td>\n",
       "      <td>*</td>\n",
       "      <td>*</td>\n",
       "      <td>*</td>\n",
       "      <td>*</td>\n",
       "      <td>*</td>\n",
       "      <td>*</td>\n",
       "      <td>*</td>\n",
       "      <td>2018-19</td>\n",
       "      <td>NaN</td>\n",
       "    </tr>\n",
       "    <tr>\n",
       "      <th>2</th>\n",
       "      <td>1.964733e+13</td>\n",
       "      <td>19.0</td>\n",
       "      <td>1964733.0</td>\n",
       "      <td>1930924.0</td>\n",
       "      <td>S</td>\n",
       "      <td>Belmont Senior High</td>\n",
       "      <td>Los Angeles Unified</td>\n",
       "      <td>Los Angeles</td>\n",
       "      <td>206.0</td>\n",
       "      <td>102.0</td>\n",
       "      <td>...</td>\n",
       "      <td>42</td>\n",
       "      <td>24.14</td>\n",
       "      <td>12</td>\n",
       "      <td>6.90</td>\n",
       "      <td>14</td>\n",
       "      <td>13.73</td>\n",
       "      <td>11</td>\n",
       "      <td>6.32</td>\n",
       "      <td>2018-19</td>\n",
       "      <td>NaN</td>\n",
       "    </tr>\n",
       "    <tr>\n",
       "      <th>3</th>\n",
       "      <td>1.964733e+13</td>\n",
       "      <td>19.0</td>\n",
       "      <td>1964733.0</td>\n",
       "      <td>1931476.0</td>\n",
       "      <td>S</td>\n",
       "      <td>Canoga Park Senior High</td>\n",
       "      <td>Los Angeles Unified</td>\n",
       "      <td>Los Angeles</td>\n",
       "      <td>227.0</td>\n",
       "      <td>113.0</td>\n",
       "      <td>...</td>\n",
       "      <td>97</td>\n",
       "      <td>35.27</td>\n",
       "      <td>37</td>\n",
       "      <td>13.45</td>\n",
       "      <td>18</td>\n",
       "      <td>15.93</td>\n",
       "      <td>35</td>\n",
       "      <td>12.73</td>\n",
       "      <td>2018-19</td>\n",
       "      <td>NaN</td>\n",
       "    </tr>\n",
       "    <tr>\n",
       "      <th>4</th>\n",
       "      <td>1.964733e+13</td>\n",
       "      <td>19.0</td>\n",
       "      <td>1964733.0</td>\n",
       "      <td>1931856.0</td>\n",
       "      <td>S</td>\n",
       "      <td>Whitman Continuation</td>\n",
       "      <td>Los Angeles Unified</td>\n",
       "      <td>Los Angeles</td>\n",
       "      <td>18.0</td>\n",
       "      <td>14.0</td>\n",
       "      <td>...</td>\n",
       "      <td>*</td>\n",
       "      <td>*</td>\n",
       "      <td>*</td>\n",
       "      <td>*</td>\n",
       "      <td>*</td>\n",
       "      <td>*</td>\n",
       "      <td>*</td>\n",
       "      <td>*</td>\n",
       "      <td>2018-19</td>\n",
       "      <td>NaN</td>\n",
       "    </tr>\n",
       "  </tbody>\n",
       "</table>\n",
       "<p>5 rows × 26 columns</p>\n",
       "</div>"
      ],
      "text/plain": [
       "            CDS  CCode     CDCode      SCode RType                    SName  \\\n",
       "0  6.615981e+12    6.0   661598.0   630046.0     S  Colusa Alternative Home   \n",
       "1  6.616061e+12    6.0   661606.0   634758.0     S          Maxwell Sr High   \n",
       "2  1.964733e+13   19.0  1964733.0  1930924.0     S      Belmont Senior High   \n",
       "3  1.964733e+13   19.0  1964733.0  1931476.0     S  Canoga Park Senior High   \n",
       "4  1.964733e+13   19.0  1964733.0  1931856.0     S     Whitman Continuation   \n",
       "\n",
       "                 DName        CName  Enroll12  NumTSTTakr12  ...  \\\n",
       "0       Colusa Unified       Colusa      18.0           0.0  ...   \n",
       "1      Maxwell Unified       Colusa      29.0          10.0  ...   \n",
       "2  Los Angeles Unified  Los Angeles     206.0         102.0  ...   \n",
       "3  Los Angeles Unified  Los Angeles     227.0         113.0  ...   \n",
       "4  Los Angeles Unified  Los Angeles      18.0          14.0  ...   \n",
       "\n",
       "  NumERWBenchmark11 PctERWBenchmark11 NumMathBenchmark11 PctMathBenchmark11  \\\n",
       "0               NaN               NaN                NaN                NaN   \n",
       "1                 *                 *                  *                  *   \n",
       "2                42             24.14                 12               6.90   \n",
       "3                97             35.27                 37              13.45   \n",
       "4                 *                 *                  *                  *   \n",
       "\n",
       "   TotNumBothBenchmark12  PctBothBenchmark12 TotNumBothBenchmark11  \\\n",
       "0                    NaN                 NaN                   NaN   \n",
       "1                      *                   *                     *   \n",
       "2                     14               13.73                    11   \n",
       "3                     18               15.93                    35   \n",
       "4                      *                   *                     *   \n",
       "\n",
       "  PctBothBenchmark11     Year Unnamed: 25  \n",
       "0                NaN  2018-19         NaN  \n",
       "1                  *  2018-19         NaN  \n",
       "2               6.32  2018-19         NaN  \n",
       "3              12.73  2018-19         NaN  \n",
       "4                  *  2018-19         NaN  \n",
       "\n",
       "[5 rows x 26 columns]"
      ]
     },
     "metadata": {},
     "output_type": "display_data"
    }
   ],
   "source": [
    "# Display the data: print the first 5 rows of each dataframe to your Jupyter notebook\n",
    "\n",
    "sat_ca = pd.read_csv(\"../data/sat_2019_ca.csv\")\n",
    "display(sat_ca.shape)\n",
    "display(sat_ca.head())"
   ]
  },
  {
   "cell_type": "code",
   "execution_count": 9,
   "metadata": {},
   "outputs": [
    {
     "data": {
      "text/plain": [
       "(58, 26)"
      ]
     },
     "metadata": {},
     "output_type": "display_data"
    },
    {
     "data": {
      "text/html": [
       "<div>\n",
       "<style scoped>\n",
       "    .dataframe tbody tr th:only-of-type {\n",
       "        vertical-align: middle;\n",
       "    }\n",
       "\n",
       "    .dataframe tbody tr th {\n",
       "        vertical-align: top;\n",
       "    }\n",
       "\n",
       "    .dataframe thead th {\n",
       "        text-align: right;\n",
       "    }\n",
       "</style>\n",
       "<table border=\"1\" class=\"dataframe\">\n",
       "  <thead>\n",
       "    <tr style=\"text-align: right;\">\n",
       "      <th></th>\n",
       "      <th>CDS</th>\n",
       "      <th>CCode</th>\n",
       "      <th>CDCode</th>\n",
       "      <th>SCode</th>\n",
       "      <th>RType</th>\n",
       "      <th>SName</th>\n",
       "      <th>DName</th>\n",
       "      <th>CName</th>\n",
       "      <th>Enroll12</th>\n",
       "      <th>NumTSTTakr12</th>\n",
       "      <th>...</th>\n",
       "      <th>NumERWBenchmark11</th>\n",
       "      <th>PctERWBenchmark11</th>\n",
       "      <th>NumMathBenchmark11</th>\n",
       "      <th>PctMathBenchmark11</th>\n",
       "      <th>TotNumBothBenchmark12</th>\n",
       "      <th>PctBothBenchmark12</th>\n",
       "      <th>TotNumBothBenchmark11</th>\n",
       "      <th>PctBothBenchmark11</th>\n",
       "      <th>Year</th>\n",
       "      <th>Unnamed: 25</th>\n",
       "    </tr>\n",
       "  </thead>\n",
       "  <tbody>\n",
       "    <tr>\n",
       "      <th>1981</th>\n",
       "      <td>9.000000e+12</td>\n",
       "      <td>9.0</td>\n",
       "      <td>900000.0</td>\n",
       "      <td>0.0</td>\n",
       "      <td>C</td>\n",
       "      <td>NaN</td>\n",
       "      <td>NaN</td>\n",
       "      <td>El Dorado</td>\n",
       "      <td>2226.0</td>\n",
       "      <td>604.0</td>\n",
       "      <td>...</td>\n",
       "      <td>667</td>\n",
       "      <td>93.55</td>\n",
       "      <td>636</td>\n",
       "      <td>89.20</td>\n",
       "      <td>442</td>\n",
       "      <td>73.18</td>\n",
       "      <td>619</td>\n",
       "      <td>86.82</td>\n",
       "      <td>2018-19</td>\n",
       "      <td>NaN</td>\n",
       "    </tr>\n",
       "    <tr>\n",
       "      <th>1982</th>\n",
       "      <td>1.900000e+13</td>\n",
       "      <td>19.0</td>\n",
       "      <td>1900000.0</td>\n",
       "      <td>0.0</td>\n",
       "      <td>C</td>\n",
       "      <td>NaN</td>\n",
       "      <td>NaN</td>\n",
       "      <td>Los Angeles</td>\n",
       "      <td>114618.0</td>\n",
       "      <td>48676.0</td>\n",
       "      <td>...</td>\n",
       "      <td>39363</td>\n",
       "      <td>57.65</td>\n",
       "      <td>26064</td>\n",
       "      <td>38.18</td>\n",
       "      <td>18555</td>\n",
       "      <td>38.12</td>\n",
       "      <td>24602</td>\n",
       "      <td>36.03</td>\n",
       "      <td>2018-19</td>\n",
       "      <td>NaN</td>\n",
       "    </tr>\n",
       "    <tr>\n",
       "      <th>1983</th>\n",
       "      <td>2.000000e+13</td>\n",
       "      <td>20.0</td>\n",
       "      <td>2000000.0</td>\n",
       "      <td>0.0</td>\n",
       "      <td>C</td>\n",
       "      <td>NaN</td>\n",
       "      <td>NaN</td>\n",
       "      <td>Madera</td>\n",
       "      <td>2352.0</td>\n",
       "      <td>442.0</td>\n",
       "      <td>...</td>\n",
       "      <td>608</td>\n",
       "      <td>47.13</td>\n",
       "      <td>316</td>\n",
       "      <td>24.50</td>\n",
       "      <td>127</td>\n",
       "      <td>28.73</td>\n",
       "      <td>293</td>\n",
       "      <td>22.71</td>\n",
       "      <td>2018-19</td>\n",
       "      <td>NaN</td>\n",
       "    </tr>\n",
       "    <tr>\n",
       "      <th>1984</th>\n",
       "      <td>5.700000e+13</td>\n",
       "      <td>57.0</td>\n",
       "      <td>5700000.0</td>\n",
       "      <td>0.0</td>\n",
       "      <td>C</td>\n",
       "      <td>NaN</td>\n",
       "      <td>NaN</td>\n",
       "      <td>Yolo</td>\n",
       "      <td>2299.0</td>\n",
       "      <td>759.0</td>\n",
       "      <td>...</td>\n",
       "      <td>709</td>\n",
       "      <td>88.85</td>\n",
       "      <td>605</td>\n",
       "      <td>75.81</td>\n",
       "      <td>443</td>\n",
       "      <td>58.37</td>\n",
       "      <td>591</td>\n",
       "      <td>74.06</td>\n",
       "      <td>2018-19</td>\n",
       "      <td>NaN</td>\n",
       "    </tr>\n",
       "    <tr>\n",
       "      <th>1985</th>\n",
       "      <td>1.500000e+13</td>\n",
       "      <td>15.0</td>\n",
       "      <td>1500000.0</td>\n",
       "      <td>0.0</td>\n",
       "      <td>C</td>\n",
       "      <td>NaN</td>\n",
       "      <td>NaN</td>\n",
       "      <td>Kern</td>\n",
       "      <td>14229.0</td>\n",
       "      <td>3793.0</td>\n",
       "      <td>...</td>\n",
       "      <td>2077</td>\n",
       "      <td>74.47</td>\n",
       "      <td>1570</td>\n",
       "      <td>56.29</td>\n",
       "      <td>1364</td>\n",
       "      <td>35.96</td>\n",
       "      <td>1454</td>\n",
       "      <td>52.13</td>\n",
       "      <td>2018-19</td>\n",
       "      <td>NaN</td>\n",
       "    </tr>\n",
       "  </tbody>\n",
       "</table>\n",
       "<p>5 rows × 26 columns</p>\n",
       "</div>"
      ],
      "text/plain": [
       "               CDS  CCode     CDCode  SCode RType SName DName        CName  \\\n",
       "1981  9.000000e+12    9.0   900000.0    0.0     C   NaN   NaN    El Dorado   \n",
       "1982  1.900000e+13   19.0  1900000.0    0.0     C   NaN   NaN  Los Angeles   \n",
       "1983  2.000000e+13   20.0  2000000.0    0.0     C   NaN   NaN       Madera   \n",
       "1984  5.700000e+13   57.0  5700000.0    0.0     C   NaN   NaN         Yolo   \n",
       "1985  1.500000e+13   15.0  1500000.0    0.0     C   NaN   NaN         Kern   \n",
       "\n",
       "      Enroll12  NumTSTTakr12  ... NumERWBenchmark11 PctERWBenchmark11  \\\n",
       "1981    2226.0         604.0  ...               667             93.55   \n",
       "1982  114618.0       48676.0  ...             39363             57.65   \n",
       "1983    2352.0         442.0  ...               608             47.13   \n",
       "1984    2299.0         759.0  ...               709             88.85   \n",
       "1985   14229.0        3793.0  ...              2077             74.47   \n",
       "\n",
       "     NumMathBenchmark11 PctMathBenchmark11  TotNumBothBenchmark12  \\\n",
       "1981                636              89.20                    442   \n",
       "1982              26064              38.18                  18555   \n",
       "1983                316              24.50                    127   \n",
       "1984                605              75.81                    443   \n",
       "1985               1570              56.29                   1364   \n",
       "\n",
       "      PctBothBenchmark12 TotNumBothBenchmark11 PctBothBenchmark11     Year  \\\n",
       "1981               73.18                   619              86.82  2018-19   \n",
       "1982               38.12                 24602              36.03  2018-19   \n",
       "1983               28.73                   293              22.71  2018-19   \n",
       "1984               58.37                   591              74.06  2018-19   \n",
       "1985               35.96                  1454              52.13  2018-19   \n",
       "\n",
       "     Unnamed: 25  \n",
       "1981         NaN  \n",
       "1982         NaN  \n",
       "1983         NaN  \n",
       "1984         NaN  \n",
       "1985         NaN  \n",
       "\n",
       "[5 rows x 26 columns]"
      ]
     },
     "metadata": {},
     "output_type": "display_data"
    }
   ],
   "source": [
    "# Filter down to county-level & verify 58 counties are included\n",
    "sat_ca_county = sat_ca[sat_ca[\"RType\"]==\"C\"]\n",
    "display(sat_ca_county.shape)\n",
    "display(sat_ca_county.head())"
   ]
  },
  {
   "cell_type": "code",
   "execution_count": 10,
   "metadata": {},
   "outputs": [
    {
     "data": {
      "text/plain": [
       "CName                    0\n",
       "Enroll12                 0\n",
       "NumTSTTakr12             0\n",
       "TotNumBothBenchmark12    1\n",
       "PctBothBenchmark12       1\n",
       "dtype: int64"
      ]
     },
     "metadata": {},
     "output_type": "display_data"
    },
    {
     "data": {
      "text/html": [
       "<div>\n",
       "<style scoped>\n",
       "    .dataframe tbody tr th:only-of-type {\n",
       "        vertical-align: middle;\n",
       "    }\n",
       "\n",
       "    .dataframe tbody tr th {\n",
       "        vertical-align: top;\n",
       "    }\n",
       "\n",
       "    .dataframe thead th {\n",
       "        text-align: right;\n",
       "    }\n",
       "</style>\n",
       "<table border=\"1\" class=\"dataframe\">\n",
       "  <thead>\n",
       "    <tr style=\"text-align: right;\">\n",
       "      <th></th>\n",
       "      <th>CName</th>\n",
       "      <th>Enroll12</th>\n",
       "      <th>NumTSTTakr12</th>\n",
       "      <th>TotNumBothBenchmark12</th>\n",
       "      <th>PctBothBenchmark12</th>\n",
       "    </tr>\n",
       "  </thead>\n",
       "  <tbody>\n",
       "    <tr>\n",
       "      <th>2012</th>\n",
       "      <td>Alpine</td>\n",
       "      <td>0.0</td>\n",
       "      <td>0.0</td>\n",
       "      <td>NaN</td>\n",
       "      <td>NaN</td>\n",
       "    </tr>\n",
       "  </tbody>\n",
       "</table>\n",
       "</div>"
      ],
      "text/plain": [
       "       CName  Enroll12  NumTSTTakr12 TotNumBothBenchmark12 PctBothBenchmark12\n",
       "2012  Alpine       0.0           0.0                   NaN                NaN"
      ]
     },
     "metadata": {},
     "output_type": "display_data"
    }
   ],
   "source": [
    "# Create a new dataframe with columns that we require\n",
    "sat_ca_county_processed = sat_ca_county[[\"CName\", \"Enroll12\", \"NumTSTTakr12\", \"TotNumBothBenchmark12\",\"PctBothBenchmark12\"]]\n",
    "\n",
    "# Checking for null values\n",
    "display(sat_ca_county_processed.isnull().sum()) # Show columns with null values\n",
    "display(sat_ca_county_processed[sat_ca_county_processed.isnull().any(axis=1)]) # Show rows with the above null values"
   ]
  },
  {
   "cell_type": "markdown",
   "metadata": {},
   "source": [
    "There is only a single row which contains **ALL** the null values. We will drop data from Alpine county.<br><br>\n",
    "\n"
   ]
  },
  {
   "cell_type": "code",
   "execution_count": 11,
   "metadata": {},
   "outputs": [
    {
     "name": "stderr",
     "output_type": "stream",
     "text": [
      "C:\\Users\\User\\anaconda3\\lib\\site-packages\\pandas\\core\\frame.py:4308: SettingWithCopyWarning: \n",
      "A value is trying to be set on a copy of a slice from a DataFrame\n",
      "\n",
      "See the caveats in the documentation: https://pandas.pydata.org/pandas-docs/stable/user_guide/indexing.html#returning-a-view-versus-a-copy\n",
      "  return super().drop(\n"
     ]
    }
   ],
   "source": [
    "sat_ca_county_processed.drop(2012,inplace=True) # Drop the row with the missing value"
   ]
  },
  {
   "cell_type": "code",
   "execution_count": 12,
   "metadata": {},
   "outputs": [
    {
     "name": "stdout",
     "output_type": "stream",
     "text": [
      "could not convert string to float: '*'\n"
     ]
    }
   ],
   "source": [
    "# convert numerical values to float and check for string characters in data\n",
    "numerical_cols_sat = list(sat_ca_county_processed.columns)[1:]\n",
    "\n",
    "try:\n",
    "    sat_ca_county_processed = sat_ca_county_processed[numerical_cols_sat].astype(float)\n",
    "except ValueError as e:\n",
    "    print(e) # Need to remove \"*\" from the columns\n"
   ]
  },
  {
   "cell_type": "code",
   "execution_count": 13,
   "metadata": {},
   "outputs": [
    {
     "data": {
      "text/html": [
       "<div>\n",
       "<style scoped>\n",
       "    .dataframe tbody tr th:only-of-type {\n",
       "        vertical-align: middle;\n",
       "    }\n",
       "\n",
       "    .dataframe tbody tr th {\n",
       "        vertical-align: top;\n",
       "    }\n",
       "\n",
       "    .dataframe thead th {\n",
       "        text-align: right;\n",
       "    }\n",
       "</style>\n",
       "<table border=\"1\" class=\"dataframe\">\n",
       "  <thead>\n",
       "    <tr style=\"text-align: right;\">\n",
       "      <th></th>\n",
       "      <th>CName</th>\n",
       "      <th>Enroll12</th>\n",
       "      <th>NumTSTTakr12</th>\n",
       "      <th>TotNumBothBenchmark12</th>\n",
       "      <th>PctBothBenchmark12</th>\n",
       "    </tr>\n",
       "  </thead>\n",
       "  <tbody>\n",
       "    <tr>\n",
       "      <th>1988</th>\n",
       "      <td>Sierra</td>\n",
       "      <td>23.0</td>\n",
       "      <td>5.0</td>\n",
       "      <td>NaN</td>\n",
       "      <td>NaN</td>\n",
       "    </tr>\n",
       "    <tr>\n",
       "      <th>2018</th>\n",
       "      <td>Trinity</td>\n",
       "      <td>154.0</td>\n",
       "      <td>13.0</td>\n",
       "      <td>NaN</td>\n",
       "      <td>NaN</td>\n",
       "    </tr>\n",
       "  </tbody>\n",
       "</table>\n",
       "</div>"
      ],
      "text/plain": [
       "        CName  Enroll12  NumTSTTakr12 TotNumBothBenchmark12 PctBothBenchmark12\n",
       "1988   Sierra      23.0           5.0                   NaN                NaN\n",
       "2018  Trinity     154.0          13.0                   NaN                NaN"
      ]
     },
     "metadata": {},
     "output_type": "display_data"
    }
   ],
   "source": [
    "# Removing str characters and converting to desired datatype\n",
    "sat_ca_county_processed = sat_ca_county_processed.replace(\"*\",np.nan) # Display rows with string characters \n",
    "display(sat_ca_county_processed[sat_ca_county_processed.isnull().any(axis=1)]) # 2 rows contain \"*\"\n",
    "\n",
    "\n",
    "sat_ca_county_processed.dropna(axis=0,inplace=True) # Drop the above rows away, converting numerical values to float \n",
    "sat_ca_county_processed[numerical_cols_sat] = sat_ca_county_processed[numerical_cols_sat].astype(float) # Datatype conversion"
   ]
  },
  {
   "cell_type": "code",
   "execution_count": 14,
   "metadata": {},
   "outputs": [
    {
     "data": {
      "text/plain": [
       "(55, 5)"
      ]
     },
     "metadata": {},
     "output_type": "display_data"
    },
    {
     "data": {
      "text/html": [
       "<div>\n",
       "<style scoped>\n",
       "    .dataframe tbody tr th:only-of-type {\n",
       "        vertical-align: middle;\n",
       "    }\n",
       "\n",
       "    .dataframe tbody tr th {\n",
       "        vertical-align: top;\n",
       "    }\n",
       "\n",
       "    .dataframe thead th {\n",
       "        text-align: right;\n",
       "    }\n",
       "</style>\n",
       "<table border=\"1\" class=\"dataframe\">\n",
       "  <thead>\n",
       "    <tr style=\"text-align: right;\">\n",
       "      <th></th>\n",
       "      <th>county</th>\n",
       "      <th>k12_enrollment</th>\n",
       "      <th>k12_test_takers</th>\n",
       "      <th>participation_rate</th>\n",
       "      <th>pct_met_bm</th>\n",
       "    </tr>\n",
       "  </thead>\n",
       "  <tbody>\n",
       "    <tr>\n",
       "      <th>0</th>\n",
       "      <td>Alameda</td>\n",
       "      <td>17567.0</td>\n",
       "      <td>5946.0</td>\n",
       "      <td>33.848</td>\n",
       "      <td>19.685</td>\n",
       "    </tr>\n",
       "    <tr>\n",
       "      <th>1</th>\n",
       "      <td>Amador</td>\n",
       "      <td>305.0</td>\n",
       "      <td>53.0</td>\n",
       "      <td>17.377</td>\n",
       "      <td>10.820</td>\n",
       "    </tr>\n",
       "    <tr>\n",
       "      <th>2</th>\n",
       "      <td>Butte</td>\n",
       "      <td>2551.0</td>\n",
       "      <td>551.0</td>\n",
       "      <td>21.599</td>\n",
       "      <td>13.015</td>\n",
       "    </tr>\n",
       "    <tr>\n",
       "      <th>3</th>\n",
       "      <td>Calaveras</td>\n",
       "      <td>451.0</td>\n",
       "      <td>90.0</td>\n",
       "      <td>19.956</td>\n",
       "      <td>13.304</td>\n",
       "    </tr>\n",
       "    <tr>\n",
       "      <th>4</th>\n",
       "      <td>Colusa</td>\n",
       "      <td>339.0</td>\n",
       "      <td>74.0</td>\n",
       "      <td>21.829</td>\n",
       "      <td>4.130</td>\n",
       "    </tr>\n",
       "  </tbody>\n",
       "</table>\n",
       "</div>"
      ],
      "text/plain": [
       "      county  k12_enrollment  k12_test_takers  participation_rate  pct_met_bm\n",
       "0    Alameda         17567.0           5946.0              33.848      19.685\n",
       "1     Amador           305.0             53.0              17.377      10.820\n",
       "2      Butte          2551.0            551.0              21.599      13.015\n",
       "3  Calaveras           451.0             90.0              19.956      13.304\n",
       "4     Colusa           339.0             74.0              21.829       4.130"
      ]
     },
     "metadata": {},
     "output_type": "display_data"
    },
    {
     "data": {
      "text/plain": [
       "county                 object\n",
       "k12_enrollment        float64\n",
       "k12_test_takers       float64\n",
       "participation_rate    float64\n",
       "pct_met_bm            float64\n",
       "dtype: object"
      ]
     },
     "metadata": {},
     "output_type": "display_data"
    }
   ],
   "source": [
    "# Creating new columns to derive metrics we require\n",
    "sat_ca_county_processed[\"participation_rate\"] = round(100*((sat_ca_county_processed[\"NumTSTTakr12\"])/ sat_ca_county_processed[\"Enroll12\"]),3)\n",
    "sat_ca_county_processed[\"pct_met_bm\"] = round(100* ((sat_ca_county_processed[\"TotNumBothBenchmark12\"])/ sat_ca_county_processed[\"Enroll12\"]),3)\n",
    "\n",
    "# Drop columns we do not need and reset index\n",
    "sat_ca_county_processed.drop(columns=[\"TotNumBothBenchmark12\", \"PctBothBenchmark12\"], inplace=True)\n",
    "sat_ca_county_processed.reset_index(drop=True, inplace=True)\n",
    "\n",
    "# Renaming the columns and reset index\n",
    "sat_ca_county_processed.rename(columns = {'CName':'county', 'Enroll12':'k12_enrollment', 'NumTSTTakr12':'k12_test_takers'}, inplace=True)\n",
    "sat_ca_county_processed.sort_values(\"county\", inplace=True)\n",
    "sat_ca_county_processed.reset_index(drop=True, inplace=True)\n",
    "display(sat_ca_county_processed.shape)\n",
    "display(sat_ca_county_processed.head())\n",
    "display(sat_ca_county_processed.dtypes)"
   ]
  },
  {
   "cell_type": "markdown",
   "metadata": {},
   "source": [
    "### DATASET 2: California 2019 ACT Outcomes `(act_2019_ca.csv)`"
   ]
  },
  {
   "cell_type": "markdown",
   "metadata": {},
   "source": [
    "Since we are only interested in County-level data, we will:\n",
    "\n",
    "\n",
    "1. Create a new dataframe which only contains the columns required.\n",
    "\n",
    "\n",
    "      CName : County Name \n",
    "      Enroll12 : K12 Enrollment for the County \n",
    "      NumTSTTakr12 : Number of K12 Test-Takers \n",
    "      NumGE21 : Number of K12 Test-Takers Scoring 21 Marks and Above\n",
    "      PctGE21 : Percentage of K12 Test-Takers Scoring 21 Marks and Above\n",
    "\n",
    "\n",
    "\n",
    "2. Check for null and incorrect values in the DataFrame\n",
    "\n",
    "\n",
    "3. Rename columns and reset index.\n"
   ]
  },
  {
   "cell_type": "code",
   "execution_count": 15,
   "metadata": {},
   "outputs": [
    {
     "name": "stdout",
     "output_type": "stream",
     "text": [
      "(58, 18)\n"
     ]
    }
   ],
   "source": [
    "# Display the data: print the first 5 rows of each dataframe to your Jupyter notebook\n",
    "act_ca = pd.read_csv(\"../data/act_2019_ca.csv\")\n",
    "act_ca.head()\n",
    "\n",
    "# Filter down to county-level & verify 58 counties are included\n",
    "act_ca_county = act_ca[act_ca[\"RType\"]==\"C\"]\n",
    "print(act_ca_county.shape)"
   ]
  },
  {
   "cell_type": "code",
   "execution_count": 16,
   "metadata": {},
   "outputs": [],
   "source": [
    "# Create a new DataFrame with required columns \n",
    "act_ca_county_processed = act_ca_county[[\"CName\", \"Enroll12\", \"NumTstTakr\",\"PctGE21\"]]"
   ]
  },
  {
   "cell_type": "code",
   "execution_count": 17,
   "metadata": {},
   "outputs": [
    {
     "data": {
      "text/plain": [
       "CName         0\n",
       "Enroll12      0\n",
       "NumTstTakr    0\n",
       "PctGE21       1\n",
       "dtype: int64"
      ]
     },
     "metadata": {},
     "output_type": "display_data"
    },
    {
     "data": {
      "text/html": [
       "<div>\n",
       "<style scoped>\n",
       "    .dataframe tbody tr th:only-of-type {\n",
       "        vertical-align: middle;\n",
       "    }\n",
       "\n",
       "    .dataframe tbody tr th {\n",
       "        vertical-align: top;\n",
       "    }\n",
       "\n",
       "    .dataframe thead th {\n",
       "        text-align: right;\n",
       "    }\n",
       "</style>\n",
       "<table border=\"1\" class=\"dataframe\">\n",
       "  <thead>\n",
       "    <tr style=\"text-align: right;\">\n",
       "      <th></th>\n",
       "      <th>CName</th>\n",
       "      <th>Enroll12</th>\n",
       "      <th>NumTstTakr</th>\n",
       "      <th>PctGE21</th>\n",
       "    </tr>\n",
       "  </thead>\n",
       "  <tbody>\n",
       "    <tr>\n",
       "      <th>1103</th>\n",
       "      <td>Alpine</td>\n",
       "      <td>0.0</td>\n",
       "      <td>0.0</td>\n",
       "      <td>NaN</td>\n",
       "    </tr>\n",
       "  </tbody>\n",
       "</table>\n",
       "</div>"
      ],
      "text/plain": [
       "       CName  Enroll12  NumTstTakr PctGE21\n",
       "1103  Alpine       0.0         0.0     NaN"
      ]
     },
     "metadata": {},
     "output_type": "display_data"
    },
    {
     "name": "stdout",
     "output_type": "stream",
     "text": [
      "could not convert string to float: '*'\n"
     ]
    },
    {
     "name": "stderr",
     "output_type": "stream",
     "text": [
      "C:\\Users\\User\\anaconda3\\lib\\site-packages\\pandas\\core\\frame.py:4308: SettingWithCopyWarning: \n",
      "A value is trying to be set on a copy of a slice from a DataFrame\n",
      "\n",
      "See the caveats in the documentation: https://pandas.pydata.org/pandas-docs/stable/user_guide/indexing.html#returning-a-view-versus-a-copy\n",
      "  return super().drop(\n"
     ]
    }
   ],
   "source": [
    "# Check for missing values and incorrect values\n",
    "display(act_ca_county_processed.isnull().sum()) # Show columns with null values\n",
    "display(act_ca_county_processed[act_ca_county_processed.isnull().any(axis=1)]) # Show rows which contain above null values\n",
    "act_ca_county_processed.drop(1103, inplace=True) # Drop row that contained the null values\n",
    "\n",
    "numerical_cols_act = list(act_ca_county_processed)[1:]\n",
    "try: # Check for other string characters\n",
    "    act_ca_county_processed = act_ca_county_processed[numerical_cols_act].astype(float)\n",
    "except ValueError as e:\n",
    "    print(e) # Need to remove \"*\" from the columns"
   ]
  },
  {
   "cell_type": "code",
   "execution_count": 18,
   "metadata": {},
   "outputs": [
    {
     "data": {
      "text/html": [
       "<div>\n",
       "<style scoped>\n",
       "    .dataframe tbody tr th:only-of-type {\n",
       "        vertical-align: middle;\n",
       "    }\n",
       "\n",
       "    .dataframe tbody tr th {\n",
       "        vertical-align: top;\n",
       "    }\n",
       "\n",
       "    .dataframe thead th {\n",
       "        text-align: right;\n",
       "    }\n",
       "</style>\n",
       "<table border=\"1\" class=\"dataframe\">\n",
       "  <thead>\n",
       "    <tr style=\"text-align: right;\">\n",
       "      <th></th>\n",
       "      <th>CName</th>\n",
       "      <th>Enroll12</th>\n",
       "      <th>NumTstTakr</th>\n",
       "      <th>PctGE21</th>\n",
       "    </tr>\n",
       "  </thead>\n",
       "  <tbody>\n",
       "    <tr>\n",
       "      <th>1076</th>\n",
       "      <td>Sierra</td>\n",
       "      <td>23.0</td>\n",
       "      <td>3.0</td>\n",
       "      <td>NaN</td>\n",
       "    </tr>\n",
       "    <tr>\n",
       "      <th>1100</th>\n",
       "      <td>Plumas</td>\n",
       "      <td>163.0</td>\n",
       "      <td>9.0</td>\n",
       "      <td>NaN</td>\n",
       "    </tr>\n",
       "    <tr>\n",
       "      <th>1105</th>\n",
       "      <td>Del Norte</td>\n",
       "      <td>363.0</td>\n",
       "      <td>5.0</td>\n",
       "      <td>NaN</td>\n",
       "    </tr>\n",
       "  </tbody>\n",
       "</table>\n",
       "</div>"
      ],
      "text/plain": [
       "          CName  Enroll12  NumTstTakr PctGE21\n",
       "1076     Sierra      23.0         3.0     NaN\n",
       "1100     Plumas     163.0         9.0     NaN\n",
       "1105  Del Norte     363.0         5.0     NaN"
      ]
     },
     "metadata": {},
     "output_type": "display_data"
    },
    {
     "data": {
      "text/plain": [
       "(54, 5)"
      ]
     },
     "metadata": {},
     "output_type": "display_data"
    },
    {
     "data": {
      "text/plain": [
       "county                 object\n",
       "k12_enrollment        float64\n",
       "k12_test_takers       float64\n",
       "pct_>=21              float64\n",
       "participation_rate    float64\n",
       "dtype: object"
      ]
     },
     "metadata": {},
     "output_type": "display_data"
    },
    {
     "data": {
      "text/html": [
       "<div>\n",
       "<style scoped>\n",
       "    .dataframe tbody tr th:only-of-type {\n",
       "        vertical-align: middle;\n",
       "    }\n",
       "\n",
       "    .dataframe tbody tr th {\n",
       "        vertical-align: top;\n",
       "    }\n",
       "\n",
       "    .dataframe thead th {\n",
       "        text-align: right;\n",
       "    }\n",
       "</style>\n",
       "<table border=\"1\" class=\"dataframe\">\n",
       "  <thead>\n",
       "    <tr style=\"text-align: right;\">\n",
       "      <th></th>\n",
       "      <th>county</th>\n",
       "      <th>k12_enrollment</th>\n",
       "      <th>k12_test_takers</th>\n",
       "      <th>pct_&gt;=21</th>\n",
       "      <th>participation_rate</th>\n",
       "    </tr>\n",
       "  </thead>\n",
       "  <tbody>\n",
       "    <tr>\n",
       "      <th>0</th>\n",
       "      <td>Alameda</td>\n",
       "      <td>17567.0</td>\n",
       "      <td>3630.0</td>\n",
       "      <td>67.74</td>\n",
       "      <td>20.664</td>\n",
       "    </tr>\n",
       "    <tr>\n",
       "      <th>1</th>\n",
       "      <td>Amador</td>\n",
       "      <td>305.0</td>\n",
       "      <td>37.0</td>\n",
       "      <td>78.38</td>\n",
       "      <td>12.131</td>\n",
       "    </tr>\n",
       "    <tr>\n",
       "      <th>2</th>\n",
       "      <td>Butte</td>\n",
       "      <td>2551.0</td>\n",
       "      <td>226.0</td>\n",
       "      <td>64.60</td>\n",
       "      <td>8.859</td>\n",
       "    </tr>\n",
       "    <tr>\n",
       "      <th>3</th>\n",
       "      <td>Calaveras</td>\n",
       "      <td>451.0</td>\n",
       "      <td>31.0</td>\n",
       "      <td>87.10</td>\n",
       "      <td>6.874</td>\n",
       "    </tr>\n",
       "    <tr>\n",
       "      <th>4</th>\n",
       "      <td>Colusa</td>\n",
       "      <td>339.0</td>\n",
       "      <td>26.0</td>\n",
       "      <td>34.62</td>\n",
       "      <td>7.670</td>\n",
       "    </tr>\n",
       "  </tbody>\n",
       "</table>\n",
       "</div>"
      ],
      "text/plain": [
       "      county  k12_enrollment  k12_test_takers  pct_>=21  participation_rate\n",
       "0    Alameda         17567.0           3630.0     67.74              20.664\n",
       "1     Amador           305.0             37.0     78.38              12.131\n",
       "2      Butte          2551.0            226.0     64.60               8.859\n",
       "3  Calaveras           451.0             31.0     87.10               6.874\n",
       "4     Colusa           339.0             26.0     34.62               7.670"
      ]
     },
     "metadata": {},
     "output_type": "display_data"
    }
   ],
   "source": [
    "# Convert the string character to null so we can remove it\n",
    "act_ca_county_processed = act_ca_county_processed.replace(\"*\",np.nan)\n",
    "display(act_ca_county_processed[act_ca_county_processed.isnull().any(axis=1)]) # Show rows that contain the above null values\n",
    "act_ca_county_processed.dropna(axis=0,inplace=True) # Dropping the rows\n",
    "\n",
    "# Convert numerical values into float, renaming the columns and reset index\n",
    "act_ca_county_processed[numerical_cols_act] = act_ca_county_processed[numerical_cols_act].astype(float)\n",
    "act_ca_county_processed[\"participation_rate\"] = round(100*(act_ca_county_processed[\"NumTstTakr\"]/act_ca_county_processed[\"Enroll12\"]),3)\n",
    "act_ca_county_processed.rename(columns = {\"CName\":\"county\", \"Enroll12\":\"k12_enrollment\", \"NumTstTakr\":\"k12_test_takers\",\n",
    "                                          \"NumGE21\":\"number_>=21\", \"PctGE21\":\"pct_>=21\"}, inplace=True)\n",
    "act_ca_county_processed.sort_values(\"county\", inplace=True)\n",
    "act_ca_county_processed.reset_index(drop=True, inplace=True)\n",
    "display(act_ca_county_processed.shape)\n",
    "display(act_ca_county_processed.dtypes)\n",
    "display(act_ca_county_processed.head())"
   ]
  },
  {
   "cell_type": "markdown",
   "metadata": {},
   "source": [
    "### DATASET 3: California Teacher Qualifications `(StaffEducation.txt)`"
   ]
  },
  {
   "cell_type": "code",
   "execution_count": 19,
   "metadata": {},
   "outputs": [
    {
     "data": {
      "text/plain": [
       "(59, 14)"
      ]
     },
     "metadata": {},
     "output_type": "display_data"
    },
    {
     "data": {
      "text/html": [
       "<div>\n",
       "<style scoped>\n",
       "    .dataframe tbody tr th:only-of-type {\n",
       "        vertical-align: middle;\n",
       "    }\n",
       "\n",
       "    .dataframe tbody tr th {\n",
       "        vertical-align: top;\n",
       "    }\n",
       "\n",
       "    .dataframe thead th {\n",
       "        text-align: right;\n",
       "    }\n",
       "</style>\n",
       "<table border=\"1\" class=\"dataframe\">\n",
       "  <thead>\n",
       "    <tr style=\"text-align: right;\">\n",
       "      <th></th>\n",
       "      <th>Name</th>\n",
       "      <th>Code</th>\n",
       "      <th>Doctorate</th>\n",
       "      <th>Special Degree(Juris Doctor)</th>\n",
       "      <th>Master's Degree +30</th>\n",
       "      <th>Master's Degree</th>\n",
       "      <th>Fifth Year within BA</th>\n",
       "      <th>Fifth Year Induction</th>\n",
       "      <th>Fifth Year</th>\n",
       "      <th>Baccalaureate Degree +30</th>\n",
       "      <th>Baccalaureate Degree</th>\n",
       "      <th>Associate Degree</th>\n",
       "      <th>None Reported</th>\n",
       "      <th>Total</th>\n",
       "    </tr>\n",
       "  </thead>\n",
       "  <tbody>\n",
       "    <tr>\n",
       "      <th>0</th>\n",
       "      <td>Alameda</td>\n",
       "      <td>1</td>\n",
       "      <td>143</td>\n",
       "      <td>5</td>\n",
       "      <td>874</td>\n",
       "      <td>3,303</td>\n",
       "      <td>3</td>\n",
       "      <td>2</td>\n",
       "      <td>7</td>\n",
       "      <td>2,241</td>\n",
       "      <td>5,455</td>\n",
       "      <td>106</td>\n",
       "      <td>181</td>\n",
       "      <td>12,320</td>\n",
       "    </tr>\n",
       "    <tr>\n",
       "      <th>1</th>\n",
       "      <td>Alpine</td>\n",
       "      <td>2</td>\n",
       "      <td>0</td>\n",
       "      <td>0</td>\n",
       "      <td>0</td>\n",
       "      <td>2</td>\n",
       "      <td>0</td>\n",
       "      <td>0</td>\n",
       "      <td>0</td>\n",
       "      <td>8</td>\n",
       "      <td>1</td>\n",
       "      <td>0</td>\n",
       "      <td>0</td>\n",
       "      <td>11</td>\n",
       "    </tr>\n",
       "    <tr>\n",
       "      <th>2</th>\n",
       "      <td>Amador</td>\n",
       "      <td>3</td>\n",
       "      <td>6</td>\n",
       "      <td>0</td>\n",
       "      <td>19</td>\n",
       "      <td>66</td>\n",
       "      <td>0</td>\n",
       "      <td>0</td>\n",
       "      <td>0</td>\n",
       "      <td>170</td>\n",
       "      <td>33</td>\n",
       "      <td>0</td>\n",
       "      <td>0</td>\n",
       "      <td>294</td>\n",
       "    </tr>\n",
       "    <tr>\n",
       "      <th>3</th>\n",
       "      <td>Butte</td>\n",
       "      <td>4</td>\n",
       "      <td>4</td>\n",
       "      <td>0</td>\n",
       "      <td>99</td>\n",
       "      <td>224</td>\n",
       "      <td>1</td>\n",
       "      <td>0</td>\n",
       "      <td>4</td>\n",
       "      <td>1,168</td>\n",
       "      <td>204</td>\n",
       "      <td>2</td>\n",
       "      <td>1</td>\n",
       "      <td>1,707</td>\n",
       "    </tr>\n",
       "    <tr>\n",
       "      <th>4</th>\n",
       "      <td>Calaveras</td>\n",
       "      <td>5</td>\n",
       "      <td>1</td>\n",
       "      <td>0</td>\n",
       "      <td>34</td>\n",
       "      <td>33</td>\n",
       "      <td>0</td>\n",
       "      <td>0</td>\n",
       "      <td>0</td>\n",
       "      <td>162</td>\n",
       "      <td>67</td>\n",
       "      <td>1</td>\n",
       "      <td>2</td>\n",
       "      <td>300</td>\n",
       "    </tr>\n",
       "  </tbody>\n",
       "</table>\n",
       "</div>"
      ],
      "text/plain": [
       "        Name  Code Doctorate  Special Degree(Juris Doctor)  \\\n",
       "0    Alameda     1       143                             5   \n",
       "1     Alpine     2         0                             0   \n",
       "2     Amador     3         6                             0   \n",
       "3      Butte     4         4                             0   \n",
       "4  Calaveras     5         1                             0   \n",
       "\n",
       "  Master's Degree +30 Master's Degree  Fifth Year within BA  \\\n",
       "0                 874           3,303                     3   \n",
       "1                   0               2                     0   \n",
       "2                  19              66                     0   \n",
       "3                  99             224                     1   \n",
       "4                  34              33                     0   \n",
       "\n",
       "   Fifth Year Induction  Fifth Year Baccalaureate Degree +30  \\\n",
       "0                     2           7                    2,241   \n",
       "1                     0           0                        8   \n",
       "2                     0           0                      170   \n",
       "3                     0           4                    1,168   \n",
       "4                     0           0                      162   \n",
       "\n",
       "  Baccalaureate Degree  Associate Degree None Reported   Total  \n",
       "0                5,455               106           181  12,320  \n",
       "1                    1                 0             0      11  \n",
       "2                   33                 0             0     294  \n",
       "3                  204                 2             1   1,707  \n",
       "4                   67                 1             2     300  "
      ]
     },
     "metadata": {},
     "output_type": "display_data"
    },
    {
     "data": {
      "text/plain": [
       "Name                            object\n",
       "Code                             int64\n",
       "Doctorate                       object\n",
       "Special Degree(Juris Doctor)     int64\n",
       "Master's Degree +30             object\n",
       "Master's Degree                 object\n",
       "Fifth Year within BA             int64\n",
       "Fifth Year Induction             int64\n",
       "Fifth Year                       int64\n",
       "Baccalaureate Degree +30        object\n",
       "Baccalaureate Degree            object\n",
       "Associate Degree                 int64\n",
       "None Reported                   object\n",
       "Total                           object\n",
       "dtype: object"
      ]
     },
     "metadata": {},
     "output_type": "display_data"
    }
   ],
   "source": [
    "# Display the data: print the first 5 rows of each dataframe to your Jupyter notebook\n",
    "teacher_ed = pd.read_csv(\"../data/StaffEducation.txt\", delimiter=\"\\t\")\n",
    "display(teacher_ed.shape)\n",
    "display(teacher_ed.head())\n",
    "display(teacher_ed.dtypes)"
   ]
  },
  {
   "cell_type": "code",
   "execution_count": 20,
   "metadata": {},
   "outputs": [
    {
     "data": {
      "text/plain": [
       "Name                            0\n",
       "Code                            0\n",
       "Doctorate                       0\n",
       "Special Degree(Juris Doctor)    0\n",
       "Master's Degree +30             0\n",
       "Master's Degree                 0\n",
       "Fifth Year within BA            0\n",
       "Fifth Year Induction            0\n",
       "Fifth Year                      0\n",
       "Baccalaureate Degree +30        0\n",
       "Baccalaureate Degree            0\n",
       "Associate Degree                0\n",
       "None Reported                   0\n",
       "Total                           0\n",
       "dtype: int64"
      ]
     },
     "metadata": {},
     "output_type": "display_data"
    },
    {
     "name": "stdout",
     "output_type": "stream",
     "text": [
      "invalid literal for int() with base 10: '1,034'\n"
     ]
    },
    {
     "data": {
      "text/plain": [
       "Name                            object\n",
       "Code                             int32\n",
       "Doctorate                        int32\n",
       "Special Degree(Juris Doctor)     int32\n",
       "Master's Degree +30              int32\n",
       "Master's Degree                  int32\n",
       "Fifth Year within BA             int32\n",
       "Fifth Year Induction             int32\n",
       "Fifth Year                       int32\n",
       "Baccalaureate Degree +30         int32\n",
       "Baccalaureate Degree             int32\n",
       "Associate Degree                 int32\n",
       "None Reported                    int32\n",
       "Total                            int32\n",
       "dtype: object"
      ]
     },
     "metadata": {},
     "output_type": "display_data"
    }
   ],
   "source": [
    "# Check for missing values and incorrect values\n",
    "display(teacher_ed.isnull().sum()) \n",
    "\n",
    "numerical_cols_teacher_ed = list(teacher_ed.columns)\n",
    "numerical_cols_teacher_ed.remove(\"Name\")\n",
    "teacher_ed = teacher_ed.astype(str)\n",
    "\n",
    "try: # Check for other string characters\n",
    "    teacher_ed = teacher_ed[numerical_cols_teacher_ed].astype(int)\n",
    "except ValueError as e:\n",
    "    print(e) \n",
    "    \n",
    "# We need to remove \",\" from the numerical values and converting to int\n",
    "teacher_ed[numerical_cols_teacher_ed] = teacher_ed[numerical_cols_teacher_ed].apply(lambda x: x.str.replace(\",\",\"\"))\n",
    "teacher_ed[numerical_cols_teacher_ed] = teacher_ed[numerical_cols_teacher_ed].astype(int)\n",
    "display(teacher_ed.dtypes)"
   ]
  },
  {
   "cell_type": "code",
   "execution_count": 21,
   "metadata": {},
   "outputs": [
    {
     "name": "stdout",
     "output_type": "stream",
     "text": [
      "59\n"
     ]
    }
   ],
   "source": [
    "# Verify row-sum with row-total\n",
    "numerical_cols_teacher_ed.remove(\"Code\") # Re-use the list from earlier to filter the dataframe\n",
    "numerical_cols_teacher_ed.remove(\"Total\")\n",
    "print((teacher_ed[numerical_cols_teacher_ed].sum(axis=1) == teacher_ed[\"Total\"]).sum()) # We expect to get 59 if all are true as there are 59 rows"
   ]
  },
  {
   "cell_type": "markdown",
   "metadata": {},
   "source": [
    "The row-sums are verified with the row-total to be correct. "
   ]
  },
  {
   "cell_type": "markdown",
   "metadata": {},
   "source": [
    "To obtain a DataFrame with the total population of teachers in each county:"
   ]
  },
  {
   "cell_type": "code",
   "execution_count": 22,
   "metadata": {},
   "outputs": [
    {
     "data": {
      "text/plain": [
       "county            object\n",
       "teachers_total     int32\n",
       "dtype: object"
      ]
     },
     "metadata": {},
     "output_type": "display_data"
    },
    {
     "data": {
      "text/html": [
       "<div>\n",
       "<style scoped>\n",
       "    .dataframe tbody tr th:only-of-type {\n",
       "        vertical-align: middle;\n",
       "    }\n",
       "\n",
       "    .dataframe tbody tr th {\n",
       "        vertical-align: top;\n",
       "    }\n",
       "\n",
       "    .dataframe thead th {\n",
       "        text-align: right;\n",
       "    }\n",
       "</style>\n",
       "<table border=\"1\" class=\"dataframe\">\n",
       "  <thead>\n",
       "    <tr style=\"text-align: right;\">\n",
       "      <th></th>\n",
       "      <th>county</th>\n",
       "      <th>teachers_total</th>\n",
       "    </tr>\n",
       "  </thead>\n",
       "  <tbody>\n",
       "    <tr>\n",
       "      <th>0</th>\n",
       "      <td>Alameda</td>\n",
       "      <td>12320</td>\n",
       "    </tr>\n",
       "    <tr>\n",
       "      <th>1</th>\n",
       "      <td>Alpine</td>\n",
       "      <td>11</td>\n",
       "    </tr>\n",
       "    <tr>\n",
       "      <th>2</th>\n",
       "      <td>Amador</td>\n",
       "      <td>294</td>\n",
       "    </tr>\n",
       "    <tr>\n",
       "      <th>3</th>\n",
       "      <td>Butte</td>\n",
       "      <td>1707</td>\n",
       "    </tr>\n",
       "    <tr>\n",
       "      <th>4</th>\n",
       "      <td>Calaveras</td>\n",
       "      <td>300</td>\n",
       "    </tr>\n",
       "  </tbody>\n",
       "</table>\n",
       "</div>"
      ],
      "text/plain": [
       "      county  teachers_total\n",
       "0    Alameda           12320\n",
       "1     Alpine              11\n",
       "2     Amador             294\n",
       "3      Butte            1707\n",
       "4  Calaveras             300"
      ]
     },
     "metadata": {},
     "output_type": "display_data"
    }
   ],
   "source": [
    "# Create a new dataframe with columns we require and verify datatypes\n",
    "tot_teacher = teacher_ed[[\"Name\",\"Total\"]]\n",
    "tot_teacher = tot_teacher.rename(columns={\"Name\":\"county\", \"Total\":\"teachers_total\"})\n",
    "display(tot_teacher.dtypes)\n",
    "display(tot_teacher.head())\n"
   ]
  },
  {
   "cell_type": "markdown",
   "metadata": {},
   "source": [
    "### DATASET 4: California Teacher Experience `(StaffExp.txt)`"
   ]
  },
  {
   "cell_type": "code",
   "execution_count": 23,
   "metadata": {},
   "outputs": [
    {
     "data": {
      "text/plain": [
       "(59, 6)"
      ]
     },
     "metadata": {},
     "output_type": "display_data"
    },
    {
     "data": {
      "text/html": [
       "<div>\n",
       "<style scoped>\n",
       "    .dataframe tbody tr th:only-of-type {\n",
       "        vertical-align: middle;\n",
       "    }\n",
       "\n",
       "    .dataframe tbody tr th {\n",
       "        vertical-align: top;\n",
       "    }\n",
       "\n",
       "    .dataframe thead th {\n",
       "        text-align: right;\n",
       "    }\n",
       "</style>\n",
       "<table border=\"1\" class=\"dataframe\">\n",
       "  <thead>\n",
       "    <tr style=\"text-align: right;\">\n",
       "      <th></th>\n",
       "      <th>Name</th>\n",
       "      <th>Code</th>\n",
       "      <th>Avg Years of Service</th>\n",
       "      <th>Avg Years in District</th>\n",
       "      <th># First Year Staff</th>\n",
       "      <th># Second Year Staff</th>\n",
       "    </tr>\n",
       "  </thead>\n",
       "  <tbody>\n",
       "    <tr>\n",
       "      <th>0</th>\n",
       "      <td>Alameda</td>\n",
       "      <td>1</td>\n",
       "      <td>12</td>\n",
       "      <td>10</td>\n",
       "      <td>1,070</td>\n",
       "      <td>678</td>\n",
       "    </tr>\n",
       "    <tr>\n",
       "      <th>1</th>\n",
       "      <td>Alpine</td>\n",
       "      <td>2</td>\n",
       "      <td>14</td>\n",
       "      <td>7</td>\n",
       "      <td>2</td>\n",
       "      <td>2</td>\n",
       "    </tr>\n",
       "    <tr>\n",
       "      <th>2</th>\n",
       "      <td>Amador</td>\n",
       "      <td>3</td>\n",
       "      <td>13</td>\n",
       "      <td>10</td>\n",
       "      <td>20</td>\n",
       "      <td>10</td>\n",
       "    </tr>\n",
       "    <tr>\n",
       "      <th>3</th>\n",
       "      <td>Butte</td>\n",
       "      <td>4</td>\n",
       "      <td>15</td>\n",
       "      <td>12</td>\n",
       "      <td>90</td>\n",
       "      <td>70</td>\n",
       "    </tr>\n",
       "    <tr>\n",
       "      <th>4</th>\n",
       "      <td>Calaveras</td>\n",
       "      <td>5</td>\n",
       "      <td>16</td>\n",
       "      <td>11</td>\n",
       "      <td>25</td>\n",
       "      <td>21</td>\n",
       "    </tr>\n",
       "  </tbody>\n",
       "</table>\n",
       "</div>"
      ],
      "text/plain": [
       "        Name  Code  Avg Years of Service  Avg Years in District  \\\n",
       "0    Alameda     1                    12                     10   \n",
       "1     Alpine     2                    14                      7   \n",
       "2     Amador     3                    13                     10   \n",
       "3      Butte     4                    15                     12   \n",
       "4  Calaveras     5                    16                     11   \n",
       "\n",
       "  # First Year Staff # Second Year Staff  \n",
       "0              1,070                 678  \n",
       "1                  2                   2  \n",
       "2                 20                  10  \n",
       "3                 90                  70  \n",
       "4                 25                  21  "
      ]
     },
     "metadata": {},
     "output_type": "display_data"
    }
   ],
   "source": [
    "# Display the data: print the first 5 rows of each dataframe to your Jupyter notebook\n",
    "teacher_exp = pd.read_csv(\"../data/StaffExp.txt\", sep=\"\\t\")\n",
    "display(teacher_exp.shape)\n",
    "display(teacher_exp.head())"
   ]
  },
  {
   "cell_type": "code",
   "execution_count": 24,
   "metadata": {},
   "outputs": [
    {
     "data": {
      "text/plain": [
       "Name                     0\n",
       "Code                     0\n",
       "Avg Years of Service     0\n",
       "Avg Years in District    0\n",
       "# First Year Staff       0\n",
       "# Second Year Staff      0\n",
       "dtype: int64"
      ]
     },
     "metadata": {},
     "output_type": "display_data"
    },
    {
     "name": "stdout",
     "output_type": "stream",
     "text": [
      "invalid literal for int() with base 10: '1,070'\n"
     ]
    },
    {
     "data": {
      "text/plain": [
       "Name                     object\n",
       "Code                      int32\n",
       "Avg Years of Service      int32\n",
       "Avg Years in District     int32\n",
       "# First Year Staff        int32\n",
       "# Second Year Staff       int32\n",
       "dtype: object"
      ]
     },
     "metadata": {},
     "output_type": "display_data"
    },
    {
     "data": {
      "text/html": [
       "<div>\n",
       "<style scoped>\n",
       "    .dataframe tbody tr th:only-of-type {\n",
       "        vertical-align: middle;\n",
       "    }\n",
       "\n",
       "    .dataframe tbody tr th {\n",
       "        vertical-align: top;\n",
       "    }\n",
       "\n",
       "    .dataframe thead th {\n",
       "        text-align: right;\n",
       "    }\n",
       "</style>\n",
       "<table border=\"1\" class=\"dataframe\">\n",
       "  <thead>\n",
       "    <tr style=\"text-align: right;\">\n",
       "      <th></th>\n",
       "      <th>county</th>\n",
       "      <th>avg_years_of_service</th>\n",
       "      <th>avg_years_in_county</th>\n",
       "      <th>first_year_staff</th>\n",
       "      <th>second_year_staff</th>\n",
       "    </tr>\n",
       "  </thead>\n",
       "  <tbody>\n",
       "    <tr>\n",
       "      <th>0</th>\n",
       "      <td>Alameda</td>\n",
       "      <td>12</td>\n",
       "      <td>10</td>\n",
       "      <td>1070</td>\n",
       "      <td>678</td>\n",
       "    </tr>\n",
       "    <tr>\n",
       "      <th>1</th>\n",
       "      <td>Alpine</td>\n",
       "      <td>14</td>\n",
       "      <td>7</td>\n",
       "      <td>2</td>\n",
       "      <td>2</td>\n",
       "    </tr>\n",
       "    <tr>\n",
       "      <th>2</th>\n",
       "      <td>Amador</td>\n",
       "      <td>13</td>\n",
       "      <td>10</td>\n",
       "      <td>20</td>\n",
       "      <td>10</td>\n",
       "    </tr>\n",
       "    <tr>\n",
       "      <th>3</th>\n",
       "      <td>Butte</td>\n",
       "      <td>15</td>\n",
       "      <td>12</td>\n",
       "      <td>90</td>\n",
       "      <td>70</td>\n",
       "    </tr>\n",
       "    <tr>\n",
       "      <th>4</th>\n",
       "      <td>Calaveras</td>\n",
       "      <td>16</td>\n",
       "      <td>11</td>\n",
       "      <td>25</td>\n",
       "      <td>21</td>\n",
       "    </tr>\n",
       "  </tbody>\n",
       "</table>\n",
       "</div>"
      ],
      "text/plain": [
       "      county  avg_years_of_service  avg_years_in_county  first_year_staff  \\\n",
       "0    Alameda                    12                   10              1070   \n",
       "1     Alpine                    14                    7                 2   \n",
       "2     Amador                    13                   10                20   \n",
       "3      Butte                    15                   12                90   \n",
       "4  Calaveras                    16                   11                25   \n",
       "\n",
       "   second_year_staff  \n",
       "0                678  \n",
       "1                  2  \n",
       "2                 10  \n",
       "3                 70  \n",
       "4                 21  "
      ]
     },
     "execution_count": 24,
     "metadata": {},
     "output_type": "execute_result"
    }
   ],
   "source": [
    "# Check for missing values and incorrect values\n",
    "display(teacher_exp.isnull().sum()) \n",
    "\n",
    "numerical_cols_teacher_exp = list(teacher_exp.columns) # Create a list of numerical values to convert to float\n",
    "numerical_cols_teacher_exp.remove(\"Name\")\n",
    "teacher_exp = teacher_exp.astype(str)\n",
    "\n",
    "try: # Check for other string characters\n",
    "    teacher_exp = teacher_exp[numerical_cols_teacher_exp].astype(int)\n",
    "except ValueError as e:\n",
    "    print(e) \n",
    "\n",
    "# We need to remove \",\" from the numerical values and convert to int\n",
    "teacher_exp[numerical_cols_teacher_exp] = teacher_exp[numerical_cols_teacher_exp].apply(lambda x: x.str.replace(\",\",\"\"))\n",
    "teacher_exp[numerical_cols_teacher_exp] = teacher_exp[numerical_cols_teacher_exp].astype(int)\n",
    "display(teacher_exp.dtypes)\n",
    "\n",
    "# Drop \"Code\" column as we do not need it\n",
    "teacher_exp.drop(\"Code\", axis=1, inplace=True)\n",
    "\n",
    "# Renaming columns, Avg Years in District is really Avg years in the County as it is aggregated across all districts in the county\n",
    "teacher_exp.rename(columns={\"Name\":\"county\",\"Avg Years of Service\":\"avg_years_of_service\", \"Avg Years in District\":\"avg_years_in_county\", \"# First Year Staff\":\"first_year_staff\", \"# Second Year Staff\": \"second_year_staff\"}, inplace=True)\n",
    "teacher_exp.head()"
   ]
  },
  {
   "cell_type": "markdown",
   "metadata": {},
   "source": [
    "### Calculating Additional Metrics and Merging of DataFrame for Analysis"
   ]
  },
  {
   "cell_type": "markdown",
   "metadata": {},
   "source": [
    "#### Create the teachers DataFrame that captures total teachers in the state and their experience"
   ]
  },
  {
   "cell_type": "markdown",
   "metadata": {},
   "source": [
    "In this step, we merge the teacher_exp & tot_teacher DataFrame"
   ]
  },
  {
   "cell_type": "code",
   "execution_count": 25,
   "metadata": {},
   "outputs": [
    {
     "data": {
      "text/plain": [
       "(59, 6)"
      ]
     },
     "metadata": {},
     "output_type": "display_data"
    },
    {
     "data": {
      "text/html": [
       "<div>\n",
       "<style scoped>\n",
       "    .dataframe tbody tr th:only-of-type {\n",
       "        vertical-align: middle;\n",
       "    }\n",
       "\n",
       "    .dataframe tbody tr th {\n",
       "        vertical-align: top;\n",
       "    }\n",
       "\n",
       "    .dataframe thead th {\n",
       "        text-align: right;\n",
       "    }\n",
       "</style>\n",
       "<table border=\"1\" class=\"dataframe\">\n",
       "  <thead>\n",
       "    <tr style=\"text-align: right;\">\n",
       "      <th></th>\n",
       "      <th>county</th>\n",
       "      <th>teachers_total</th>\n",
       "      <th>avg_years_of_service</th>\n",
       "      <th>avg_years_in_county</th>\n",
       "      <th>first_year_staff</th>\n",
       "      <th>second_year_staff</th>\n",
       "    </tr>\n",
       "  </thead>\n",
       "  <tbody>\n",
       "    <tr>\n",
       "      <th>0</th>\n",
       "      <td>Alameda</td>\n",
       "      <td>12320</td>\n",
       "      <td>12</td>\n",
       "      <td>10</td>\n",
       "      <td>1070</td>\n",
       "      <td>678</td>\n",
       "    </tr>\n",
       "    <tr>\n",
       "      <th>1</th>\n",
       "      <td>Alpine</td>\n",
       "      <td>11</td>\n",
       "      <td>14</td>\n",
       "      <td>7</td>\n",
       "      <td>2</td>\n",
       "      <td>2</td>\n",
       "    </tr>\n",
       "    <tr>\n",
       "      <th>2</th>\n",
       "      <td>Amador</td>\n",
       "      <td>294</td>\n",
       "      <td>13</td>\n",
       "      <td>10</td>\n",
       "      <td>20</td>\n",
       "      <td>10</td>\n",
       "    </tr>\n",
       "    <tr>\n",
       "      <th>3</th>\n",
       "      <td>Butte</td>\n",
       "      <td>1707</td>\n",
       "      <td>15</td>\n",
       "      <td>12</td>\n",
       "      <td>90</td>\n",
       "      <td>70</td>\n",
       "    </tr>\n",
       "    <tr>\n",
       "      <th>4</th>\n",
       "      <td>Calaveras</td>\n",
       "      <td>300</td>\n",
       "      <td>16</td>\n",
       "      <td>11</td>\n",
       "      <td>25</td>\n",
       "      <td>21</td>\n",
       "    </tr>\n",
       "  </tbody>\n",
       "</table>\n",
       "</div>"
      ],
      "text/plain": [
       "      county  teachers_total  avg_years_of_service  avg_years_in_county  \\\n",
       "0    Alameda           12320                    12                   10   \n",
       "1     Alpine              11                    14                    7   \n",
       "2     Amador             294                    13                   10   \n",
       "3      Butte            1707                    15                   12   \n",
       "4  Calaveras             300                    16                   11   \n",
       "\n",
       "   first_year_staff  second_year_staff  \n",
       "0              1070                678  \n",
       "1                 2                  2  \n",
       "2                20                 10  \n",
       "3                90                 70  \n",
       "4                25                 21  "
      ]
     },
     "metadata": {},
     "output_type": "display_data"
    }
   ],
   "source": [
    "# Create a consolidated teachers DataFrame and drop columns not required\n",
    "teachers = pd.merge(tot_teacher, teacher_exp, on=\"county\")\n",
    "display(teachers.shape)\n",
    "display(teachers.head())"
   ]
  },
  {
   "cell_type": "markdown",
   "metadata": {},
   "source": [
    "#### Merge the teachers DataFrame with the SAT and ACT DataFrames"
   ]
  },
  {
   "cell_type": "markdown",
   "metadata": {},
   "source": [
    "We merge the teachers DataFrame with the respective sat_ca_county_processed & act_ca_county_processed DataFrame for EDA."
   ]
  },
  {
   "cell_type": "code",
   "execution_count": 26,
   "metadata": {},
   "outputs": [
    {
     "data": {
      "text/plain": [
       "(55, 10)"
      ]
     },
     "metadata": {},
     "output_type": "display_data"
    },
    {
     "data": {
      "text/html": [
       "<div>\n",
       "<style scoped>\n",
       "    .dataframe tbody tr th:only-of-type {\n",
       "        vertical-align: middle;\n",
       "    }\n",
       "\n",
       "    .dataframe tbody tr th {\n",
       "        vertical-align: top;\n",
       "    }\n",
       "\n",
       "    .dataframe thead th {\n",
       "        text-align: right;\n",
       "    }\n",
       "</style>\n",
       "<table border=\"1\" class=\"dataframe\">\n",
       "  <thead>\n",
       "    <tr style=\"text-align: right;\">\n",
       "      <th></th>\n",
       "      <th>county</th>\n",
       "      <th>k12_enrollment</th>\n",
       "      <th>k12_test_takers</th>\n",
       "      <th>participation_rate</th>\n",
       "      <th>pct_met_bm</th>\n",
       "      <th>teachers_total</th>\n",
       "      <th>avg_years_of_service</th>\n",
       "      <th>avg_years_in_county</th>\n",
       "      <th>first_year_staff</th>\n",
       "      <th>second_year_staff</th>\n",
       "    </tr>\n",
       "  </thead>\n",
       "  <tbody>\n",
       "    <tr>\n",
       "      <th>0</th>\n",
       "      <td>Alameda</td>\n",
       "      <td>17567.0</td>\n",
       "      <td>5946.0</td>\n",
       "      <td>33.848</td>\n",
       "      <td>19.685</td>\n",
       "      <td>12320</td>\n",
       "      <td>12</td>\n",
       "      <td>10</td>\n",
       "      <td>1070</td>\n",
       "      <td>678</td>\n",
       "    </tr>\n",
       "    <tr>\n",
       "      <th>1</th>\n",
       "      <td>Amador</td>\n",
       "      <td>305.0</td>\n",
       "      <td>53.0</td>\n",
       "      <td>17.377</td>\n",
       "      <td>10.820</td>\n",
       "      <td>294</td>\n",
       "      <td>13</td>\n",
       "      <td>10</td>\n",
       "      <td>20</td>\n",
       "      <td>10</td>\n",
       "    </tr>\n",
       "    <tr>\n",
       "      <th>2</th>\n",
       "      <td>Butte</td>\n",
       "      <td>2551.0</td>\n",
       "      <td>551.0</td>\n",
       "      <td>21.599</td>\n",
       "      <td>13.015</td>\n",
       "      <td>1707</td>\n",
       "      <td>15</td>\n",
       "      <td>12</td>\n",
       "      <td>90</td>\n",
       "      <td>70</td>\n",
       "    </tr>\n",
       "    <tr>\n",
       "      <th>3</th>\n",
       "      <td>Calaveras</td>\n",
       "      <td>451.0</td>\n",
       "      <td>90.0</td>\n",
       "      <td>19.956</td>\n",
       "      <td>13.304</td>\n",
       "      <td>300</td>\n",
       "      <td>16</td>\n",
       "      <td>11</td>\n",
       "      <td>25</td>\n",
       "      <td>21</td>\n",
       "    </tr>\n",
       "    <tr>\n",
       "      <th>4</th>\n",
       "      <td>Colusa</td>\n",
       "      <td>339.0</td>\n",
       "      <td>74.0</td>\n",
       "      <td>21.829</td>\n",
       "      <td>4.130</td>\n",
       "      <td>267</td>\n",
       "      <td>12</td>\n",
       "      <td>10</td>\n",
       "      <td>33</td>\n",
       "      <td>19</td>\n",
       "    </tr>\n",
       "  </tbody>\n",
       "</table>\n",
       "</div>"
      ],
      "text/plain": [
       "      county  k12_enrollment  k12_test_takers  participation_rate  pct_met_bm  \\\n",
       "0    Alameda         17567.0           5946.0              33.848      19.685   \n",
       "1     Amador           305.0             53.0              17.377      10.820   \n",
       "2      Butte          2551.0            551.0              21.599      13.015   \n",
       "3  Calaveras           451.0             90.0              19.956      13.304   \n",
       "4     Colusa           339.0             74.0              21.829       4.130   \n",
       "\n",
       "   teachers_total  avg_years_of_service  avg_years_in_county  \\\n",
       "0           12320                    12                   10   \n",
       "1             294                    13                   10   \n",
       "2            1707                    15                   12   \n",
       "3             300                    16                   11   \n",
       "4             267                    12                   10   \n",
       "\n",
       "   first_year_staff  second_year_staff  \n",
       "0              1070                678  \n",
       "1                20                 10  \n",
       "2                90                 70  \n",
       "3                25                 21  \n",
       "4                33                 19  "
      ]
     },
     "metadata": {},
     "output_type": "display_data"
    }
   ],
   "source": [
    "# Create the SAT-teachers DataFrame\n",
    "sat_teachers = pd.merge(sat_ca_county_processed, teachers, on=\"county\")\n",
    "display(sat_teachers.shape)\n",
    "display(sat_teachers.head())"
   ]
  },
  {
   "cell_type": "code",
   "execution_count": 27,
   "metadata": {},
   "outputs": [
    {
     "data": {
      "text/plain": [
       "(54, 10)"
      ]
     },
     "metadata": {},
     "output_type": "display_data"
    },
    {
     "data": {
      "text/html": [
       "<div>\n",
       "<style scoped>\n",
       "    .dataframe tbody tr th:only-of-type {\n",
       "        vertical-align: middle;\n",
       "    }\n",
       "\n",
       "    .dataframe tbody tr th {\n",
       "        vertical-align: top;\n",
       "    }\n",
       "\n",
       "    .dataframe thead th {\n",
       "        text-align: right;\n",
       "    }\n",
       "</style>\n",
       "<table border=\"1\" class=\"dataframe\">\n",
       "  <thead>\n",
       "    <tr style=\"text-align: right;\">\n",
       "      <th></th>\n",
       "      <th>county</th>\n",
       "      <th>k12_enrollment</th>\n",
       "      <th>k12_test_takers</th>\n",
       "      <th>pct_&gt;=21</th>\n",
       "      <th>participation_rate</th>\n",
       "      <th>teachers_total</th>\n",
       "      <th>avg_years_of_service</th>\n",
       "      <th>avg_years_in_county</th>\n",
       "      <th>first_year_staff</th>\n",
       "      <th>second_year_staff</th>\n",
       "    </tr>\n",
       "  </thead>\n",
       "  <tbody>\n",
       "    <tr>\n",
       "      <th>0</th>\n",
       "      <td>Alameda</td>\n",
       "      <td>17567.0</td>\n",
       "      <td>3630.0</td>\n",
       "      <td>67.74</td>\n",
       "      <td>20.664</td>\n",
       "      <td>12320</td>\n",
       "      <td>12</td>\n",
       "      <td>10</td>\n",
       "      <td>1070</td>\n",
       "      <td>678</td>\n",
       "    </tr>\n",
       "    <tr>\n",
       "      <th>1</th>\n",
       "      <td>Amador</td>\n",
       "      <td>305.0</td>\n",
       "      <td>37.0</td>\n",
       "      <td>78.38</td>\n",
       "      <td>12.131</td>\n",
       "      <td>294</td>\n",
       "      <td>13</td>\n",
       "      <td>10</td>\n",
       "      <td>20</td>\n",
       "      <td>10</td>\n",
       "    </tr>\n",
       "    <tr>\n",
       "      <th>2</th>\n",
       "      <td>Butte</td>\n",
       "      <td>2551.0</td>\n",
       "      <td>226.0</td>\n",
       "      <td>64.60</td>\n",
       "      <td>8.859</td>\n",
       "      <td>1707</td>\n",
       "      <td>15</td>\n",
       "      <td>12</td>\n",
       "      <td>90</td>\n",
       "      <td>70</td>\n",
       "    </tr>\n",
       "    <tr>\n",
       "      <th>3</th>\n",
       "      <td>Calaveras</td>\n",
       "      <td>451.0</td>\n",
       "      <td>31.0</td>\n",
       "      <td>87.10</td>\n",
       "      <td>6.874</td>\n",
       "      <td>300</td>\n",
       "      <td>16</td>\n",
       "      <td>11</td>\n",
       "      <td>25</td>\n",
       "      <td>21</td>\n",
       "    </tr>\n",
       "    <tr>\n",
       "      <th>4</th>\n",
       "      <td>Colusa</td>\n",
       "      <td>339.0</td>\n",
       "      <td>26.0</td>\n",
       "      <td>34.62</td>\n",
       "      <td>7.670</td>\n",
       "      <td>267</td>\n",
       "      <td>12</td>\n",
       "      <td>10</td>\n",
       "      <td>33</td>\n",
       "      <td>19</td>\n",
       "    </tr>\n",
       "  </tbody>\n",
       "</table>\n",
       "</div>"
      ],
      "text/plain": [
       "      county  k12_enrollment  k12_test_takers  pct_>=21  participation_rate  \\\n",
       "0    Alameda         17567.0           3630.0     67.74              20.664   \n",
       "1     Amador           305.0             37.0     78.38              12.131   \n",
       "2      Butte          2551.0            226.0     64.60               8.859   \n",
       "3  Calaveras           451.0             31.0     87.10               6.874   \n",
       "4     Colusa           339.0             26.0     34.62               7.670   \n",
       "\n",
       "   teachers_total  avg_years_of_service  avg_years_in_county  \\\n",
       "0           12320                    12                   10   \n",
       "1             294                    13                   10   \n",
       "2            1707                    15                   12   \n",
       "3             300                    16                   11   \n",
       "4             267                    12                   10   \n",
       "\n",
       "   first_year_staff  second_year_staff  \n",
       "0              1070                678  \n",
       "1                20                 10  \n",
       "2                90                 70  \n",
       "3                25                 21  \n",
       "4                33                 19  "
      ]
     },
     "metadata": {},
     "output_type": "display_data"
    }
   ],
   "source": [
    "# Create the ACT-teachers DataFrame\n",
    "act_teachers = pd.merge(act_ca_county_processed, teachers, on=\"county\")\n",
    "display(act_teachers.shape)\n",
    "display(act_teachers.head())"
   ]
  },
  {
   "cell_type": "markdown",
   "metadata": {},
   "source": [
    "#### Create new column for additional metric (Teacher-Student Ratio)"
   ]
  },
  {
   "cell_type": "code",
   "execution_count": 28,
   "metadata": {},
   "outputs": [],
   "source": [
    "# Creating new columns for teacher_k12_student_ratio and pct_junior_staff\n",
    "\n",
    "sat_teachers[\"teacher_k12_student_ratio\"] = round(100*(sat_teachers[\"teachers_total\"]/sat_teachers[\"k12_enrollment\"]),3)\n",
    "act_teachers[\"teacher_k12_student_ratio\"] = round(100*(act_teachers[\"teachers_total\"]/act_teachers[\"k12_enrollment\"]),3)\n",
    "\n",
    "# Drop columns we do not require\n",
    "act_teachers.drop(columns=[\"first_year_staff\", \"second_year_staff\"], inplace=True)\n",
    "sat_teachers.drop(columns=[\"first_year_staff\", \"second_year_staff\"], inplace=True)"
   ]
  },
  {
   "cell_type": "markdown",
   "metadata": {},
   "source": [
    "\n",
    "\n",
    "See below for the first 5 rows of our finalized DataFrames for analysis and their datatypes."
   ]
  },
  {
   "cell_type": "code",
   "execution_count": 29,
   "metadata": {},
   "outputs": [],
   "source": [
    "# export to csv\n",
    "sat_teachers.to_csv(\"sat_teachers.csv\", index=False)\n",
    "act_teachers.to_csv(\"act_teachers.csv\", index=False)"
   ]
  },
  {
   "cell_type": "code",
   "execution_count": 30,
   "metadata": {},
   "outputs": [
    {
     "data": {
      "text/html": [
       "<div>\n",
       "<style scoped>\n",
       "    .dataframe tbody tr th:only-of-type {\n",
       "        vertical-align: middle;\n",
       "    }\n",
       "\n",
       "    .dataframe tbody tr th {\n",
       "        vertical-align: top;\n",
       "    }\n",
       "\n",
       "    .dataframe thead th {\n",
       "        text-align: right;\n",
       "    }\n",
       "</style>\n",
       "<table border=\"1\" class=\"dataframe\">\n",
       "  <thead>\n",
       "    <tr style=\"text-align: right;\">\n",
       "      <th></th>\n",
       "      <th>county</th>\n",
       "      <th>k12_enrollment</th>\n",
       "      <th>k12_test_takers</th>\n",
       "      <th>participation_rate</th>\n",
       "      <th>pct_met_bm</th>\n",
       "      <th>teachers_total</th>\n",
       "      <th>avg_years_of_service</th>\n",
       "      <th>avg_years_in_county</th>\n",
       "      <th>teacher_k12_student_ratio</th>\n",
       "    </tr>\n",
       "  </thead>\n",
       "  <tbody>\n",
       "    <tr>\n",
       "      <th>0</th>\n",
       "      <td>Alameda</td>\n",
       "      <td>17567.0</td>\n",
       "      <td>5946.0</td>\n",
       "      <td>33.848</td>\n",
       "      <td>19.685</td>\n",
       "      <td>12320</td>\n",
       "      <td>12</td>\n",
       "      <td>10</td>\n",
       "      <td>70.131</td>\n",
       "    </tr>\n",
       "    <tr>\n",
       "      <th>1</th>\n",
       "      <td>Amador</td>\n",
       "      <td>305.0</td>\n",
       "      <td>53.0</td>\n",
       "      <td>17.377</td>\n",
       "      <td>10.820</td>\n",
       "      <td>294</td>\n",
       "      <td>13</td>\n",
       "      <td>10</td>\n",
       "      <td>96.393</td>\n",
       "    </tr>\n",
       "    <tr>\n",
       "      <th>2</th>\n",
       "      <td>Butte</td>\n",
       "      <td>2551.0</td>\n",
       "      <td>551.0</td>\n",
       "      <td>21.599</td>\n",
       "      <td>13.015</td>\n",
       "      <td>1707</td>\n",
       "      <td>15</td>\n",
       "      <td>12</td>\n",
       "      <td>66.915</td>\n",
       "    </tr>\n",
       "    <tr>\n",
       "      <th>3</th>\n",
       "      <td>Calaveras</td>\n",
       "      <td>451.0</td>\n",
       "      <td>90.0</td>\n",
       "      <td>19.956</td>\n",
       "      <td>13.304</td>\n",
       "      <td>300</td>\n",
       "      <td>16</td>\n",
       "      <td>11</td>\n",
       "      <td>66.519</td>\n",
       "    </tr>\n",
       "    <tr>\n",
       "      <th>4</th>\n",
       "      <td>Colusa</td>\n",
       "      <td>339.0</td>\n",
       "      <td>74.0</td>\n",
       "      <td>21.829</td>\n",
       "      <td>4.130</td>\n",
       "      <td>267</td>\n",
       "      <td>12</td>\n",
       "      <td>10</td>\n",
       "      <td>78.761</td>\n",
       "    </tr>\n",
       "  </tbody>\n",
       "</table>\n",
       "</div>"
      ],
      "text/plain": [
       "      county  k12_enrollment  k12_test_takers  participation_rate  pct_met_bm  \\\n",
       "0    Alameda         17567.0           5946.0              33.848      19.685   \n",
       "1     Amador           305.0             53.0              17.377      10.820   \n",
       "2      Butte          2551.0            551.0              21.599      13.015   \n",
       "3  Calaveras           451.0             90.0              19.956      13.304   \n",
       "4     Colusa           339.0             74.0              21.829       4.130   \n",
       "\n",
       "   teachers_total  avg_years_of_service  avg_years_in_county  \\\n",
       "0           12320                    12                   10   \n",
       "1             294                    13                   10   \n",
       "2            1707                    15                   12   \n",
       "3             300                    16                   11   \n",
       "4             267                    12                   10   \n",
       "\n",
       "   teacher_k12_student_ratio  \n",
       "0                     70.131  \n",
       "1                     96.393  \n",
       "2                     66.915  \n",
       "3                     66.519  \n",
       "4                     78.761  "
      ]
     },
     "metadata": {},
     "output_type": "display_data"
    },
    {
     "data": {
      "text/html": [
       "<div>\n",
       "<style scoped>\n",
       "    .dataframe tbody tr th:only-of-type {\n",
       "        vertical-align: middle;\n",
       "    }\n",
       "\n",
       "    .dataframe tbody tr th {\n",
       "        vertical-align: top;\n",
       "    }\n",
       "\n",
       "    .dataframe thead th {\n",
       "        text-align: right;\n",
       "    }\n",
       "</style>\n",
       "<table border=\"1\" class=\"dataframe\">\n",
       "  <thead>\n",
       "    <tr style=\"text-align: right;\">\n",
       "      <th></th>\n",
       "      <th>county</th>\n",
       "      <th>k12_enrollment</th>\n",
       "      <th>k12_test_takers</th>\n",
       "      <th>pct_&gt;=21</th>\n",
       "      <th>participation_rate</th>\n",
       "      <th>teachers_total</th>\n",
       "      <th>avg_years_of_service</th>\n",
       "      <th>avg_years_in_county</th>\n",
       "      <th>teacher_k12_student_ratio</th>\n",
       "    </tr>\n",
       "  </thead>\n",
       "  <tbody>\n",
       "    <tr>\n",
       "      <th>0</th>\n",
       "      <td>Alameda</td>\n",
       "      <td>17567.0</td>\n",
       "      <td>3630.0</td>\n",
       "      <td>67.74</td>\n",
       "      <td>20.664</td>\n",
       "      <td>12320</td>\n",
       "      <td>12</td>\n",
       "      <td>10</td>\n",
       "      <td>70.131</td>\n",
       "    </tr>\n",
       "    <tr>\n",
       "      <th>1</th>\n",
       "      <td>Amador</td>\n",
       "      <td>305.0</td>\n",
       "      <td>37.0</td>\n",
       "      <td>78.38</td>\n",
       "      <td>12.131</td>\n",
       "      <td>294</td>\n",
       "      <td>13</td>\n",
       "      <td>10</td>\n",
       "      <td>96.393</td>\n",
       "    </tr>\n",
       "    <tr>\n",
       "      <th>2</th>\n",
       "      <td>Butte</td>\n",
       "      <td>2551.0</td>\n",
       "      <td>226.0</td>\n",
       "      <td>64.60</td>\n",
       "      <td>8.859</td>\n",
       "      <td>1707</td>\n",
       "      <td>15</td>\n",
       "      <td>12</td>\n",
       "      <td>66.915</td>\n",
       "    </tr>\n",
       "    <tr>\n",
       "      <th>3</th>\n",
       "      <td>Calaveras</td>\n",
       "      <td>451.0</td>\n",
       "      <td>31.0</td>\n",
       "      <td>87.10</td>\n",
       "      <td>6.874</td>\n",
       "      <td>300</td>\n",
       "      <td>16</td>\n",
       "      <td>11</td>\n",
       "      <td>66.519</td>\n",
       "    </tr>\n",
       "    <tr>\n",
       "      <th>4</th>\n",
       "      <td>Colusa</td>\n",
       "      <td>339.0</td>\n",
       "      <td>26.0</td>\n",
       "      <td>34.62</td>\n",
       "      <td>7.670</td>\n",
       "      <td>267</td>\n",
       "      <td>12</td>\n",
       "      <td>10</td>\n",
       "      <td>78.761</td>\n",
       "    </tr>\n",
       "  </tbody>\n",
       "</table>\n",
       "</div>"
      ],
      "text/plain": [
       "      county  k12_enrollment  k12_test_takers  pct_>=21  participation_rate  \\\n",
       "0    Alameda         17567.0           3630.0     67.74              20.664   \n",
       "1     Amador           305.0             37.0     78.38              12.131   \n",
       "2      Butte          2551.0            226.0     64.60               8.859   \n",
       "3  Calaveras           451.0             31.0     87.10               6.874   \n",
       "4     Colusa           339.0             26.0     34.62               7.670   \n",
       "\n",
       "   teachers_total  avg_years_of_service  avg_years_in_county  \\\n",
       "0           12320                    12                   10   \n",
       "1             294                    13                   10   \n",
       "2            1707                    15                   12   \n",
       "3             300                    16                   11   \n",
       "4             267                    12                   10   \n",
       "\n",
       "   teacher_k12_student_ratio  \n",
       "0                     70.131  \n",
       "1                     96.393  \n",
       "2                     66.915  \n",
       "3                     66.519  \n",
       "4                     78.761  "
      ]
     },
     "metadata": {},
     "output_type": "display_data"
    },
    {
     "data": {
      "text/plain": [
       "county                        object\n",
       "k12_enrollment               float64\n",
       "k12_test_takers              float64\n",
       "participation_rate           float64\n",
       "pct_met_bm                   float64\n",
       "teachers_total                 int32\n",
       "avg_years_of_service           int32\n",
       "avg_years_in_county            int32\n",
       "teacher_k12_student_ratio    float64\n",
       "dtype: object"
      ]
     },
     "metadata": {},
     "output_type": "display_data"
    },
    {
     "data": {
      "text/plain": [
       "county                        object\n",
       "k12_enrollment               float64\n",
       "k12_test_takers              float64\n",
       "pct_>=21                     float64\n",
       "participation_rate           float64\n",
       "teachers_total                 int32\n",
       "avg_years_of_service           int32\n",
       "avg_years_in_county            int32\n",
       "teacher_k12_student_ratio    float64\n",
       "dtype: object"
      ]
     },
     "metadata": {},
     "output_type": "display_data"
    }
   ],
   "source": [
    "display(sat_teachers.head())\n",
    "display(act_teachers.head())\n",
    "display(sat_teachers.dtypes)\n",
    "display(act_teachers.dtypes)"
   ]
  },
  {
   "cell_type": "markdown",
   "metadata": {},
   "source": [
    "### Data Dictionary"
   ]
  },
  {
   "cell_type": "markdown",
   "metadata": {},
   "source": [
    "|Feature|Type|Dataset|Description|\n",
    "|---|---|---|---|\n",
    "|county|object|sat_teachers/act_teachers|County name in the state of California|\n",
    "|k12_enrollment|float|sat_teachers/act_teachers|Number of K12 students enrolled in the county|\n",
    "|k12_test_takers|float|sat_teachers/act_teachers|Number of K12 students taking the 2019 SAT|\n",
    "|participation_rate|float|sat_teachers/act_teachers|Number of K12 students taking the 2019 SAT as a percentage of total K12 enrollment in the county (%)\n",
    "|pct_met_bm|float|sat_teachers|Percentage of K12 test takers that met the 2019 SAT Benchmark Scores for both ERW and Math (%)\n",
    "|teachers_total|int|sat_teachers/act_teachers|Total number of teachers in the county\n",
    "|avg_years_of_service|int|sat_teachers/act_teachers|Average teacher years of service in the county\n",
    "|avg_years_in_county|int|sat_teachers/act_teachers|Average teacher years teaching in the county\n",
    "|teacher_k12_student ratio|float|sat_teachers/act_teachers|Percentage of K12 students per teacher in the county (%)\n",
    "|pct_>=21|float|act_teachers| Percentage of K12 students who scored at least 21 marks for the 2019 ACT (%)"
   ]
  },
  {
   "cell_type": "markdown",
   "metadata": {},
   "source": [
    "## Exploratory Data Analysis (EDA)"
   ]
  },
  {
   "cell_type": "code",
   "execution_count": 31,
   "metadata": {},
   "outputs": [
    {
     "data": {
      "text/html": [
       "<div>\n",
       "<style scoped>\n",
       "    .dataframe tbody tr th:only-of-type {\n",
       "        vertical-align: middle;\n",
       "    }\n",
       "\n",
       "    .dataframe tbody tr th {\n",
       "        vertical-align: top;\n",
       "    }\n",
       "\n",
       "    .dataframe thead th {\n",
       "        text-align: right;\n",
       "    }\n",
       "</style>\n",
       "<table border=\"1\" class=\"dataframe\">\n",
       "  <thead>\n",
       "    <tr style=\"text-align: right;\">\n",
       "      <th></th>\n",
       "      <th>k12_enrollment</th>\n",
       "      <th>k12_test_takers</th>\n",
       "      <th>participation_rate</th>\n",
       "      <th>pct_met_bm</th>\n",
       "      <th>teachers_total</th>\n",
       "      <th>avg_years_of_service</th>\n",
       "      <th>avg_years_in_county</th>\n",
       "      <th>teacher_k12_student_ratio</th>\n",
       "    </tr>\n",
       "  </thead>\n",
       "  <tbody>\n",
       "    <tr>\n",
       "      <th>count</th>\n",
       "      <td>55.000000</td>\n",
       "      <td>55.000000</td>\n",
       "      <td>55.000000</td>\n",
       "      <td>55.000000</td>\n",
       "      <td>55.000000</td>\n",
       "      <td>55.000000</td>\n",
       "      <td>55.000000</td>\n",
       "      <td>55.000000</td>\n",
       "    </tr>\n",
       "    <tr>\n",
       "      <th>mean</th>\n",
       "      <td>8899.509091</td>\n",
       "      <td>3098.054545</td>\n",
       "      <td>26.203600</td>\n",
       "      <td>12.975382</td>\n",
       "      <td>5587.563636</td>\n",
       "      <td>13.054545</td>\n",
       "      <td>10.527273</td>\n",
       "      <td>68.473273</td>\n",
       "    </tr>\n",
       "    <tr>\n",
       "      <th>std</th>\n",
       "      <td>17703.521422</td>\n",
       "      <td>7238.653654</td>\n",
       "      <td>8.666019</td>\n",
       "      <td>5.528016</td>\n",
       "      <td>11039.690857</td>\n",
       "      <td>1.192852</td>\n",
       "      <td>1.412308</td>\n",
       "      <td>14.518399</td>\n",
       "    </tr>\n",
       "    <tr>\n",
       "      <th>min</th>\n",
       "      <td>87.000000</td>\n",
       "      <td>16.000000</td>\n",
       "      <td>8.810000</td>\n",
       "      <td>4.130000</td>\n",
       "      <td>91.000000</td>\n",
       "      <td>10.000000</td>\n",
       "      <td>7.000000</td>\n",
       "      <td>28.571000</td>\n",
       "    </tr>\n",
       "    <tr>\n",
       "      <th>25%</th>\n",
       "      <td>677.500000</td>\n",
       "      <td>138.000000</td>\n",
       "      <td>20.407500</td>\n",
       "      <td>9.320500</td>\n",
       "      <td>537.000000</td>\n",
       "      <td>12.000000</td>\n",
       "      <td>10.000000</td>\n",
       "      <td>60.929000</td>\n",
       "    </tr>\n",
       "    <tr>\n",
       "      <th>50%</th>\n",
       "      <td>2551.000000</td>\n",
       "      <td>630.000000</td>\n",
       "      <td>24.463000</td>\n",
       "      <td>12.090000</td>\n",
       "      <td>1707.000000</td>\n",
       "      <td>13.000000</td>\n",
       "      <td>10.000000</td>\n",
       "      <td>66.915000</td>\n",
       "    </tr>\n",
       "    <tr>\n",
       "      <th>75%</th>\n",
       "      <td>8314.500000</td>\n",
       "      <td>2743.000000</td>\n",
       "      <td>32.139000</td>\n",
       "      <td>15.607500</td>\n",
       "      <td>5316.000000</td>\n",
       "      <td>14.000000</td>\n",
       "      <td>11.000000</td>\n",
       "      <td>75.212500</td>\n",
       "    </tr>\n",
       "    <tr>\n",
       "      <th>max</th>\n",
       "      <td>114618.000000</td>\n",
       "      <td>48676.000000</td>\n",
       "      <td>50.731000</td>\n",
       "      <td>28.064000</td>\n",
       "      <td>73622.000000</td>\n",
       "      <td>16.000000</td>\n",
       "      <td>14.000000</td>\n",
       "      <td>104.598000</td>\n",
       "    </tr>\n",
       "  </tbody>\n",
       "</table>\n",
       "</div>"
      ],
      "text/plain": [
       "       k12_enrollment  k12_test_takers  participation_rate  pct_met_bm  \\\n",
       "count       55.000000        55.000000           55.000000   55.000000   \n",
       "mean      8899.509091      3098.054545           26.203600   12.975382   \n",
       "std      17703.521422      7238.653654            8.666019    5.528016   \n",
       "min         87.000000        16.000000            8.810000    4.130000   \n",
       "25%        677.500000       138.000000           20.407500    9.320500   \n",
       "50%       2551.000000       630.000000           24.463000   12.090000   \n",
       "75%       8314.500000      2743.000000           32.139000   15.607500   \n",
       "max     114618.000000     48676.000000           50.731000   28.064000   \n",
       "\n",
       "       teachers_total  avg_years_of_service  avg_years_in_county  \\\n",
       "count       55.000000             55.000000            55.000000   \n",
       "mean      5587.563636             13.054545            10.527273   \n",
       "std      11039.690857              1.192852             1.412308   \n",
       "min         91.000000             10.000000             7.000000   \n",
       "25%        537.000000             12.000000            10.000000   \n",
       "50%       1707.000000             13.000000            10.000000   \n",
       "75%       5316.000000             14.000000            11.000000   \n",
       "max      73622.000000             16.000000            14.000000   \n",
       "\n",
       "       teacher_k12_student_ratio  \n",
       "count                  55.000000  \n",
       "mean                   68.473273  \n",
       "std                    14.518399  \n",
       "min                    28.571000  \n",
       "25%                    60.929000  \n",
       "50%                    66.915000  \n",
       "75%                    75.212500  \n",
       "max                   104.598000  "
      ]
     },
     "metadata": {},
     "output_type": "display_data"
    },
    {
     "data": {
      "text/html": [
       "<div>\n",
       "<style scoped>\n",
       "    .dataframe tbody tr th:only-of-type {\n",
       "        vertical-align: middle;\n",
       "    }\n",
       "\n",
       "    .dataframe tbody tr th {\n",
       "        vertical-align: top;\n",
       "    }\n",
       "\n",
       "    .dataframe thead th {\n",
       "        text-align: right;\n",
       "    }\n",
       "</style>\n",
       "<table border=\"1\" class=\"dataframe\">\n",
       "  <thead>\n",
       "    <tr style=\"text-align: right;\">\n",
       "      <th></th>\n",
       "      <th>k12_enrollment</th>\n",
       "      <th>k12_test_takers</th>\n",
       "      <th>pct_&gt;=21</th>\n",
       "      <th>participation_rate</th>\n",
       "      <th>teachers_total</th>\n",
       "      <th>avg_years_of_service</th>\n",
       "      <th>avg_years_in_county</th>\n",
       "      <th>teacher_k12_student_ratio</th>\n",
       "    </tr>\n",
       "  </thead>\n",
       "  <tbody>\n",
       "    <tr>\n",
       "      <th>count</th>\n",
       "      <td>54.000000</td>\n",
       "      <td>54.000000</td>\n",
       "      <td>54.000000</td>\n",
       "      <td>54.000000</td>\n",
       "      <td>54.000000</td>\n",
       "      <td>54.000000</td>\n",
       "      <td>54.000000</td>\n",
       "      <td>54.000000</td>\n",
       "    </tr>\n",
       "    <tr>\n",
       "      <th>mean</th>\n",
       "      <td>9057.425926</td>\n",
       "      <td>1530.574074</td>\n",
       "      <td>56.757407</td>\n",
       "      <td>15.198907</td>\n",
       "      <td>5686.277778</td>\n",
       "      <td>13.074074</td>\n",
       "      <td>10.462963</td>\n",
       "      <td>68.268019</td>\n",
       "    </tr>\n",
       "    <tr>\n",
       "      <th>std</th>\n",
       "      <td>17830.613347</td>\n",
       "      <td>3256.453440</td>\n",
       "      <td>17.189004</td>\n",
       "      <td>9.597191</td>\n",
       "      <td>11118.830430</td>\n",
       "      <td>1.195145</td>\n",
       "      <td>1.383364</td>\n",
       "      <td>14.228994</td>\n",
       "    </tr>\n",
       "    <tr>\n",
       "      <th>min</th>\n",
       "      <td>87.000000</td>\n",
       "      <td>15.000000</td>\n",
       "      <td>20.000000</td>\n",
       "      <td>4.066000</td>\n",
       "      <td>91.000000</td>\n",
       "      <td>10.000000</td>\n",
       "      <td>7.000000</td>\n",
       "      <td>28.571000</td>\n",
       "    </tr>\n",
       "    <tr>\n",
       "      <th>25%</th>\n",
       "      <td>737.250000</td>\n",
       "      <td>73.000000</td>\n",
       "      <td>43.560000</td>\n",
       "      <td>9.134500</td>\n",
       "      <td>584.250000</td>\n",
       "      <td>12.000000</td>\n",
       "      <td>10.000000</td>\n",
       "      <td>61.172000</td>\n",
       "    </tr>\n",
       "    <tr>\n",
       "      <th>50%</th>\n",
       "      <td>2599.000000</td>\n",
       "      <td>450.500000</td>\n",
       "      <td>59.775000</td>\n",
       "      <td>13.989500</td>\n",
       "      <td>1737.000000</td>\n",
       "      <td>13.000000</td>\n",
       "      <td>10.000000</td>\n",
       "      <td>67.093000</td>\n",
       "    </tr>\n",
       "    <tr>\n",
       "      <th>75%</th>\n",
       "      <td>8692.750000</td>\n",
       "      <td>1283.250000</td>\n",
       "      <td>71.372500</td>\n",
       "      <td>18.926750</td>\n",
       "      <td>5365.000000</td>\n",
       "      <td>14.000000</td>\n",
       "      <td>11.000000</td>\n",
       "      <td>74.762000</td>\n",
       "    </tr>\n",
       "    <tr>\n",
       "      <th>max</th>\n",
       "      <td>114618.000000</td>\n",
       "      <td>20678.000000</td>\n",
       "      <td>87.100000</td>\n",
       "      <td>63.218000</td>\n",
       "      <td>73622.000000</td>\n",
       "      <td>16.000000</td>\n",
       "      <td>14.000000</td>\n",
       "      <td>104.598000</td>\n",
       "    </tr>\n",
       "  </tbody>\n",
       "</table>\n",
       "</div>"
      ],
      "text/plain": [
       "       k12_enrollment  k12_test_takers   pct_>=21  participation_rate  \\\n",
       "count       54.000000        54.000000  54.000000           54.000000   \n",
       "mean      9057.425926      1530.574074  56.757407           15.198907   \n",
       "std      17830.613347      3256.453440  17.189004            9.597191   \n",
       "min         87.000000        15.000000  20.000000            4.066000   \n",
       "25%        737.250000        73.000000  43.560000            9.134500   \n",
       "50%       2599.000000       450.500000  59.775000           13.989500   \n",
       "75%       8692.750000      1283.250000  71.372500           18.926750   \n",
       "max     114618.000000     20678.000000  87.100000           63.218000   \n",
       "\n",
       "       teachers_total  avg_years_of_service  avg_years_in_county  \\\n",
       "count       54.000000             54.000000            54.000000   \n",
       "mean      5686.277778             13.074074            10.462963   \n",
       "std      11118.830430              1.195145             1.383364   \n",
       "min         91.000000             10.000000             7.000000   \n",
       "25%        584.250000             12.000000            10.000000   \n",
       "50%       1737.000000             13.000000            10.000000   \n",
       "75%       5365.000000             14.000000            11.000000   \n",
       "max      73622.000000             16.000000            14.000000   \n",
       "\n",
       "       teacher_k12_student_ratio  \n",
       "count                  54.000000  \n",
       "mean                   68.268019  \n",
       "std                    14.228994  \n",
       "min                    28.571000  \n",
       "25%                    61.172000  \n",
       "50%                    67.093000  \n",
       "75%                    74.762000  \n",
       "max                   104.598000  "
      ]
     },
     "metadata": {},
     "output_type": "display_data"
    }
   ],
   "source": [
    "# Display summary statistics for all 4 DataFrames\n",
    "display(sat_teachers.describe())\n",
    "display(act_teachers.describe())"
   ]
  },
  {
   "cell_type": "code",
   "execution_count": 32,
   "metadata": {},
   "outputs": [
    {
     "data": {
      "text/plain": [
       "{'k12_enrollment': 17541.842040595115,\n",
       " 'k12_test_takers': 7172.54584298714,\n",
       " 'participation_rate': 8.586875911105697,\n",
       " 'pct_met_bm': 5.477530287840941,\n",
       " 'teachers_total': 10938.869650369212,\n",
       " 'avg_years_of_service': 1.181958033683273,\n",
       " 'avg_years_in_county': 1.3994095567195537,\n",
       " 'teacher_k12_student_ratio': 14.385808113243915}"
      ]
     },
     "metadata": {},
     "output_type": "display_data"
    },
    {
     "data": {
      "text/plain": [
       "{'k12_enrollment': 17664.743571014504,\n",
       " 'k12_test_takers': 3226.1601909772503,\n",
       " 'pct_>=21': 17.029102343100675,\n",
       " 'participation_rate': 9.507912387738335,\n",
       " 'teachers_total': 11015.39720105061,\n",
       " 'avg_years_of_service': 1.1840272120848725,\n",
       " 'avg_years_in_county': 1.3704954897835842,\n",
       " 'teacher_k12_student_ratio': 14.096628830629893}"
      ]
     },
     "metadata": {},
     "output_type": "display_data"
    }
   ],
   "source": [
    "# Display standard deviation for each column as sd\n",
    "\n",
    "sd_sat_teachers = {column:get_std(sat_teachers[column]) for column in sat_teachers.columns[1:]}\n",
    "sd_act_teachers = {column:get_std(act_teachers[column]) for column in act_teachers.columns[1:]}\n",
    "\n",
    "display(sd_sat_teachers)\n",
    "display(sd_act_teachers)\n",
    "\n",
    "# Numbers are different from the summary statistics above with .describe() because pandas uses a different algorithm\n",
    "# to calculate standard deviation."
   ]
  },
  {
   "cell_type": "code",
   "execution_count": 33,
   "metadata": {},
   "outputs": [
    {
     "name": "stdout",
     "output_type": "stream",
     "text": [
      "[SAT] The counties with the highest and lowest teacher-student ratio are Modoc (104.598%) and Mono (28.571%).\n",
      "The counties with the highest and lowest teacher average years of service are Calaveras (16 years) and Lake (10 years) .\n",
      "The counties with the highest and lowest teacher average years in county are Los Angeles (14 years) and Lake (7 years).\n",
      "\n",
      "[ACT] The counties with the highest and lowest teacher-student ratio are Modoc (104.598%) and Mono (28.571%).\n",
      "The counties with the highest and lowest teacher average years of service are Calaveras (16 years) and Lake (7 years).\n",
      "The counties with the highest and lowest teacher average years in county are Los Angeles (14 years) and Lake (7 years).\n",
      "\n"
     ]
    }
   ],
   "source": [
    "# EDA: County with highest/lowest teacher-student ratio, average years of service, average years of service in district\n",
    "\n",
    "# teacher-student ratio for SAT and ACT\n",
    "sat_tsr_max = sat_teachers[sat_teachers[\"teacher_k12_student_ratio\"] == sat_teachers[\"teacher_k12_student_ratio\"].max()]\n",
    "sat_tsr_min = sat_teachers[sat_teachers[\"teacher_k12_student_ratio\"] == sat_teachers[\"teacher_k12_student_ratio\"].min()]\n",
    "\n",
    "act_tsr_max = act_teachers[act_teachers[\"teacher_k12_student_ratio\"] == act_teachers[\"teacher_k12_student_ratio\"].max()]\n",
    "act_tsr_min = act_teachers[act_teachers[\"teacher_k12_student_ratio\"] == act_teachers[\"teacher_k12_student_ratio\"].min()]\n",
    "\n",
    "# Avg years of service for teachers \n",
    "sat_avg_service_max = sat_teachers[sat_teachers[\"avg_years_of_service\"] == sat_teachers[\"avg_years_of_service\"].max()]\n",
    "sat_avg_service_min = sat_teachers[sat_teachers[\"avg_years_of_service\"] == sat_teachers[\"avg_years_of_service\"].min()]\n",
    "\n",
    "act_avg_service_max = act_teachers[act_teachers[\"avg_years_of_service\"] == act_teachers[\"avg_years_of_service\"].max()]\n",
    "act_avg_service_min = act_teachers[act_teachers[\"avg_years_of_service\"] == act_teachers[\"avg_years_of_service\"].min()]\n",
    "\n",
    "\n",
    "# Avg years in county for teachers in SAT and ACT\n",
    "sat_avg_county_max = sat_teachers[sat_teachers[\"avg_years_in_county\"] == sat_teachers[\"avg_years_in_county\"].max()]\n",
    "sat_avg_county_min = sat_teachers[sat_teachers[\"avg_years_in_county\"] == sat_teachers[\"avg_years_in_county\"].min()]\n",
    "\n",
    "act_avg_county_max = act_teachers[act_teachers[\"avg_years_in_county\"] == act_teachers[\"avg_years_in_county\"].max()]\n",
    "act_avg_county_min = act_teachers[act_teachers[\"avg_years_in_county\"] == act_teachers[\"avg_years_in_county\"].min()]\n",
    "\n",
    "print(f\"[SAT] The counties with the highest and lowest teacher-student ratio are {sat_tsr_max.iloc[0]['county']} ({sat_tsr_max.iloc[0]['teacher_k12_student_ratio']}%) and {sat_tsr_min.iloc[0]['county']} ({sat_tsr_min.iloc[0]['teacher_k12_student_ratio']}%).\\n\"\n",
    "f\"The counties with the highest and lowest teacher average years of service are {sat_avg_service_max.iloc[0]['county']} ({sat_avg_service_max.iloc[0]['avg_years_of_service']} years) and {sat_avg_service_min.iloc[0]['county']} ({sat_avg_service_min.iloc[0]['avg_years_of_service']} years) .\\n\"\n",
    "f\"The counties with the highest and lowest teacher average years in county are {sat_avg_county_max.iloc[0]['county']} ({sat_avg_county_max.iloc[0]['avg_years_in_county']} years) and {sat_avg_county_min.iloc[0]['county']} ({sat_avg_county_min.iloc[0]['avg_years_in_county']} years).\\n\")\n",
    "       \n",
    "print(f\"[ACT] The counties with the highest and lowest teacher-student ratio are {act_tsr_max.iloc[0]['county']} ({act_tsr_max.iloc[0]['teacher_k12_student_ratio']}%) and {act_tsr_min.iloc[0]['county']} ({act_tsr_min.iloc[0]['teacher_k12_student_ratio']}%).\\n\"\n",
    "f\"The counties with the highest and lowest teacher average years of service are {act_avg_service_max.iloc[0]['county']} ({act_avg_service_max.iloc[0]['avg_years_of_service']} years) and {act_avg_service_min.iloc[0]['county']} ({act_avg_service_min.iloc[0]['avg_years_in_county']} years).\\n\"\n",
    "f\"The counties with the highest and lowest teacher average years in county are {act_avg_county_max.iloc[0]['county']} ({act_avg_county_max.iloc[0]['avg_years_in_county']} years) and {act_avg_county_min.iloc[0]['county']} ({act_avg_service_min.iloc[0]['avg_years_in_county']} years).\\n\")\n",
    "\n"
   ]
  },
  {
   "cell_type": "markdown",
   "metadata": {},
   "source": [
    "**Note** The findings above was not unexpected as the information were taken from a common source and counties above were not removed as part of data cleaning."
   ]
  },
  {
   "cell_type": "code",
   "execution_count": 34,
   "metadata": {},
   "outputs": [
    {
     "name": "stdout",
     "output_type": "stream",
     "text": [
      "Counties that performed above the state average (12.98%) for students who met SAT benchmarks have the following means:\n",
      "Mean Teacher-Student Ratio: 66.72\n",
      "Mean Years of Service: 13.68 years.\n",
      "Mean Years in County: 11.16 years.\n",
      "\n",
      "Counties that performed above the state average (56.76%) for students who scored >=21 marks for the ACT:\n",
      "Mean Teacher-Student Ratio: 65.54\n",
      "Mean Years of Service: 13.32 years.\n",
      "Mean Years in County: 10.32 years.\n",
      "\n"
     ]
    }
   ],
   "source": [
    "# Mean teacher-student ratio, average years of service and average years in county for ACT and SAT for counties that perform\n",
    "# above the state average for students who met SAT benchmark and scored at least 21 marks for ACT\n",
    "sat_above_mean = sat_teachers[sat_teachers[\"pct_met_bm\"] > sat_teachers[\"pct_met_bm\"].mean()]\n",
    "act_above_mean = act_teachers[act_teachers[\"pct_>=21\"] > act_teachers[\"pct_>=21\"].mean()]\n",
    "\n",
    "print(f\"Counties that performed above the state average ({sat_teachers['pct_met_bm'].mean():.2f}%) for students who met SAT benchmarks have the following means:\\n\"\n",
    "     f\"Mean Teacher-Student Ratio: {sat_above_mean['teacher_k12_student_ratio'].mean():.2f}\\n\"\n",
    "     f\"Mean Years of Service: {sat_above_mean['avg_years_of_service'].mean():.2f} years.\\n\"\n",
    "     f\"Mean Years in County: {sat_above_mean['avg_years_in_county'].mean():.2f} years.\\n\")\n",
    "\n",
    "print(f\"Counties that performed above the state average ({act_teachers['pct_>=21'].mean():.2f}%) for students who scored >=21 marks for the ACT:\\n\"\n",
    "     f\"Mean Teacher-Student Ratio: {act_above_mean['teacher_k12_student_ratio'].mean():.2f}\\n\"\n",
    "     f\"Mean Years of Service: {act_above_mean['avg_years_of_service'].mean():.2f} years.\\n\"\n",
    "     f\"Mean Years in County: {act_above_mean['avg_years_in_county'].mean():.2f} years.\\n\")"
   ]
  },
  {
   "cell_type": "code",
   "execution_count": 35,
   "metadata": {},
   "outputs": [
    {
     "data": {
      "text/plain": [
       "55"
      ]
     },
     "metadata": {},
     "output_type": "display_data"
    },
    {
     "data": {
      "text/plain": [
       "54"
      ]
     },
     "metadata": {},
     "output_type": "display_data"
    },
    {
     "data": {
      "text/html": [
       "<div>\n",
       "<style scoped>\n",
       "    .dataframe tbody tr th:only-of-type {\n",
       "        vertical-align: middle;\n",
       "    }\n",
       "\n",
       "    .dataframe tbody tr th {\n",
       "        vertical-align: top;\n",
       "    }\n",
       "\n",
       "    .dataframe thead th {\n",
       "        text-align: right;\n",
       "    }\n",
       "</style>\n",
       "<table border=\"1\" class=\"dataframe\">\n",
       "  <thead>\n",
       "    <tr style=\"text-align: right;\">\n",
       "      <th></th>\n",
       "      <th>county</th>\n",
       "      <th>k12_enrollment_x</th>\n",
       "      <th>k12_test_takers_x</th>\n",
       "      <th>participation_rate_x</th>\n",
       "      <th>pct_met_bm</th>\n",
       "      <th>teachers_total_x</th>\n",
       "      <th>avg_years_of_service_x</th>\n",
       "      <th>avg_years_in_county_x</th>\n",
       "      <th>teacher_k12_student_ratio_x</th>\n",
       "      <th>k12_enrollment_y</th>\n",
       "      <th>k12_test_takers_y</th>\n",
       "      <th>pct_&gt;=21</th>\n",
       "      <th>participation_rate_y</th>\n",
       "      <th>teachers_total_y</th>\n",
       "      <th>avg_years_of_service_y</th>\n",
       "      <th>avg_years_in_county_y</th>\n",
       "      <th>teacher_k12_student_ratio_y</th>\n",
       "    </tr>\n",
       "  </thead>\n",
       "  <tbody>\n",
       "    <tr>\n",
       "      <th>6</th>\n",
       "      <td>Del Norte</td>\n",
       "      <td>363.0</td>\n",
       "      <td>72.0</td>\n",
       "      <td>19.835</td>\n",
       "      <td>8.264</td>\n",
       "      <td>219.0</td>\n",
       "      <td>14.0</td>\n",
       "      <td>13.0</td>\n",
       "      <td>60.331</td>\n",
       "      <td>NaN</td>\n",
       "      <td>NaN</td>\n",
       "      <td>NaN</td>\n",
       "      <td>NaN</td>\n",
       "      <td>NaN</td>\n",
       "      <td>NaN</td>\n",
       "      <td>NaN</td>\n",
       "      <td>NaN</td>\n",
       "    </tr>\n",
       "    <tr>\n",
       "      <th>30</th>\n",
       "      <td>Plumas</td>\n",
       "      <td>163.0</td>\n",
       "      <td>34.0</td>\n",
       "      <td>20.859</td>\n",
       "      <td>13.497</td>\n",
       "      <td>152.0</td>\n",
       "      <td>12.0</td>\n",
       "      <td>11.0</td>\n",
       "      <td>93.252</td>\n",
       "      <td>NaN</td>\n",
       "      <td>NaN</td>\n",
       "      <td>NaN</td>\n",
       "      <td>NaN</td>\n",
       "      <td>NaN</td>\n",
       "      <td>NaN</td>\n",
       "      <td>NaN</td>\n",
       "      <td>NaN</td>\n",
       "    </tr>\n",
       "    <tr>\n",
       "      <th>55</th>\n",
       "      <td>Trinity</td>\n",
       "      <td>NaN</td>\n",
       "      <td>NaN</td>\n",
       "      <td>NaN</td>\n",
       "      <td>NaN</td>\n",
       "      <td>NaN</td>\n",
       "      <td>NaN</td>\n",
       "      <td>NaN</td>\n",
       "      <td>NaN</td>\n",
       "      <td>154.0</td>\n",
       "      <td>15.0</td>\n",
       "      <td>73.33</td>\n",
       "      <td>9.74</td>\n",
       "      <td>114.0</td>\n",
       "      <td>14.0</td>\n",
       "      <td>10.0</td>\n",
       "      <td>74.026</td>\n",
       "    </tr>\n",
       "  </tbody>\n",
       "</table>\n",
       "</div>"
      ],
      "text/plain": [
       "       county  k12_enrollment_x  k12_test_takers_x  participation_rate_x  \\\n",
       "6   Del Norte             363.0               72.0                19.835   \n",
       "30     Plumas             163.0               34.0                20.859   \n",
       "55    Trinity               NaN                NaN                   NaN   \n",
       "\n",
       "    pct_met_bm  teachers_total_x  avg_years_of_service_x  \\\n",
       "6        8.264             219.0                    14.0   \n",
       "30      13.497             152.0                    12.0   \n",
       "55         NaN               NaN                     NaN   \n",
       "\n",
       "    avg_years_in_county_x  teacher_k12_student_ratio_x  k12_enrollment_y  \\\n",
       "6                    13.0                       60.331               NaN   \n",
       "30                   11.0                       93.252               NaN   \n",
       "55                    NaN                          NaN             154.0   \n",
       "\n",
       "    k12_test_takers_y  pct_>=21  participation_rate_y  teachers_total_y  \\\n",
       "6                 NaN       NaN                   NaN               NaN   \n",
       "30                NaN       NaN                   NaN               NaN   \n",
       "55               15.0     73.33                  9.74             114.0   \n",
       "\n",
       "    avg_years_of_service_y  avg_years_in_county_y  teacher_k12_student_ratio_y  \n",
       "6                      NaN                    NaN                          NaN  \n",
       "30                     NaN                    NaN                          NaN  \n",
       "55                    14.0                   10.0                       74.026  "
      ]
     },
     "execution_count": 35,
     "metadata": {},
     "output_type": "execute_result"
    }
   ],
   "source": [
    "# Number of counties represented in the SAT and ACT data and were any counties left out\n",
    "display(len(sat_teachers))\n",
    "display(len(act_teachers))\n",
    "\n",
    "\n",
    "sat_act_total = pd.merge(sat_teachers, act_teachers, how=\"outer\", on=\"county\")\n",
    "sat_act_total[sat_act_total.isnull().any(axis=1)]"
   ]
  },
  {
   "cell_type": "markdown",
   "metadata": {},
   "source": [
    "The consolidated SAT table does not contain the SAT information on **Plumas** and **Trinity** county while the consolidated\n",
    "ACT table does not contain ACT information on **Del Norte** county as these counties were dropped during cleaning due to the presence of NULL values. As the sample size of both SAT and ACT tables are very similar, it would not have significant impact on our analysis."
   ]
  },
  {
   "cell_type": "markdown",
   "metadata": {},
   "source": [
    "## Data Visualization"
   ]
  },
  {
   "cell_type": "markdown",
   "metadata": {},
   "source": [
    "**Interpretation of Heatmaps of sat_teachers and act_teachers**"
   ]
  },
  {
   "cell_type": "markdown",
   "metadata": {},
   "source": [
    "Our columns of interest are **pct_met_bm** in Fig 1 and **pct_>=21** in Fig 2, and the **teacher_k12_student_ratio**, **avg_years_of service** and **avg_years_in_county**.\n",
    "\n",
    "Notable observations from the heatmaps are:\n",
    "\n",
    "Fig 1:\n",
    "- Close to no correlation of % of students who met the SAT benchmark scores with the Teacher- K12 Student Ratio (0.05)\n",
    "- Weak positive correlation % of students who met the SAT benchmark scores with the Average Teacher's Years of Service and Years of Teaching in County (0.42, 0.33)\n",
    "\n",
    "\n",
    "Fig 2:\n",
    "- Weak negative correlation of % of students who scored above 21 marks for the ACT with the Teacher- K12 Student Ratio (-0.27)\n",
    "- Close to no correlation  of % of students who scored above 21 marks for the ACT with the Average Teacher's Years of Teaching in the County (-0.085)\n",
    "- Weak positive correlation % of students who scored above 21 marks for the ACT with the Average Teacher's Years of Service (0.33)\n",
    "\n",
    "\n",
    "**SUMMARY:** Heatmaps show that the Teacher-K12 Student Ratios had close to no correlation to the measured outcomes for the SAT and weak negative correlation with the measured outcome for the ACT while Average Teacher's Years of Service and Years Teaching in the County showed weak positive correlations in the measured outcomes in both tests in general."
   ]
  },
  {
   "cell_type": "code",
   "execution_count": 36,
   "metadata": {},
   "outputs": [
    {
     "data": {
      "image/png": "[encoded data removed]",
      "text/plain": [
       "<Figure size 1008x432 with 4 Axes>"
      ]
     },
     "metadata": {
      "needs_background": "light"
     },
     "output_type": "display_data"
    }
   ],
   "source": [
    "fig,ax = plt.subplots(1,2, figsize=(14,6))\n",
    "sns.heatmap(sat_teachers.corr(), linewidths=0.5, cmap=\"coolwarm\", ax=ax[0], annot=True)\n",
    "sns.heatmap(act_teachers.corr(), linewidths=0.5, cmap=\"coolwarm\", ax=ax[1], annot=True)\n",
    "\n",
    "ax[0].set_title(\" Fig 1: Heatmap of SAT_Teachers DataFrame\")\n",
    "ax[1].set_title(\"Fig 2: Heatmap of ACT_Teachers DataFrame\")\n",
    "\n",
    "plt.tight_layout()"
   ]
  },
  {
   "cell_type": "markdown",
   "metadata": {},
   "source": [
    "**Interpretation of Scatterplots of sat_teachers and act_teachers**"
   ]
  },
  {
   "cell_type": "markdown",
   "metadata": {},
   "source": [
    "From the SAT scatterplots in Figs 3-5, we observe that counties that scored above the state mean of % students who met the 2019 SAT benchmark have the following features:\n",
    "\n",
    "- Teacher-K12 Student Ratio of between 50%-75% (2 lone datapoints near 90% Teacher-K12 Student Ratio are ignored)\n",
    "- Average Teacher's Years of Service >= 12\n",
    "- Average Years of Teaching in County >= 10\n",
    "\n",
    "\n",
    "From the ACT satterplots in Figs 6-8, we observe that counties that scored above the state mean of students who scored 21 marks and above for the 2019 ACT have the following features:\n",
    "\n",
    "- Teacher-K12 Student Ratio between 58%-73%\n",
    "- Average Teacher's Years of Service >= 11\n",
    "- Average Years of Teaching in County >= 8\n",
    "\n",
    "**SUMMARY**: Comparing Figs 3-5 and Figs 6-8, we observe that in the state of California in 2019, a higher Teacher-K12 Student Ratio, Average Teacher's Years of Service and Years of Teaching in County is required to score above the mean % of students meeting the 2019 SAT benchmark."
   ]
  },
  {
   "cell_type": "code",
   "execution_count": 37,
   "metadata": {},
   "outputs": [
    {
     "data": {
      "image/png": "[encoded data removed]",
      "text/plain": [
       "<Figure size 1008x720 with 3 Axes>"
      ]
     },
     "metadata": {
      "needs_background": "light"
     },
     "output_type": "display_data"
    }
   ],
   "source": [
    "fig, ax = plt.subplots(3,1, figsize=(14,10))\n",
    "mean_sat_bm = (sat_teachers[\"pct_met_bm\"]) > (sat_teachers[\"pct_met_bm\"].mean())\n",
    "\n",
    "sns.scatterplot(ax=ax[0], x=\"teacher_k12_student_ratio\", y=\"pct_met_bm\", data=sat_teachers, hue=mean_sat_bm, legend=False)\n",
    "sns.scatterplot(ax=ax[1], x=\"avg_years_of_service\", y=\"pct_met_bm\", data=sat_teachers, hue=mean_sat_bm, legend=False)\n",
    "sns.scatterplot(ax=ax[2], x=\"avg_years_in_county\", y=\"pct_met_bm\", data=sat_teachers, hue=mean_sat_bm, legend=False)\n",
    "\n",
    "ax[0].legend([\"Counties above the mean % of students\\n\"\n",
    "              \"that met 2019 SAT benchmarks\"], bbox_to_anchor=[1.38,0.7])\n",
    "ax[0].set_title(\"Fig 3: Teacher-K12 Student Ratio v.s.\\n\" \n",
    "                \"% of Students Meeting SAT Benchmarks in 2019 California State SAT\", fontsize=10)\n",
    "ax[0].set_xlabel(\"Teacher-K12 Student Ratio\")\n",
    "ax[0].set_ylabel(\"% Students Met SAT Benchmarks\", fontsize=8)\n",
    "\n",
    "ax[1].legend([\"Counties above the mean % of students\\n\"\n",
    "              \"that met 2019 SAT benchmarks\"], bbox_to_anchor=[1,0.7])\n",
    "ax[1].set_title(\"Fig 4: Average Teacher's Years of Service v.s.\\n\"\n",
    "                \"% of Students Meeting SAT Benchmarks in 2019 California State SAT\", fontsize=10)\n",
    "ax[1].set_xlabel(\"Average Teacher's Years of Service\")\n",
    "ax[1].set_ylabel(\"% Students Met SAT Benchmarks\", fontsize=8)\n",
    "\n",
    "ax[2].legend([\"Counties above the mean % of students\\n\"\n",
    "              \"that met 2019 SAT benchmarks\"], bbox_to_anchor=[1,0.7])\n",
    "ax[2].set_title(\"Fig 5: Average Teacher's Years Teaching in County v.s.\\n\"\n",
    "                \"% of Students Meeting SAT Benchmarks in 2019 California State SAT\", fontsize=10)\n",
    "ax[2].set_xlabel(\"Average Teacher's Years Teaching in County\")\n",
    "ax[2].set_ylabel(\"% Students Met SAT Benchmarks\", fontsize=8)\n",
    "\n",
    "plt.tight_layout()"
   ]
  },
  {
   "cell_type": "code",
   "execution_count": 38,
   "metadata": {},
   "outputs": [
    {
     "data": {
      "image/png": "[encoded data removed]",
      "text/plain": [
       "<Figure size 864x720 with 3 Axes>"
      ]
     },
     "metadata": {
      "needs_background": "light"
     },
     "output_type": "display_data"
    }
   ],
   "source": [
    "fig, ax = plt.subplots(3,1, figsize=(12,10))\n",
    "mean_act_21 = (act_teachers[\"pct_>=21\"]) > (act_teachers[\"pct_>=21\"].mean())\n",
    "\n",
    "sns.scatterplot(ax=ax[0], x=\"teacher_k12_student_ratio\", y=\"pct_>=21\", data=act_teachers, hue=mean_act_21, palette=\"Set2\")\n",
    "sns.scatterplot(ax=ax[1], x=\"avg_years_of_service\", y=\"pct_>=21\", data=act_teachers, hue=mean_act_21, palette=\"Set2\")\n",
    "sns.scatterplot(ax=ax[2], x=\"avg_years_in_county\", y=\"pct_>=21\", data=act_teachers, hue=mean_act_21, palette=\"Set2\")\n",
    "\n",
    "ax[0].legend([\"Counties above the\\n\"\n",
    "              \"mean % of students\\n\"\n",
    "              \"scoring above 21 marks\"], bbox_to_anchor=[1,0.7])\n",
    "ax[0].set_title(\"Fig 6: Teacher-K12 Student Ratio v.s.\\n\"\n",
    "                \"% of Students Scoring Above 21 Marks in 2019 California State ACT\")\n",
    "ax[0].set_xlabel(\"Teacher to K12 Student Ratio\")\n",
    "ax[0].set_ylabel(\"% Students Scoring Above 21 Marks\", fontsize=8)\n",
    "\n",
    "ax[1].legend([\"Counties above the\\n\"\n",
    "              \"mean % of students\\n\"\n",
    "              \"scoring above 21 marks\"], bbox_to_anchor=[1,0.7])\n",
    "ax[1].set_title(\"Fig 7: Average Teacher's Years of Service v.s.\\n\"\n",
    "                \"% of Students Scoring Above 21 Marks in 2019 California State ACT\")\n",
    "ax[1].set_xlabel(\"Average Teacher's Years of Service\")\n",
    "ax[1].set_ylabel(\"% Students Scoring Above 21 Marks\", fontsize=8)\n",
    "\n",
    "ax[2].legend([\"Counties above the\\n\"\n",
    "              \"mean % of students\\n\"\n",
    "              \"scoring above 21 marks\"], bbox_to_anchor=[1,0.7])\n",
    "ax[2].set_title(\"Fig 8: Average Teacher's Years Teaching in County v.s.\\n\"\n",
    "                \"% of Students Scoring Above 21 Marks in 2019 California State ACT\")\n",
    "ax[2].set_xlabel(\"Average Teacher's Years Teaching in County\")\n",
    "ax[2].set_ylabel(\"% Students Scoring Above 21 Marks\", fontsize=8)\n",
    "\n",
    "\n",
    "plt.tight_layout()"
   ]
  },
  {
   "cell_type": "markdown",
   "metadata": {},
   "source": [
    "**Interpreting Regression Plots of sat_teachers and act_teachers**"
   ]
  },
  {
   "cell_type": "markdown",
   "metadata": {},
   "source": [
    "Consistent with the observations from the heatmap, the slope of the linear regression line in Figs 9-12 is of the same sign as the correlation coefficients. \n",
    "\n",
    "**SUMMARY:** We observe that in general, the Teacher-Student Ratio had negative-to-no relationship in predicting the scores of the measured outcomes for the SAT and ACT. While Average Teacher's Years in Service have a positive relationship in predicting the measured outcome for the SAT and ACT and the Average Teacher's Years in County only has a positive relationship in predicting the measured outcome for the SAT. "
   ]
  },
  {
   "cell_type": "code",
   "execution_count": 39,
   "metadata": {},
   "outputs": [
    {
     "data": {
      "image/png": "[encoded data removed]",
      "text/plain": [
       "<Figure size 1008x504 with 2 Axes>"
      ]
     },
     "metadata": {
      "needs_background": "light"
     },
     "output_type": "display_data"
    }
   ],
   "source": [
    "fig,ax = plt.subplots(1,2, figsize = (14, 7))\n",
    "\n",
    "sns.regplot(ax=ax[0],x=\"teacher_k12_student_ratio\", y=\"pct_met_bm\", data=sat_teachers, color=\"green\", label=\"Teacher-K12 Student Ratio\")\n",
    "ax[0].set_title(\"Fig 9: Teacher-K12 Student Ratio v.s.\\n\"\n",
    "                \"% of Students Meeting SAT Benchmarks in\\n\"\n",
    "\"2019 California State SAT\", fontsize=12)\n",
    "ax[0].set_xlabel(\"Teacher to K12 Student Ratio\", fontsize=12)\n",
    "ax[0].set_ylabel(\"% Students Met SAT Benchmarks\", fontsize=12)\n",
    "ax[0].legend(loc=\"upper left\")\n",
    "\n",
    "sns.regplot(ax=ax[1],x=\"teacher_k12_student_ratio\", y=\"pct_>=21\", data=act_teachers, color=\"green\", label=\"Teacher-K12 Student Ratio\")\n",
    "ax[1].set_title(\"Fig 10: Teacher-K12 Student Ratio v.s.\\n\"\n",
    "                \"% of Students Scoring Above 21 Marks in\\n\"\n",
    "\"2019 California State ACT\", fontsize=12)\n",
    "ax[1].set_xlabel(\"Teacher to K12 Student Ratio\", fontsize=12)\n",
    "ax[1].set_ylabel(\"% Students Scored Above 21 Marks\", fontsize=12)\n",
    "ax[1].legend(loc=\"upper left\")\n",
    "\n",
    "plt.tight_layout()"
   ]
  },
  {
   "cell_type": "code",
   "execution_count": 40,
   "metadata": {},
   "outputs": [
    {
     "data": {
      "image/png": "[encoded data removed]",
      "text/plain": [
       "<Figure size 1008x504 with 2 Axes>"
      ]
     },
     "metadata": {
      "needs_background": "light"
     },
     "output_type": "display_data"
    }
   ],
   "source": [
    "fig,ax = plt.subplots(1,2, figsize = (14, 7))\n",
    "\n",
    "sns.regplot(ax=ax[0],x=\"avg_years_in_county\", y=\"pct_met_bm\", data=sat_teachers, color=\"red\", label=\"In County\")\n",
    "sns.regplot(ax=ax[0],x=\"avg_years_of_service\", y=\"pct_met_bm\", data=sat_teachers, color=\"purple\", marker=\"x\", label=\"In Service\")\n",
    "ax[0].set_title(\"Fig 11: Avg Years of Service & Teaching in County v.s.\\n\"\n",
    "                \"% of Students Meeting SAT Benchmarks in\\n\"\n",
    "                \"2019 California State SAT\", fontsize=12)\n",
    "ax[0].set_xlabel(\"Average Years Teaching\", fontsize=12)\n",
    "ax[0].set_ylabel(\"% Students Met SAT Benchmarks\", fontsize=12)\n",
    "ax[0].legend(loc=\"upper left\")\n",
    "\n",
    "sns.regplot(ax=ax[1],x=\"avg_years_of_service\", y=\"pct_>=21\", data=act_teachers, color=\"red\", label=\"In Service\")\n",
    "sns.regplot(ax=ax[1],x=\"avg_years_in_county\", y=\"pct_>=21\", data=act_teachers, color=\"purple\",marker=\"x\", label=\"In County\")\n",
    "ax[1].set_title(\"Fig 12: Avg Years of Service & Teaching in County v.s.\\n\" \n",
    "                \"% of Students Scoring Above 21 Marks in\\n\"\n",
    "                \"2019 California State ACT\", fontsize=12)\n",
    "ax[1].set_xlabel(\"Average Years Teaching\", fontsize=12)\n",
    "ax[1].set_ylabel(\"% Students Scoring Above 21 Marks\", fontsize=12)\n",
    "ax[1].legend(loc=\"upper left\")\n",
    "\n",
    "plt.tight_layout()"
   ]
  },
  {
   "cell_type": "markdown",
   "metadata": {},
   "source": [
    "**SUMMARY OF KEY FINDINGS:** \n",
    "\n",
    "For the SAT, counties with lower Teacher-Student Ratios do not exhibit better outcomes in terms of greater % of students meeting the 2019 SAT benchmark. Counties with teachers who had greater years of experience in service and in the county itself exhibited better outcomes. Counties that score above the mean of the measured outcome have the following features:\n",
    "\n",
    "- Teacher-Student Ratio > 50%-75%\n",
    "- Average Teacher's Years of Service >= 12\n",
    "- Average Years of Teaching in County >= 10\n",
    "\n",
    "\n",
    "For the ACT. Counties with a lower Teacher-Student Ratio exhibit better outcomes in terms of a greater % of students scoring >= 21 marks for the 2019 ACT.This may be because the ACT has more subjects and may benefit more from focused attention from teachers. Counties with teachers who had greater years of experience in service also exhibited better outcomes, however, the greater years of teacher experience in the county does not.This may be an outlier observation as we are only taking a 1 year snapshot in 2018-2019. Counties that score above the mean of the measured outcome have the following features:\n",
    "\n",
    "- Teacher-Student Ratio > 58%-73%\n",
    "- Average Teacher's Years of Service >= 11\n",
    "- Average Years of Teaching in County >= 8"
   ]
  },
  {
   "cell_type": "markdown",
   "metadata": {},
   "source": [
    "## Conclusions and Recommendations"
   ]
  },
  {
   "cell_type": "markdown",
   "metadata": {},
   "source": [
    "Based on the exploration of the data, this project attempts to answer the question:\n",
    "> Are better SAT and ACT scores observed in counties with lower Teacher-K\n",
    "12 Student Ratios and greater teacher experience?\n",
    "\n",
    "**CONCLUSION AND RECOMMENDATIONS:**  \n",
    "\n",
    "\n",
    "- There is **insufficient evidence** that lower Teacher-K12 Student Ratios will positively affect SAT and ACT outcomes as no correlation was observed for the SAT while a weak negative correlation was observed for the ACT.\n",
    "\n",
    "- There is **weak evidence** that teachers with greater experience teaching in the county and in the teaching profession will positively affect the SAT and ACT outcomes as weak positive correlations were observed for the SAT and ACT.\n",
    "\n",
    "As a member of the California Education Department, my preliminary recommendation would be for the state to hire more experienced teachers (with at least 8 years of experience teaching in the county or 11 years of experience overall) rather than trying to decrease the Teacher-K12 Student Ratio as teaching experience has shown to improve SAT and ACT outcomes compared to Teacher-K12 Student Ratios.\n",
    "\n",
    "**WAY AHEAD:** More granular data is needed to drill down to the schools in California that require additional support. Access to the data below at the district/school level will be helpful for deeper analysis:\n",
    "\n",
    " - Teacher Experience \n",
    " - Number of Teachers Teaching K12 Classes (Numbers used in this study is the total number of teachers teaching at all levels, it would be more accurate to calculate the K12 Teachers-K12 Student Ratio)\n",
    " - Raw SAT and ACT Scores at the school level to calculate scores instead of meeting certain benchmarks"
   ]
  }
 ],
 "metadata": {
  "anaconda-cloud": {},
  "kernelspec": {
   "display_name": "Python 3",
   "language": "python",
   "name": "python3"
  },
  "language_info": {
   "codemirror_mode": {
    "name": "ipython",
    "version": 3
   },
   "file_extension": ".py",
   "mimetype": "text/x-python",
   "name": "python",
   "nbconvert_exporter": "python",
   "pygments_lexer": "ipython3",
   "version": "3.8.8"
  }
 },
 "nbformat": 4,
 "nbformat_minor": 4
}
