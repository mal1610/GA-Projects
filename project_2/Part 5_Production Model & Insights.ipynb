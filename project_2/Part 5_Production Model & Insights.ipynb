{
 "cells": [
  {
   "cell_type": "markdown",
   "id": "15374189",
   "metadata": {},
   "source": [
    "# Part 5 - Production Model & Insights\n",
    "\n",
    "\n",
    "As our business problem requires us to optimize the number of features to be used in our valuation app on the website, we will select the number of features based on the RMSE gain over the baseline (RMSE from top 5 features)."
   ]
  },
  {
   "cell_type": "code",
   "execution_count": 1,
   "id": "52866fd1",
   "metadata": {},
   "outputs": [
    {
     "data": {
      "text/html": [
       "<div>\n",
       "<style scoped>\n",
       "    .dataframe tbody tr th:only-of-type {\n",
       "        vertical-align: middle;\n",
       "    }\n",
       "\n",
       "    .dataframe tbody tr th {\n",
       "        vertical-align: top;\n",
       "    }\n",
       "\n",
       "    .dataframe thead th {\n",
       "        text-align: right;\n",
       "    }\n",
       "</style>\n",
       "<table border=\"1\" class=\"dataframe\">\n",
       "  <thead>\n",
       "    <tr style=\"text-align: right;\">\n",
       "      <th></th>\n",
       "      <th>number_of_features</th>\n",
       "      <th>RMSE</th>\n",
       "      <th>coef_weights</th>\n",
       "      <th>coefficients</th>\n",
       "      <th>intercept</th>\n",
       "    </tr>\n",
       "  </thead>\n",
       "  <tbody>\n",
       "    <tr>\n",
       "      <th>0</th>\n",
       "      <td>5</td>\n",
       "      <td>30273.521</td>\n",
       "      <td>[ 0.14053554  0.21168776 -0.27008266  0.308788...</td>\n",
       "      <td>Index(['Gr Liv Area', 'Overall Qual', 'has_bsm...</td>\n",
       "      <td>12.023425</td>\n",
       "    </tr>\n",
       "    <tr>\n",
       "      <th>1</th>\n",
       "      <td>10</td>\n",
       "      <td>25563.945</td>\n",
       "      <td>[ 0.13073036  0.16167758 -0.22179721  0.037306...</td>\n",
       "      <td>['Gr Liv Area', 'Overall Qual', 'has_bsmt', 'O...</td>\n",
       "      <td>12.023425</td>\n",
       "    </tr>\n",
       "    <tr>\n",
       "      <th>2</th>\n",
       "      <td>15</td>\n",
       "      <td>25613.451</td>\n",
       "      <td>[ 0.12390228  0.14841647 -0.17552966  0.043898...</td>\n",
       "      <td>['Gr Liv Area', 'Overall Qual', 'has_bsmt', 'O...</td>\n",
       "      <td>12.023425</td>\n",
       "    </tr>\n",
       "    <tr>\n",
       "      <th>3</th>\n",
       "      <td>20</td>\n",
       "      <td>24522.634</td>\n",
       "      <td>[ 0.11897838  0.12412979 -0.14102237  0.042980...</td>\n",
       "      <td>['Gr Liv Area', 'Overall Qual', 'has_bsmt', 'O...</td>\n",
       "      <td>12.023425</td>\n",
       "    </tr>\n",
       "    <tr>\n",
       "      <th>4</th>\n",
       "      <td>25</td>\n",
       "      <td>22861.814</td>\n",
       "      <td>[ 0.12213601  0.10361667 -0.11976441  0.045399...</td>\n",
       "      <td>['Gr Liv Area', 'Overall Qual', 'has_bsmt', 'O...</td>\n",
       "      <td>12.023425</td>\n",
       "    </tr>\n",
       "    <tr>\n",
       "      <th>5</th>\n",
       "      <td>30</td>\n",
       "      <td>21400.976</td>\n",
       "      <td>[ 0.12122448  0.09320725 -0.11655218  0.046910...</td>\n",
       "      <td>['Gr Liv Area', 'Overall Qual', 'has_bsmt', 'O...</td>\n",
       "      <td>12.023425</td>\n",
       "    </tr>\n",
       "  </tbody>\n",
       "</table>\n",
       "</div>"
      ],
      "text/plain": [
       "   number_of_features       RMSE  \\\n",
       "0                   5  30273.521   \n",
       "1                  10  25563.945   \n",
       "2                  15  25613.451   \n",
       "3                  20  24522.634   \n",
       "4                  25  22861.814   \n",
       "5                  30  21400.976   \n",
       "\n",
       "                                        coef_weights  \\\n",
       "0  [ 0.14053554  0.21168776 -0.27008266  0.308788...   \n",
       "1  [ 0.13073036  0.16167758 -0.22179721  0.037306...   \n",
       "2  [ 0.12390228  0.14841647 -0.17552966  0.043898...   \n",
       "3  [ 0.11897838  0.12412979 -0.14102237  0.042980...   \n",
       "4  [ 0.12213601  0.10361667 -0.11976441  0.045399...   \n",
       "5  [ 0.12122448  0.09320725 -0.11655218  0.046910...   \n",
       "\n",
       "                                        coefficients  intercept  \n",
       "0  Index(['Gr Liv Area', 'Overall Qual', 'has_bsm...  12.023425  \n",
       "1  ['Gr Liv Area', 'Overall Qual', 'has_bsmt', 'O...  12.023425  \n",
       "2  ['Gr Liv Area', 'Overall Qual', 'has_bsmt', 'O...  12.023425  \n",
       "3  ['Gr Liv Area', 'Overall Qual', 'has_bsmt', 'O...  12.023425  \n",
       "4  ['Gr Liv Area', 'Overall Qual', 'has_bsmt', 'O...  12.023425  \n",
       "5  ['Gr Liv Area', 'Overall Qual', 'has_bsmt', 'O...  12.023425  "
      ]
     },
     "execution_count": 1,
     "metadata": {},
     "output_type": "execute_result"
    }
   ],
   "source": [
    "import pandas as pd\n",
    "import numpy as np\n",
    "import matplotlib.pyplot as plt\n",
    "import seaborn as sns\n",
    "import warnings\n",
    "\n",
    "warnings.filterwarnings(\"ignore\")\n",
    "\n",
    "reference = pd.read_csv(\"df_clean_ordinal_encoded.csv\")\n",
    "df = pd.read_csv(\"df_production.csv\")\n",
    "df"
   ]
  },
  {
   "cell_type": "markdown",
   "id": "1dd64c23",
   "metadata": {},
   "source": [
    "## Visualizing The RMSE Scores\n",
    "---\n",
    "From the plot below, we can see that there is an inverse relationship with the number of features included in our model with the RMSE during training. We have also manually input our kaggle Private Leaderboard Scores.\n",
    "\n",
    "\n",
    "The Ridge regression model using Top 5 features will serve as our baseline RMSE as we expect the scores to get better as we include more features. As mentioned above, with the exception of the baseline, inclusion of additional features tend to increase the RMSE of the model when exposed to unseen data.\n",
    "\n",
    "\n",
    "The model likely does not have an overfitting as it uses relatively few features (max 30/90 features) and the RMSE score, nor is it an underfitting problem as the RMSE score when all 90 features are fitted (approx 20K) is relatively close to the RMSE score with 30 features (approx 21K). Therefore a plausible explanation would be the presence of outliers in the Kaggle test set, which adversely impacted the performance of the regression model."
   ]
  },
  {
   "cell_type": "code",
   "execution_count": 2,
   "id": "6a8ffbe4",
   "metadata": {},
   "outputs": [
    {
     "data": {
      "text/plain": [
       "number_of_features      int64\n",
       "RMSE                  float64\n",
       "coef_weights           object\n",
       "coefficients           object\n",
       "intercept             float64\n",
       "dtype: object"
      ]
     },
     "execution_count": 2,
     "metadata": {},
     "output_type": "execute_result"
    }
   ],
   "source": [
    "df.dtypes"
   ]
  },
  {
   "cell_type": "code",
   "execution_count": 3,
   "id": "24a51e30",
   "metadata": {},
   "outputs": [
    {
     "data": {
      "image/png": "[encoded data removed]",
      "text/plain": [
       "<Figure size 1008x432 with 1 Axes>"
      ]
     },
     "metadata": {
      "needs_background": "light"
     },
     "output_type": "display_data"
    },
    {
     "data": {
      "image/png": "[encoded data removed]",
      "text/plain": [
       "<Figure size 1008x432 with 1 Axes>"
      ]
     },
     "metadata": {
      "needs_background": "light"
     },
     "output_type": "display_data"
    }
   ],
   "source": [
    "# manually retrieve my kaggle private score\n",
    "kaggle = [30767, 110795, 78737, 56719, 45939, 45631]\n",
    "\n",
    "df[\"kaggle_private_score_rmse\"] = kaggle\n",
    "\n",
    "plt.figure(figsize=(14,6))\n",
    "sns.scatterplot(\"number_of_features\", \"RMSE\", data=df, label= \"Training RMSE\", s=100)\n",
    "sns.scatterplot(\"number_of_features\", \"kaggle_private_score_rmse\", data=df, color=\"r\", label=\"Kaggle RMSE\", s=100)\n",
    "plt.title(\"RMSE Score v.s. Number of Features included in Best Performing Model\", fontsize=14)\n",
    "plt.xlabel(\"Number of Features\", fontsize=12)\n",
    "plt.ylabel(\"RMSE\", fontsize=12)\n",
    "plt.legend()\n",
    "plt.show()\n",
    "\n",
    "df[\"RMSE_improvement\"] = -(df[\"RMSE\"]-df.iloc[0,1])\n",
    "df[\"RMSE_improvement_kaggle\"] = -(df[\"kaggle_private_score_rmse\"]-df.iloc[0,5])\n",
    "\n",
    "\n",
    "plt.figure(figsize=(14,6))\n",
    "plt.plot(df[\"number_of_features\"],df[\"RMSE_improvement\"], \"bo-\", label=\"Training Set\")\n",
    "plt.plot(df[\"number_of_features\"],df[\"RMSE_improvement_kaggle\"], \"ro-\", label= \"Kaggle Test Set\")\n",
    "plt.title(\"RMSE Improvement wrt RMSE (5 Features) v.s. Number of Features\", fontsize=14)\n",
    "plt.ylabel(\"RMSE Improvement\", fontsize=14)\n",
    "plt.xlabel(\"Number of Features\", fontsize=14)\n",
    "plt.legend()\n",
    "plt.show()"
   ]
  },
  {
   "cell_type": "markdown",
   "id": "01c6d140",
   "metadata": {},
   "source": [
    "### Accuracy - User Experience Trade-off\n",
    "\n",
    "\n",
    "Examining the RMSE gain shows that no significant increases in RMSE is obtained by increasing the number of features beyond the top 5 features. In fact for the test set, the performance initially by including 10 coefficients, and recover thereafter but still performing below the RMSE score of the top 5 features.\n",
    "\n",
    "Selecting 10 features led to a RMSE (taking the kaggle test set) that is approximately 18% (or ~$30K) of the mean SalePrice of the training set, which is acceptable given that the valuation obtained via our web app is supposed to be a preliminary valuation.\n",
    "\n",
    "Therefore, we will select features = **5** as the number of features in our web app that requires user input. This is in agreement with existing User Experience (UX) literature to keep fields in a form to below 10 fields for optimal user engagement and conversion."
   ]
  },
  {
   "cell_type": "code",
   "execution_count": 4,
   "id": "3e844f24",
   "metadata": {},
   "outputs": [
    {
     "name": "stdout",
     "output_type": "stream",
     "text": [
      "The difference in RMSE translates to 0.0 % of the mean SalePrice\n"
     ]
    },
    {
     "data": {
      "text/html": [
       "<div>\n",
       "<style scoped>\n",
       "    .dataframe tbody tr th:only-of-type {\n",
       "        vertical-align: middle;\n",
       "    }\n",
       "\n",
       "    .dataframe tbody tr th {\n",
       "        vertical-align: top;\n",
       "    }\n",
       "\n",
       "    .dataframe thead th {\n",
       "        text-align: right;\n",
       "    }\n",
       "</style>\n",
       "<table border=\"1\" class=\"dataframe\">\n",
       "  <thead>\n",
       "    <tr style=\"text-align: right;\">\n",
       "      <th></th>\n",
       "      <th>number_of_features</th>\n",
       "      <th>RMSE</th>\n",
       "      <th>coef_weights</th>\n",
       "      <th>coefficients</th>\n",
       "      <th>intercept</th>\n",
       "      <th>kaggle_private_score_rmse</th>\n",
       "      <th>RMSE_improvement</th>\n",
       "      <th>RMSE_improvement_kaggle</th>\n",
       "    </tr>\n",
       "  </thead>\n",
       "  <tbody>\n",
       "    <tr>\n",
       "      <th>0</th>\n",
       "      <td>5</td>\n",
       "      <td>30273.521</td>\n",
       "      <td>[ 0.14053554  0.21168776 -0.27008266  0.308788...</td>\n",
       "      <td>Index(['Gr Liv Area', 'Overall Qual', 'has_bsm...</td>\n",
       "      <td>12.023425</td>\n",
       "      <td>30767</td>\n",
       "      <td>-0.000</td>\n",
       "      <td>0</td>\n",
       "    </tr>\n",
       "    <tr>\n",
       "      <th>1</th>\n",
       "      <td>10</td>\n",
       "      <td>25563.945</td>\n",
       "      <td>[ 0.13073036  0.16167758 -0.22179721  0.037306...</td>\n",
       "      <td>['Gr Liv Area', 'Overall Qual', 'has_bsmt', 'O...</td>\n",
       "      <td>12.023425</td>\n",
       "      <td>110795</td>\n",
       "      <td>4709.576</td>\n",
       "      <td>-80028</td>\n",
       "    </tr>\n",
       "    <tr>\n",
       "      <th>2</th>\n",
       "      <td>15</td>\n",
       "      <td>25613.451</td>\n",
       "      <td>[ 0.12390228  0.14841647 -0.17552966  0.043898...</td>\n",
       "      <td>['Gr Liv Area', 'Overall Qual', 'has_bsmt', 'O...</td>\n",
       "      <td>12.023425</td>\n",
       "      <td>78737</td>\n",
       "      <td>4660.070</td>\n",
       "      <td>-47970</td>\n",
       "    </tr>\n",
       "    <tr>\n",
       "      <th>3</th>\n",
       "      <td>20</td>\n",
       "      <td>24522.634</td>\n",
       "      <td>[ 0.11897838  0.12412979 -0.14102237  0.042980...</td>\n",
       "      <td>['Gr Liv Area', 'Overall Qual', 'has_bsmt', 'O...</td>\n",
       "      <td>12.023425</td>\n",
       "      <td>56719</td>\n",
       "      <td>5750.887</td>\n",
       "      <td>-25952</td>\n",
       "    </tr>\n",
       "    <tr>\n",
       "      <th>4</th>\n",
       "      <td>25</td>\n",
       "      <td>22861.814</td>\n",
       "      <td>[ 0.12213601  0.10361667 -0.11976441  0.045399...</td>\n",
       "      <td>['Gr Liv Area', 'Overall Qual', 'has_bsmt', 'O...</td>\n",
       "      <td>12.023425</td>\n",
       "      <td>45939</td>\n",
       "      <td>7411.707</td>\n",
       "      <td>-15172</td>\n",
       "    </tr>\n",
       "    <tr>\n",
       "      <th>5</th>\n",
       "      <td>30</td>\n",
       "      <td>21400.976</td>\n",
       "      <td>[ 0.12122448  0.09320725 -0.11655218  0.046910...</td>\n",
       "      <td>['Gr Liv Area', 'Overall Qual', 'has_bsmt', 'O...</td>\n",
       "      <td>12.023425</td>\n",
       "      <td>45631</td>\n",
       "      <td>8872.545</td>\n",
       "      <td>-14864</td>\n",
       "    </tr>\n",
       "  </tbody>\n",
       "</table>\n",
       "</div>"
      ],
      "text/plain": [
       "   number_of_features       RMSE  \\\n",
       "0                   5  30273.521   \n",
       "1                  10  25563.945   \n",
       "2                  15  25613.451   \n",
       "3                  20  24522.634   \n",
       "4                  25  22861.814   \n",
       "5                  30  21400.976   \n",
       "\n",
       "                                        coef_weights  \\\n",
       "0  [ 0.14053554  0.21168776 -0.27008266  0.308788...   \n",
       "1  [ 0.13073036  0.16167758 -0.22179721  0.037306...   \n",
       "2  [ 0.12390228  0.14841647 -0.17552966  0.043898...   \n",
       "3  [ 0.11897838  0.12412979 -0.14102237  0.042980...   \n",
       "4  [ 0.12213601  0.10361667 -0.11976441  0.045399...   \n",
       "5  [ 0.12122448  0.09320725 -0.11655218  0.046910...   \n",
       "\n",
       "                                        coefficients  intercept  \\\n",
       "0  Index(['Gr Liv Area', 'Overall Qual', 'has_bsm...  12.023425   \n",
       "1  ['Gr Liv Area', 'Overall Qual', 'has_bsmt', 'O...  12.023425   \n",
       "2  ['Gr Liv Area', 'Overall Qual', 'has_bsmt', 'O...  12.023425   \n",
       "3  ['Gr Liv Area', 'Overall Qual', 'has_bsmt', 'O...  12.023425   \n",
       "4  ['Gr Liv Area', 'Overall Qual', 'has_bsmt', 'O...  12.023425   \n",
       "5  ['Gr Liv Area', 'Overall Qual', 'has_bsmt', 'O...  12.023425   \n",
       "\n",
       "   kaggle_private_score_rmse  RMSE_improvement  RMSE_improvement_kaggle  \n",
       "0                      30767            -0.000                        0  \n",
       "1                     110795          4709.576                   -80028  \n",
       "2                      78737          4660.070                   -47970  \n",
       "3                      56719          5750.887                   -25952  \n",
       "4                      45939          7411.707                   -15172  \n",
       "5                      45631          8872.545                   -14864  "
      ]
     },
     "metadata": {},
     "output_type": "display_data"
    }
   ],
   "source": [
    "mean_saleprice = np.expm1(reference[\"SalePrice\"].mean())\n",
    "pct = 100*round(df.iloc[0,4]/mean_saleprice, 2)\n",
    "\n",
    "print(f\"The difference in RMSE translates to {pct} % of the mean SalePrice\")\n",
    "display(df)"
   ]
  },
  {
   "cell_type": "markdown",
   "id": "3cfadf1c",
   "metadata": {},
   "source": [
    "## Insights\n",
    "\n",
    "\n",
    "### 1. Interpretation of Coefficients\n",
    "\n",
    "\n",
    "The coefficients of Ridge regression model using the top 5 features is shown in the dataframe below and can be interpreted as such (due to Log1p transformations on the target and the features) instead of a **unit change** of a feature causinga constant change in the target, the effect of the features on the target will be in terms of percentages.\n",
    "\n",
    "**The coefficient can be interpreted as the approximate percent increase in the the target(`SalePrice`) for every 1% increase in the features while holding other features constant.**\n",
    "\n",
    "\n",
    "For example, this means that a 1% increase in `Gr Liv Area` would result in a ~0.14% increase in the `SalePrice`, holding the other 9 features constant. The largest contributor to `SalePrice` is `Gr Liv Area`.\n",
    "\n",
    "\n",
    "#### Observation 1: Basements lower value\n",
    "In addition, we observe that a property having a basement is the 2nd largest coefficient and is negative. This means that the properties with basements will be penalized and have a lower valuation.\n",
    "\n",
    "\n",
    "#### Observation 2: Living Area takes precedence over actual lot area\n",
    "In general, the living area of a property is contributes more to its valuation than the actual lot area of the property itself.\n",
    "\n",
    "\n",
    "#### Observation 3: Improving the overall condition and property of a home improves value\n",
    "As seen from the inclusion of `Overall Qual` and `Overall Cond` as the top 5 coefficients, owners who wish to increase their property's value may opt to conduct refurbishment works as it will contribute towards its value."
   ]
  },
  {
   "cell_type": "code",
   "execution_count": 22,
   "id": "01ef82c8",
   "metadata": {},
   "outputs": [
    {
     "data": {
      "text/plain": [
       "'[ 0.14053554  0.21168776 -0.27008266  0.30878855  0.04276423]'"
      ]
     },
     "execution_count": 22,
     "metadata": {},
     "output_type": "execute_result"
    }
   ],
   "source": [
    "df.iloc[0,2]"
   ]
  },
  {
   "cell_type": "code",
   "execution_count": 23,
   "id": "a1bfdd2d",
   "metadata": {},
   "outputs": [
    {
     "data": {
      "text/html": [
       "<div>\n",
       "<style scoped>\n",
       "    .dataframe tbody tr th:only-of-type {\n",
       "        vertical-align: middle;\n",
       "    }\n",
       "\n",
       "    .dataframe tbody tr th {\n",
       "        vertical-align: top;\n",
       "    }\n",
       "\n",
       "    .dataframe thead th {\n",
       "        text-align: right;\n",
       "    }\n",
       "</style>\n",
       "<table border=\"1\" class=\"dataframe\">\n",
       "  <thead>\n",
       "    <tr style=\"text-align: right;\">\n",
       "      <th></th>\n",
       "      <th>feature_names</th>\n",
       "      <th>feature_coefs</th>\n",
       "    </tr>\n",
       "  </thead>\n",
       "  <tbody>\n",
       "    <tr>\n",
       "      <th>0</th>\n",
       "      <td>Gr Liv Area</td>\n",
       "      <td>0.140536</td>\n",
       "    </tr>\n",
       "    <tr>\n",
       "      <th>1</th>\n",
       "      <td>Overall Qual</td>\n",
       "      <td>0.211688</td>\n",
       "    </tr>\n",
       "    <tr>\n",
       "      <th>2</th>\n",
       "      <td>has_bsmt</td>\n",
       "      <td>-0.270083</td>\n",
       "    </tr>\n",
       "    <tr>\n",
       "      <th>3</th>\n",
       "      <td>Overall Cond</td>\n",
       "      <td>0.308789</td>\n",
       "    </tr>\n",
       "    <tr>\n",
       "      <th>4</th>\n",
       "      <td>Lot Area</td>\n",
       "      <td>0.042764</td>\n",
       "    </tr>\n",
       "  </tbody>\n",
       "</table>\n",
       "</div>"
      ],
      "text/plain": [
       "  feature_names  feature_coefs\n",
       "0   Gr Liv Area       0.140536\n",
       "1  Overall Qual       0.211688\n",
       "2      has_bsmt      -0.270083\n",
       "3  Overall Cond       0.308789\n",
       "4      Lot Area       0.042764"
      ]
     },
     "metadata": {},
     "output_type": "display_data"
    }
   ],
   "source": [
    "# preprocess the dataframe information\n",
    "top5_coefs = [0.14053554, 0.21168776, -0.27008266, 0.30878855, 0.04276423]\n",
    "\n",
    "import ast\n",
    "df.iloc[0,3] = df.iloc[0,3].replace(\"Index\",\"\").replace(\", dtype='object'\", \"\")\n",
    "top_names = ast.literal_eval(df.iloc[0,3])\n",
    "\n",
    "df_top5 = pd.DataFrame({\"feature_names\":top_names, \"feature_coefs\": top5_coefs})\n",
    "display(df_top5)"
   ]
  },
  {
   "cell_type": "markdown",
   "id": "e8061a64",
   "metadata": {},
   "source": [
    "## Answering the Business Question & Future Work\n",
    "\n",
    "\n",
    "We have selected the Ridge Regression model with 5 features as the most performing model for our web app. The RMSE is approximately $30,000 and is sufficient to provide a preliminary valuation to provide a benchmark for our users in the USA. On our website, the user will be asked to input the following information to feed into our regression model:\n",
    "\n",
    "- `Gr Liv Area`:Above grade (ground) living area square feet\n",
    "- `Overall Qual`: Rates the overall quality of the property\n",
    "- `has_bsmt`: Whether the property has a basement\n",
    "- `Overall Cond`: Rates the overall material and finish of the property\n",
    "- `Lot Area`: Lot size in square feet\n",
    "\n",
    "\n",
    "Having such a low number of features also improves the User Experience as it would not take up too much time to fill in the information required by our app.\n",
    "\n",
    "\n",
    "The accuracy of the model can be further improved by:\n",
    "\n",
    "\n",
    "1. Collecting more data from our US cities as certain preferences may be unique to Ames, Iowa. Collecting more samples will allow the model to generalize better to unseen data.\n",
    "\n",
    "\n",
    "2. There are many hidden features inside the `Neighborhood` feature as many other possible other features characterize whether a property in a particular neighborhood is of value, such as crime rate, proximity to good schools, proximity to employment centers or near rivers/lakes. Such features should be collected instead of stating the neighborhood of the property."
   ]
  }
 ],
 "metadata": {
  "kernelspec": {
   "display_name": "Python 3 (ipykernel)",
   "language": "python",
   "name": "python3"
  },
  "language_info": {
   "codemirror_mode": {
    "name": "ipython",
    "version": 3
   },
   "file_extension": ".py",
   "mimetype": "text/x-python",
   "name": "python",
   "nbconvert_exporter": "python",
   "pygments_lexer": "ipython3",
   "version": "3.8.12"
  }
 },
 "nbformat": 4,
 "nbformat_minor": 5
}
