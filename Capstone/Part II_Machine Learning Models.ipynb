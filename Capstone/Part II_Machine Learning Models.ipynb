{
 "cells": [
  {
   "cell_type": "markdown",
   "id": "e896ffa3-053a-43b4-a131-c0b46b650a14",
   "metadata": {},
   "source": [
    "# Part 2: Modelling\n",
    "\n",
    "In this notebook, we will be splitting the data into train, test and validation sets, and use the following Machine Learning models to conduct the binary classification task.\n",
    "\n",
    "\n",
    "1. Multinomial Naive Bayes with Count Vectorizer (Benchmark)\n",
    "2. Logistic Regresssion\n",
    "3. XGBoost Classifier\n",
    "4. Random Forest Classifier\n",
    "\n",
    "For models 2-4, we will run them with both CountVectorizer & TF-IDF Vectorizer and conduct hyperparameter tuning using `RandomizedSearchCV`."
   ]
  },
  {
   "cell_type": "code",
   "execution_count": 1,
   "id": "e3b4075b-f5c3-4d8d-95c8-c64bbe62a4de",
   "metadata": {},
   "outputs": [],
   "source": [
    "# import libraries\n",
    "import pandas as pd\n",
    "import numpy as np\n",
    "import pickle\n",
    "import warnings\n",
    "\n",
    "import xgboost as xgb\n",
    "\n",
    "import matplotlib.pyplot as plt\n",
    "import seaborn as sns\n",
    "\n",
    "from sklearn.pipeline import Pipeline\n",
    "from sklearn.model_selection import train_test_split, RandomizedSearchCV\n",
    "from sklearn.feature_extraction.text import CountVectorizer, TfidfVectorizer\n",
    "from sklearn.metrics import f1_score, roc_auc_score, confusion_matrix, ConfusionMatrixDisplay, recall_score, precision_score\n",
    "from sklearn.naive_bayes import MultinomialNB\n",
    "from sklearn.linear_model import LogisticRegression\n",
    "from sklearn.ensemble import RandomForestClassifier\n",
    "\n",
    "\n",
    "# random state for the entire notebook\n",
    "seed=99"
   ]
  },
  {
   "cell_type": "markdown",
   "id": "5fbff32a-bfb6-422e-8f1f-48a7c664f514",
   "metadata": {},
   "source": [
    "## Importing Datasets"
   ]
  },
  {
   "cell_type": "code",
   "execution_count": 2,
   "id": "24803fb5-97e0-4bbd-a1d3-6968345c48ce",
   "metadata": {},
   "outputs": [],
   "source": [
    "df = pd.read_csv('../data/reviews_clean.csv')"
   ]
  },
  {
   "cell_type": "code",
   "execution_count": 3,
   "id": "6889e2b0-bf60-44c3-be57-a030990d39ec",
   "metadata": {},
   "outputs": [
    {
     "data": {
      "text/html": [
       "<div>\n",
       "<style scoped>\n",
       "    .dataframe tbody tr th:only-of-type {\n",
       "        vertical-align: middle;\n",
       "    }\n",
       "\n",
       "    .dataframe tbody tr th {\n",
       "        vertical-align: top;\n",
       "    }\n",
       "\n",
       "    .dataframe thead th {\n",
       "        text-align: right;\n",
       "    }\n",
       "</style>\n",
       "<table border=\"1\" class=\"dataframe\">\n",
       "  <thead>\n",
       "    <tr style=\"text-align: right;\">\n",
       "      <th></th>\n",
       "      <th>category</th>\n",
       "      <th>rating</th>\n",
       "      <th>label</th>\n",
       "      <th>text</th>\n",
       "      <th>class</th>\n",
       "      <th>clean_text</th>\n",
       "      <th>text_word_length</th>\n",
       "    </tr>\n",
       "  </thead>\n",
       "  <tbody>\n",
       "    <tr>\n",
       "      <th>0</th>\n",
       "      <td>home_and_kitchen</td>\n",
       "      <td>5.0</td>\n",
       "      <td>CG</td>\n",
       "      <td>Love this!  Well made, sturdy, and very comfor...</td>\n",
       "      <td>1</td>\n",
       "      <td>love this well made sturdy and very comfortabl...</td>\n",
       "      <td>12</td>\n",
       "    </tr>\n",
       "    <tr>\n",
       "      <th>1</th>\n",
       "      <td>home_and_kitchen</td>\n",
       "      <td>5.0</td>\n",
       "      <td>CG</td>\n",
       "      <td>love it, a great upgrade from the original.  I...</td>\n",
       "      <td>1</td>\n",
       "      <td>love it a great upgrade from the original i ha...</td>\n",
       "      <td>16</td>\n",
       "    </tr>\n",
       "    <tr>\n",
       "      <th>2</th>\n",
       "      <td>home_and_kitchen</td>\n",
       "      <td>5.0</td>\n",
       "      <td>CG</td>\n",
       "      <td>This pillow saved my back. I love the look and...</td>\n",
       "      <td>1</td>\n",
       "      <td>this pillow saved my back i love the look and ...</td>\n",
       "      <td>14</td>\n",
       "    </tr>\n",
       "    <tr>\n",
       "      <th>3</th>\n",
       "      <td>home_and_kitchen</td>\n",
       "      <td>1.0</td>\n",
       "      <td>CG</td>\n",
       "      <td>Missing information on how to use it, but it i...</td>\n",
       "      <td>1</td>\n",
       "      <td>missing information on how to use it but it is...</td>\n",
       "      <td>17</td>\n",
       "    </tr>\n",
       "    <tr>\n",
       "      <th>4</th>\n",
       "      <td>home_and_kitchen</td>\n",
       "      <td>5.0</td>\n",
       "      <td>CG</td>\n",
       "      <td>Very nice set. Good quality. We have had the s...</td>\n",
       "      <td>1</td>\n",
       "      <td>very nice set good quality we have had the set...</td>\n",
       "      <td>18</td>\n",
       "    </tr>\n",
       "  </tbody>\n",
       "</table>\n",
       "</div>"
      ],
      "text/plain": [
       "           category  rating label  \\\n",
       "0  home_and_kitchen     5.0    CG   \n",
       "1  home_and_kitchen     5.0    CG   \n",
       "2  home_and_kitchen     5.0    CG   \n",
       "3  home_and_kitchen     1.0    CG   \n",
       "4  home_and_kitchen     5.0    CG   \n",
       "\n",
       "                                                text  class  \\\n",
       "0  Love this!  Well made, sturdy, and very comfor...      1   \n",
       "1  love it, a great upgrade from the original.  I...      1   \n",
       "2  This pillow saved my back. I love the look and...      1   \n",
       "3  Missing information on how to use it, but it i...      1   \n",
       "4  Very nice set. Good quality. We have had the s...      1   \n",
       "\n",
       "                                          clean_text  text_word_length  \n",
       "0  love this well made sturdy and very comfortabl...                12  \n",
       "1  love it a great upgrade from the original i ha...                16  \n",
       "2  this pillow saved my back i love the look and ...                14  \n",
       "3  missing information on how to use it but it is...                17  \n",
       "4  very nice set good quality we have had the set...                18  "
      ]
     },
     "metadata": {},
     "output_type": "display_data"
    },
    {
     "data": {
      "text/plain": [
       "(40391, 7)"
      ]
     },
     "metadata": {},
     "output_type": "display_data"
    }
   ],
   "source": [
    "display(df.head())\n",
    "display(df.shape)"
   ]
  },
  {
   "cell_type": "code",
   "execution_count": 4,
   "id": "7151529a-c9e9-4be8-be9a-8295dd8fa80b",
   "metadata": {},
   "outputs": [
    {
     "name": "stdout",
     "output_type": "stream",
     "text": [
      "category            0\n",
      "rating              0\n",
      "label               0\n",
      "text                0\n",
      "class               0\n",
      "clean_text          1\n",
      "text_word_length    0\n",
      "dtype: int64\n"
     ]
    }
   ],
   "source": [
    "# 1 null observation after reading in csv\n",
    "print(df.isnull().sum())\n",
    "\n",
    "df.dropna(inplace=True, axis=0)\n",
    "df.reset_index(inplace=True, drop=True)"
   ]
  },
  {
   "cell_type": "markdown",
   "id": "f7783818-2de8-4dff-8902-6a2d4dc31d98",
   "metadata": {},
   "source": [
    "## Validation and Testing Split\n",
    "\n",
    "\n",
    "We will adopt a split of 70% training & 30% testing. The 70% training set will be further split into training and validation sets (80-20 split).\n",
    "\n",
    "The training and validation data will be refit before predicting the test set."
   ]
  },
  {
   "cell_type": "code",
   "execution_count": 5,
   "id": "10717e1e-b697-4c8b-93ad-cb67568b947e",
   "metadata": {},
   "outputs": [],
   "source": [
    "X = df['clean_text']\n",
    "y = df['class']"
   ]
  },
  {
   "cell_type": "code",
   "execution_count": 6,
   "id": "1467ad36-bdb8-4588-8932-ea37bece27a9",
   "metadata": {},
   "outputs": [],
   "source": [
    "# split training and remainder data (to be further split into testing and validation sets) for BoW models\n",
    "X_train, X_test, y_train, y_test = train_test_split(X, y, test_size=0.3, random_state=seed)\n",
    "X_train, X_val, y_train, y_val = train_test_split(X_train, y_train, test_size=0.2, random_state=seed)\n",
    "\n",
    "# preparing the training + validation set to predict the test set\n",
    "X_train_val = pd.concat([X_train, X_val])\n",
    "y_train_val = pd.concat([y_train, y_val])"
   ]
  },
  {
   "cell_type": "markdown",
   "id": "aa793dfd-58f0-486f-b361-18efd9ed6be2",
   "metadata": {
    "tags": []
   },
   "source": [
    "## Benchmark Model: BoW with Multinomial Naive Bayes"
   ]
  },
  {
   "cell_type": "markdown",
   "id": "d1ce62e0-8cc4-44e6-bac7-4ea2b3367724",
   "metadata": {
    "tags": []
   },
   "source": [
    "### Reusable Function to Display Metrics"
   ]
  },
  {
   "cell_type": "code",
   "execution_count": 7,
   "id": "ea4bb5c7-884c-4d12-835a-b008737554b1",
   "metadata": {},
   "outputs": [],
   "source": [
    "def metrics(fitted_estimator, X_train=X_train, X_test=X_val, y_train=y_train, y_test=y_val, hyperparam_tuning=False, test_set=False):\n",
    "    '''\n",
    "\n",
    "    Takes input of a fitted estimator and outputs the various classification metrics. if the fitted model is a gridsearch\n",
    "    It will also output the best params_ and best_score_.\n",
    "\n",
    "    '''\n",
    "    pred = fitted_estimator.predict(X_test)\n",
    "    pred_proba = fitted_estimator.predict_proba(X_test)[:,1]\n",
    "    recall = round(recall_score(y_test, pred),3)\n",
    "    precision = round(precision_score(y_test, pred),3)\n",
    "    f1 = round(f1_score(y_test, pred),3)\n",
    "    training_score = round(fitted_estimator.score(X_train, y_train),5)\n",
    "    validation_score = round(fitted_estimator.score(X_test, y_test),5)\n",
    "    auc_score = round(roc_auc_score(y_test,pred_proba),3)\n",
    "\n",
    "\n",
    "    display(ConfusionMatrixDisplay.from_predictions(y_test, pred))\n",
    "    \n",
    "    if hyperparam_tuning:\n",
    "        display(f'Best Params:  {fitted_estimator.best_params_}')\n",
    "        display(f'Best Score:   {round(fitted_estimator.best_score_,3)}')\n",
    "        \n",
    "    display(f'The training score is: {training_score}.')\n",
    "    if test_set == False:\n",
    "        display(f'The validation score is {validation_score}.')\n",
    "        print()\n",
    "    else: \n",
    "        display(f'The test score is {validation_score}.')\n",
    "        print()\n",
    "    display(f'The recall score is {recall}.')\n",
    "    display(f'The precision score is {precision}.')\n",
    "    display(f'The f1 score is {f1}.')\n",
    "    display(f'The AUC score is {auc_score}.')\n",
    "    \n",
    "    return training_score, validation_score , recall, precision, f1, auc_score"
   ]
  },
  {
   "cell_type": "markdown",
   "id": "a1d6cec7-5af3-41a9-b553-cc3f6b018321",
   "metadata": {},
   "source": [
    "### Validation Set Metrics"
   ]
  },
  {
   "cell_type": "code",
   "execution_count": 8,
   "id": "1e2167b8-b795-468c-853a-26fdcc877a35",
   "metadata": {},
   "outputs": [
    {
     "data": {
      "text/plain": [
       "<sklearn.metrics._plot.confusion_matrix.ConfusionMatrixDisplay at 0x1f8f622abb0>"
      ]
     },
     "metadata": {},
     "output_type": "display_data"
    },
    {
     "data": {
      "text/plain": [
       "'The training score is: 0.85963.'"
      ]
     },
     "metadata": {},
     "output_type": "display_data"
    },
    {
     "data": {
      "text/plain": [
       "'The validation score is 0.83201.'"
      ]
     },
     "metadata": {},
     "output_type": "display_data"
    },
    {
     "name": "stdout",
     "output_type": "stream",
     "text": [
      "\n"
     ]
    },
    {
     "data": {
      "text/plain": [
       "'The recall score is 0.903.'"
      ]
     },
     "metadata": {},
     "output_type": "display_data"
    },
    {
     "data": {
      "text/plain": [
       "'The precision score is 0.785.'"
      ]
     },
     "metadata": {},
     "output_type": "display_data"
    },
    {
     "data": {
      "text/plain": [
       "'The f1 score is 0.84.'"
      ]
     },
     "metadata": {},
     "output_type": "display_data"
    },
    {
     "data": {
      "text/plain": [
       "'The AUC score is 0.925.'"
      ]
     },
     "metadata": {},
     "output_type": "display_data"
    },
    {
     "data": {
      "image/png": "[encoded data removed]",
      "text/plain": [
       "<Figure size 432x288 with 2 Axes>"
      ]
     },
     "metadata": {
      "needs_background": "light"
     },
     "output_type": "display_data"
    }
   ],
   "source": [
    "cvec = CountVectorizer(stop_words='english')\n",
    "\n",
    "benchmark = Pipeline([\n",
    "    ('cvec',cvec),\n",
    "    ('mnb', MultinomialNB())\n",
    "])\n",
    "\n",
    "benchmark.fit(X_train, y_train)\n",
    "benchmark_train, benchmark_validation, benchmark_recall, benchmark_precision, benchmark_f1, benchmark_auc = metrics(benchmark)\n",
    "\n",
    "# creating a dictionary to consolidate all model scores to convert into a DataFrame later on\n",
    "val_results = {'model':['Multinomial NB/CVEC (Benchmark)'],\n",
    "           'training_score':[benchmark_train],\n",
    "           'validation_score':[benchmark_validation],\n",
    "           'validation_recall':[benchmark_recall],\n",
    "           'validation_precision':[benchmark_precision],\n",
    "           'validation_f1':[benchmark_f1],\n",
    "           'validation_AUC_score':[benchmark_auc]}"
   ]
  },
  {
   "cell_type": "markdown",
   "id": "e5980ee5-77d7-4993-9087-5412cf683a56",
   "metadata": {},
   "source": [
    "#### Test Set Metrics"
   ]
  },
  {
   "cell_type": "code",
   "execution_count": 9,
   "id": "bf4eed17-14f2-424c-8a49-81f9c042cba8",
   "metadata": {},
   "outputs": [
    {
     "data": {
      "text/plain": [
       "<sklearn.metrics._plot.confusion_matrix.ConfusionMatrixDisplay at 0x1f8f61f1700>"
      ]
     },
     "metadata": {},
     "output_type": "display_data"
    },
    {
     "data": {
      "text/plain": [
       "'The training score is: 0.85909.'"
      ]
     },
     "metadata": {},
     "output_type": "display_data"
    },
    {
     "data": {
      "text/plain": [
       "'The test score is 0.83049.'"
      ]
     },
     "metadata": {},
     "output_type": "display_data"
    },
    {
     "name": "stdout",
     "output_type": "stream",
     "text": [
      "\n"
     ]
    },
    {
     "data": {
      "text/plain": [
       "'The recall score is 0.893.'"
      ]
     },
     "metadata": {},
     "output_type": "display_data"
    },
    {
     "data": {
      "text/plain": [
       "'The precision score is 0.796.'"
      ]
     },
     "metadata": {},
     "output_type": "display_data"
    },
    {
     "data": {
      "text/plain": [
       "'The f1 score is 0.842.'"
      ]
     },
     "metadata": {},
     "output_type": "display_data"
    },
    {
     "data": {
      "text/plain": [
       "'The AUC score is 0.923.'"
      ]
     },
     "metadata": {},
     "output_type": "display_data"
    },
    {
     "data": {
      "image/png": "[encoded data removed]",
      "text/plain": [
       "<Figure size 432x288 with 2 Axes>"
      ]
     },
     "metadata": {
      "needs_background": "light"
     },
     "output_type": "display_data"
    }
   ],
   "source": [
    "benchmark.fit(X_train_val, y_train_val)\n",
    "benchmark_train, benchmark_test, benchmark_recall, benchmark_precision, benchmark_f1, benchmark_auc = metrics(benchmark,\n",
    "                                                                                                              X_train = X_train_val,\n",
    "                                                                                                              y_train = y_train_val,\n",
    "                                                                                                              X_test = X_test,\n",
    "                                                                                                              y_test = y_test,\n",
    "                                                                                                              test_set=True)\n",
    "                                                                                                                       \n",
    "\n",
    "# creating a dictionary to consolidate all model scores to convert into a DataFrame later on\n",
    "test_results = {'model':['Multinomial NB/CVEC (Benchmark)'],\n",
    "               'training_score':[benchmark_train],\n",
    "               'test_score':[benchmark_test],\n",
    "               'test_recall':[benchmark_recall],\n",
    "               'test_precision':[benchmark_precision],\n",
    "               'test_f1':[benchmark_f1],\n",
    "               'test_AUC_score':[benchmark_auc]}\n",
    "\n",
    "filename = '../models/benchmark.sav'\n",
    "pickle.dump(benchmark, open(filename, 'wb'))"
   ]
  },
  {
   "cell_type": "markdown",
   "id": "9fa085e3-7f2e-4173-8bba-cd4a8102c433",
   "metadata": {
    "tags": []
   },
   "source": [
    "## Candidate Models\n",
    "\n",
    "\n",
    "As explained at the start of the notebook, each candidate model will be ran using the `CountVectorizer` and `TfidfVectorizer` for both validation and test sets."
   ]
  },
  {
   "cell_type": "markdown",
   "id": "70a73127-97b2-4fca-a61b-110f31a1ee13",
   "metadata": {
    "tags": []
   },
   "source": [
    "### Logistic Regression\n",
    "#### Count Vectorizer"
   ]
  },
  {
   "cell_type": "code",
   "execution_count": 10,
   "id": "eda91cca-3033-47f1-bbaf-4fa7abc1bb16",
   "metadata": {},
   "outputs": [
    {
     "data": {
      "text/plain": [
       "<sklearn.metrics._plot.confusion_matrix.ConfusionMatrixDisplay at 0x1f8f6f37880>"
      ]
     },
     "metadata": {},
     "output_type": "display_data"
    },
    {
     "data": {
      "text/plain": [
       "\"Best Params:  {'logreg__solver': 'newton-cg', 'logreg__C': 23.357214690901213, 'cvec__ngram_range': (1, 2)}\""
      ]
     },
     "metadata": {},
     "output_type": "display_data"
    },
    {
     "data": {
      "text/plain": [
       "'Best Score:   0.875'"
      ]
     },
     "metadata": {},
     "output_type": "display_data"
    },
    {
     "data": {
      "text/plain": [
       "'The training score is: 1.0.'"
      ]
     },
     "metadata": {},
     "output_type": "display_data"
    },
    {
     "data": {
      "text/plain": [
       "'The validation score is 0.88318.'"
      ]
     },
     "metadata": {},
     "output_type": "display_data"
    },
    {
     "name": "stdout",
     "output_type": "stream",
     "text": [
      "\n"
     ]
    },
    {
     "data": {
      "text/plain": [
       "'The recall score is 0.883.'"
      ]
     },
     "metadata": {},
     "output_type": "display_data"
    },
    {
     "data": {
      "text/plain": [
       "'The precision score is 0.873.'"
      ]
     },
     "metadata": {},
     "output_type": "display_data"
    },
    {
     "data": {
      "text/plain": [
       "'The f1 score is 0.878.'"
      ]
     },
     "metadata": {},
     "output_type": "display_data"
    },
    {
     "data": {
      "text/plain": [
       "'The AUC score is 0.951.'"
      ]
     },
     "metadata": {},
     "output_type": "display_data"
    },
    {
     "name": "stdout",
     "output_type": "stream",
     "text": [
      "Wall time: 8min 28s\n"
     ]
    },
    {
     "data": {
      "image/png": "[encoded data removed]",
      "text/plain": [
       "<Figure size 432x288 with 2 Axes>"
      ]
     },
     "metadata": {
      "needs_background": "light"
     },
     "output_type": "display_data"
    }
   ],
   "source": [
    "%%time\n",
    "\n",
    "logr_c = Pipeline([\n",
    "    ('cvec',cvec),\n",
    "    ('logreg', LogisticRegression(random_state=seed))\n",
    "])\n",
    "\n",
    "logr_c_params = {\n",
    "    'cvec__ngram_range':[(1,1), (1,2), (1,3)],\n",
    "    'logreg__C': np.logspace(-2,2,20),\n",
    "    'logreg__solver':['newton-cg', 'liblinear']\n",
    "} \n",
    "\n",
    "rs1 = RandomizedSearchCV(logr_c,\n",
    "                         logr_c_params,\n",
    "                         n_iter=100,\n",
    "                         cv=3,\n",
    "                         scoring='recall',\n",
    "                         random_state=seed,\n",
    "                         n_jobs= -1)\n",
    "                         \n",
    "rs1.fit(X_train, y_train)\n",
    "logr_c_train, logr_c_validation, logr_c_recall, logr_c_precision, logr_c_f1, logr_c_auc = metrics(rs1, hyperparam_tuning=True)\n",
    "\n",
    "# Record scores\n",
    "\n",
    "val_results['model'].append('Logistic Regression/CVEC')\n",
    "val_results['training_score'].append(logr_c_train)\n",
    "val_results['validation_score'].append(logr_c_validation)\n",
    "val_results['validation_recall'].append(logr_c_recall)\n",
    "val_results['validation_precision'].append(logr_c_precision)\n",
    "val_results['validation_f1'].append(logr_c_f1)\n",
    "val_results['validation_AUC_score'].append(logr_c_auc)"
   ]
  },
  {
   "cell_type": "code",
   "execution_count": 11,
   "id": "b183a5d2-00d5-41b8-826f-54047e28efdf",
   "metadata": {},
   "outputs": [
    {
     "data": {
      "text/plain": [
       "<sklearn.metrics._plot.confusion_matrix.ConfusionMatrixDisplay at 0x1f8f651ab20>"
      ]
     },
     "metadata": {},
     "output_type": "display_data"
    },
    {
     "data": {
      "text/plain": [
       "'The training score is: 1.0.'"
      ]
     },
     "metadata": {},
     "output_type": "display_data"
    },
    {
     "data": {
      "text/plain": [
       "'The test score is 0.88938.'"
      ]
     },
     "metadata": {},
     "output_type": "display_data"
    },
    {
     "name": "stdout",
     "output_type": "stream",
     "text": [
      "\n"
     ]
    },
    {
     "data": {
      "text/plain": [
       "'The recall score is 0.889.'"
      ]
     },
     "metadata": {},
     "output_type": "display_data"
    },
    {
     "data": {
      "text/plain": [
       "'The precision score is 0.891.'"
      ]
     },
     "metadata": {},
     "output_type": "display_data"
    },
    {
     "data": {
      "text/plain": [
       "'The f1 score is 0.89.'"
      ]
     },
     "metadata": {},
     "output_type": "display_data"
    },
    {
     "data": {
      "text/plain": [
       "'The AUC score is 0.958.'"
      ]
     },
     "metadata": {},
     "output_type": "display_data"
    },
    {
     "name": "stdout",
     "output_type": "stream",
     "text": [
      "Wall time: 12min 17s\n"
     ]
    },
    {
     "data": {
      "image/png": "[encoded data removed]",
      "text/plain": [
       "<Figure size 432x288 with 2 Axes>"
      ]
     },
     "metadata": {
      "needs_background": "light"
     },
     "output_type": "display_data"
    }
   ],
   "source": [
    "%%time\n",
    "rs1.fit(X_train_val, y_train_val)\n",
    "logr_c_train, logr_c_validation, logr_c_recall, logr_c_precision, logr_c_f1, logr_c_auc = metrics(rs1,\n",
    "                                                                                            X_train = X_train_val,\n",
    "                                                                                            y_train = y_train_val,\n",
    "                                                                                            X_test = X_test,\n",
    "                                                                                            y_test = y_test,\n",
    "                                                                                            test_set=True)\n",
    "\n",
    "# creating a dictionary to consolidate all model scores to convert into a DataFrame later on\n",
    "test_results['model'].append('Logistic Regression/CVEC')\n",
    "test_results['training_score'].append(logr_c_train)\n",
    "test_results['test_score'].append(logr_c_validation)\n",
    "test_results['test_recall'].append(logr_c_recall)\n",
    "test_results['test_precision'].append(logr_c_precision)\n",
    "test_results['test_f1'].append(logr_c_f1)\n",
    "test_results['test_AUC_score'].append(logr_c_auc)\n",
    "\n",
    "filename = '../models/logr_c.sav'\n",
    "pickle.dump(rs1, open(filename, 'wb'))"
   ]
  },
  {
   "cell_type": "markdown",
   "id": "765f4a23-b85f-486b-8658-ed82e386ac2b",
   "metadata": {
    "tags": []
   },
   "source": [
    "#### TF-IDF Vectorizer"
   ]
  },
  {
   "cell_type": "code",
   "execution_count": 12,
   "id": "5449705f-6893-4683-8e7d-aab288e97dc8",
   "metadata": {},
   "outputs": [
    {
     "data": {
      "text/plain": [
       "<sklearn.metrics._plot.confusion_matrix.ConfusionMatrixDisplay at 0x1f8f69e68b0>"
      ]
     },
     "metadata": {},
     "output_type": "display_data"
    },
    {
     "data": {
      "text/plain": [
       "\"Best Params:  {'tvec__ngram_range': (1, 3), 'logreg__solver': 'newton-cg', 'logreg__C': 100.0}\""
      ]
     },
     "metadata": {},
     "output_type": "display_data"
    },
    {
     "data": {
      "text/plain": [
       "'Best Score:   0.895'"
      ]
     },
     "metadata": {},
     "output_type": "display_data"
    },
    {
     "data": {
      "text/plain": [
       "'The training score is: 1.0.'"
      ]
     },
     "metadata": {},
     "output_type": "display_data"
    },
    {
     "data": {
      "text/plain": [
       "'The validation score is 0.90235.'"
      ]
     },
     "metadata": {},
     "output_type": "display_data"
    },
    {
     "name": "stdout",
     "output_type": "stream",
     "text": [
      "\n"
     ]
    },
    {
     "data": {
      "text/plain": [
       "'The recall score is 0.902.'"
      ]
     },
     "metadata": {},
     "output_type": "display_data"
    },
    {
     "data": {
      "text/plain": [
       "'The precision score is 0.861.'"
      ]
     },
     "metadata": {},
     "output_type": "display_data"
    },
    {
     "data": {
      "text/plain": [
       "'The f1 score is 0.881.'"
      ]
     },
     "metadata": {},
     "output_type": "display_data"
    },
    {
     "data": {
      "text/plain": [
       "'The AUC score is 0.953.'"
      ]
     },
     "metadata": {},
     "output_type": "display_data"
    },
    {
     "name": "stdout",
     "output_type": "stream",
     "text": [
      "Wall time: 2min 51s\n"
     ]
    },
    {
     "data": {
      "image/png": "[encoded data removed]",
      "text/plain": [
       "<Figure size 432x288 with 2 Axes>"
      ]
     },
     "metadata": {
      "needs_background": "light"
     },
     "output_type": "display_data"
    }
   ],
   "source": [
    "%%time\n",
    "tvec = TfidfVectorizer(stop_words='english')\n",
    "\n",
    "logr = Pipeline([\n",
    "    ('tvec',tvec),\n",
    "    ('logreg', LogisticRegression(random_state=seed))\n",
    "])\n",
    "\n",
    "logr_params = {\n",
    "    'tvec__ngram_range':[(1,1), (1,2), (1,3)],\n",
    "    'logreg__C': np.logspace(-2,2,20),\n",
    "    'logreg__solver':['newton-cg', 'liblinear']\n",
    "} \n",
    "\n",
    "rs2 = RandomizedSearchCV(logr,\n",
    "                         logr_params,\n",
    "                         n_iter=100,\n",
    "                         cv=3,\n",
    "                         scoring='recall',\n",
    "                         random_state=seed,\n",
    "                         n_jobs= -1)\n",
    "                         \n",
    "rs2.fit(X_train, y_train)\n",
    "logr_train, logr_validation, logr_recall, logr_precision, logr_f1, logr_auc = metrics(rs2, hyperparam_tuning=True)\n",
    "\n",
    "# Record scores\n",
    "val_results['model'].append('Logistic Regression/TVEC')\n",
    "val_results['training_score'].append(logr_train)\n",
    "val_results['validation_score'].append(logr_validation)\n",
    "val_results['validation_recall'].append(logr_recall)\n",
    "val_results['validation_precision'].append(logr_precision)\n",
    "val_results['validation_f1'].append(logr_f1)\n",
    "val_results['validation_AUC_score'].append(logr_auc)"
   ]
  },
  {
   "cell_type": "code",
   "execution_count": 13,
   "id": "cbd3e9f0-fdba-4841-809a-ad9f2810be1d",
   "metadata": {},
   "outputs": [
    {
     "data": {
      "text/plain": [
       "<sklearn.metrics._plot.confusion_matrix.ConfusionMatrixDisplay at 0x1f881dd7fa0>"
      ]
     },
     "metadata": {},
     "output_type": "display_data"
    },
    {
     "data": {
      "text/plain": [
       "'The training score is: 1.0.'"
      ]
     },
     "metadata": {},
     "output_type": "display_data"
    },
    {
     "data": {
      "text/plain": [
       "'The test score is 0.90247.'"
      ]
     },
     "metadata": {},
     "output_type": "display_data"
    },
    {
     "name": "stdout",
     "output_type": "stream",
     "text": [
      "\n"
     ]
    },
    {
     "data": {
      "text/plain": [
       "'The recall score is 0.902.'"
      ]
     },
     "metadata": {},
     "output_type": "display_data"
    },
    {
     "data": {
      "text/plain": [
       "'The precision score is 0.879.'"
      ]
     },
     "metadata": {},
     "output_type": "display_data"
    },
    {
     "data": {
      "text/plain": [
       "'The f1 score is 0.891.'"
      ]
     },
     "metadata": {},
     "output_type": "display_data"
    },
    {
     "data": {
      "text/plain": [
       "'The AUC score is 0.957.'"
      ]
     },
     "metadata": {},
     "output_type": "display_data"
    },
    {
     "name": "stdout",
     "output_type": "stream",
     "text": [
      "Wall time: 3min 42s\n"
     ]
    },
    {
     "data": {
      "image/png": "[encoded data removed]",
      "text/plain": [
       "<Figure size 432x288 with 2 Axes>"
      ]
     },
     "metadata": {
      "needs_background": "light"
     },
     "output_type": "display_data"
    }
   ],
   "source": [
    "%%time\n",
    "rs2.fit(X_train_val, y_train_val)\n",
    "logr_train, logr_validation, logr_recall, logr_precision, logr_f1, logr_auc = metrics(rs2, \n",
    "                                                                                X_train = X_train_val,\n",
    "                                                                                y_train = y_train_val,\n",
    "                                                                                X_test = X_test,\n",
    "                                                                                y_test = y_test,\n",
    "                                                                                test_set=True)\n",
    "\n",
    "# creating a dictionary to consolidate all model scores to convert into a DataFrame later on\n",
    "test_results['model'].append('Logistic Regression/TVEC')\n",
    "test_results['training_score'].append(logr_train)\n",
    "test_results['test_score'].append(logr_validation)\n",
    "test_results['test_recall'].append(logr_recall)\n",
    "test_results['test_precision'].append(logr_precision)\n",
    "test_results['test_f1'].append(logr_f1)\n",
    "test_results['test_AUC_score'].append(logr_auc)\n",
    "\n",
    "filename = '../models/logr.sav'\n",
    "pickle.dump(rs2, open(filename, 'wb'))"
   ]
  },
  {
   "cell_type": "markdown",
   "id": "12acdbf7-19d4-4c1b-bf5c-2bd2a15efc7c",
   "metadata": {
    "tags": []
   },
   "source": [
    "### XGBoost Classifier\n",
    "#### CountVectorizer"
   ]
  },
  {
   "cell_type": "code",
   "execution_count": 14,
   "id": "1bc99e32-1a12-4a61-a36a-b8413f09a300",
   "metadata": {},
   "outputs": [
    {
     "data": {
      "text/plain": [
       "<sklearn.metrics._plot.confusion_matrix.ConfusionMatrixDisplay at 0x1f883dcd490>"
      ]
     },
     "metadata": {},
     "output_type": "display_data"
    },
    {
     "data": {
      "text/plain": [
       "\"Best Params:  {'xgb__subsample': 0.6, 'xgb__reg_lambda': 0.3593813663804626, 'xgb__reg_alpha': 0.016681005372000592, 'xgb__n_estimators': 150, 'xgb__max_depth': 15, 'xgb__learning_rate': 0.2, 'xgb__gamma': 0.7000000000000001, 'xgb__colsample_bytree': 0.5, 'cvec__ngram_range': (1, 1)}\""
      ]
     },
     "metadata": {},
     "output_type": "display_data"
    },
    {
     "data": {
      "text/plain": [
       "'Best Score:   0.832'"
      ]
     },
     "metadata": {},
     "output_type": "display_data"
    },
    {
     "data": {
      "text/plain": [
       "'The training score is: 0.90672.'"
      ]
     },
     "metadata": {},
     "output_type": "display_data"
    },
    {
     "data": {
      "text/plain": [
       "'The validation score is 0.83906.'"
      ]
     },
     "metadata": {},
     "output_type": "display_data"
    },
    {
     "name": "stdout",
     "output_type": "stream",
     "text": [
      "\n"
     ]
    },
    {
     "data": {
      "text/plain": [
       "'The recall score is 0.839.'"
      ]
     },
     "metadata": {},
     "output_type": "display_data"
    },
    {
     "data": {
      "text/plain": [
       "'The precision score is 0.846.'"
      ]
     },
     "metadata": {},
     "output_type": "display_data"
    },
    {
     "data": {
      "text/plain": [
       "'The f1 score is 0.843.'"
      ]
     },
     "metadata": {},
     "output_type": "display_data"
    },
    {
     "data": {
      "text/plain": [
       "'The AUC score is 0.934.'"
      ]
     },
     "metadata": {},
     "output_type": "display_data"
    },
    {
     "name": "stdout",
     "output_type": "stream",
     "text": [
      "Wall time: 11min 9s\n"
     ]
    },
    {
     "data": {
      "image/png": "[encoded data removed]",
      "text/plain": [
       "<Figure size 432x288 with 2 Axes>"
      ]
     },
     "metadata": {
      "needs_background": "light"
     },
     "output_type": "display_data"
    }
   ],
   "source": [
    "%%time\n",
    "\n",
    "xgb_pipe = Pipeline([\n",
    "    ('cvec',cvec),\n",
    "    ('xgb', xgb.XGBClassifier(use_label_encoder=False, eval_metric='error', random_state=seed))\n",
    "])\n",
    "\n",
    "xgb_params = {\n",
    "    'cvec__ngram_range':[(1,1), (1,2), (1,3)],\n",
    "    'xgb__n_estimators': [50,100,120,150],\n",
    "    'xgb__max_depth': [5,10,15],\n",
    "    'xgb__colsample_bytree':[0.2,0.3,0.5],\n",
    "    'xgb__subsample':np.linspace(0.1,0.8,8),\n",
    "    'xgb__gamma':np.linspace(0.1,1,10),\n",
    "    'xgb__learning_rate':np.linspace(0.01,0.2,10),\n",
    "    'xgb__reg_alpha': np.logspace(-2,0,10),\n",
    "    'xgb__reg_lambda':np.logspace(-2,0,10)\n",
    "}\n",
    "\n",
    "rs3 = RandomizedSearchCV(xgb_pipe,\n",
    "                         xgb_params,\n",
    "                         n_iter=100,\n",
    "                         cv=3,\n",
    "                         scoring='recall',\n",
    "                         random_state=seed,\n",
    "                         n_jobs = -1)\n",
    "                         \n",
    "rs3.fit(X_train, y_train)\n",
    "xgb_c_train, xgb_c_validation, xgb_c_recall, xgb_c_precision, xgb_c_f1, xgb_c_auc = metrics(rs3, hyperparam_tuning=True)\n",
    "\n",
    "# Record scores\n",
    "val_results['model'].append('XGB/CVEC')\n",
    "val_results['training_score'].append(xgb_c_train)\n",
    "val_results['validation_score'].append(xgb_c_validation)\n",
    "val_results['validation_recall'].append(xgb_c_recall)\n",
    "val_results['validation_precision'].append(xgb_c_precision)\n",
    "val_results['validation_f1'].append(xgb_c_f1)\n",
    "val_results['validation_AUC_score'].append(xgb_c_auc)"
   ]
  },
  {
   "cell_type": "code",
   "execution_count": 15,
   "id": "3e1231a2-b1c0-4cf1-aee8-aaba1fcda0c8",
   "metadata": {},
   "outputs": [
    {
     "data": {
      "text/plain": [
       "<sklearn.metrics._plot.confusion_matrix.ConfusionMatrixDisplay at 0x1f882528c10>"
      ]
     },
     "metadata": {},
     "output_type": "display_data"
    },
    {
     "data": {
      "text/plain": [
       "\"Best Params:  {'xgb__subsample': 0.6, 'xgb__reg_lambda': 0.016681005372000592, 'xgb__reg_alpha': 0.027825594022071243, 'xgb__n_estimators': 150, 'xgb__max_depth': 15, 'xgb__learning_rate': 0.1788888888888889, 'xgb__gamma': 0.4, 'xgb__colsample_bytree': 0.5, 'cvec__ngram_range': (1, 1)}\""
      ]
     },
     "metadata": {},
     "output_type": "display_data"
    },
    {
     "data": {
      "text/plain": [
       "'Best Score:   0.832'"
      ]
     },
     "metadata": {},
     "output_type": "display_data"
    },
    {
     "data": {
      "text/plain": [
       "'The training score is: 0.89733.'"
      ]
     },
     "metadata": {},
     "output_type": "display_data"
    },
    {
     "data": {
      "text/plain": [
       "'The test score is 0.82572.'"
      ]
     },
     "metadata": {},
     "output_type": "display_data"
    },
    {
     "name": "stdout",
     "output_type": "stream",
     "text": [
      "\n"
     ]
    },
    {
     "data": {
      "text/plain": [
       "'The recall score is 0.826.'"
      ]
     },
     "metadata": {},
     "output_type": "display_data"
    },
    {
     "data": {
      "text/plain": [
       "'The precision score is 0.866.'"
      ]
     },
     "metadata": {},
     "output_type": "display_data"
    },
    {
     "data": {
      "text/plain": [
       "'The f1 score is 0.846.'"
      ]
     },
     "metadata": {},
     "output_type": "display_data"
    },
    {
     "data": {
      "text/plain": [
       "'The AUC score is 0.934.'"
      ]
     },
     "metadata": {},
     "output_type": "display_data"
    },
    {
     "name": "stdout",
     "output_type": "stream",
     "text": [
      "Wall time: 14min 4s\n"
     ]
    },
    {
     "data": {
      "image/png": "[encoded data removed]",
      "text/plain": [
       "<Figure size 432x288 with 2 Axes>"
      ]
     },
     "metadata": {
      "needs_background": "light"
     },
     "output_type": "display_data"
    }
   ],
   "source": [
    "%%time\n",
    "rs3.fit(X_train_val, y_train_val)\n",
    "xgb_c_train, xgb_c_validation, xgb_c_recall, xgb_c_precision, xgb_c_f1, xgb_c_auc = metrics(rs3,\n",
    "                                                                                            X_train = X_train_val,\n",
    "                                                                                            y_train = y_train_val,\n",
    "                                                                                            X_test = X_test,\n",
    "                                                                                            y_test = y_test,\n",
    "                                                                                            test_set=True,\n",
    "                                                                                            hyperparam_tuning=True)\n",
    "\n",
    "# Record scores\n",
    "test_results['model'].append('XGB/CVEC')\n",
    "test_results['training_score'].append(xgb_c_train)\n",
    "test_results['test_score'].append(xgb_c_validation)\n",
    "test_results['test_recall'].append(xgb_c_recall)\n",
    "test_results['test_precision'].append(xgb_c_precision)\n",
    "test_results['test_f1'].append(xgb_c_f1)\n",
    "test_results['test_AUC_score'].append(xgb_c_auc)\n",
    "\n",
    "\n",
    "filename = '../models/xgb_c.sav'\n",
    "pickle.dump(rs3, open(filename, 'wb'))"
   ]
  },
  {
   "cell_type": "markdown",
   "id": "bf37e925-faf7-46e4-a15a-ce470d9fe43a",
   "metadata": {},
   "source": [
    "#### TF-IDF Vectorizer"
   ]
  },
  {
   "cell_type": "code",
   "execution_count": 16,
   "id": "36fe6554-c56a-4f76-96ec-a02f77d42f6f",
   "metadata": {},
   "outputs": [
    {
     "data": {
      "text/plain": [
       "<sklearn.metrics._plot.confusion_matrix.ConfusionMatrixDisplay at 0x1f8fbc55310>"
      ]
     },
     "metadata": {},
     "output_type": "display_data"
    },
    {
     "data": {
      "text/plain": [
       "\"Best Params:  {'xgb__subsample': 0.5, 'xgb__reg_lambda': 0.016681005372000592, 'xgb__reg_alpha': 0.0774263682681127, 'xgb__n_estimators': 120, 'xgb__max_depth': 15, 'xgb__learning_rate': 0.1366666666666667, 'xgb__gamma': 0.8, 'xgb__colsample_bytree': 0.5, 'tvec__ngram_range': (1, 3)}\""
      ]
     },
     "metadata": {},
     "output_type": "display_data"
    },
    {
     "data": {
      "text/plain": [
       "'Best Score:   0.916'"
      ]
     },
     "metadata": {},
     "output_type": "display_data"
    },
    {
     "data": {
      "text/plain": [
       "'The training score is: 0.90893.'"
      ]
     },
     "metadata": {},
     "output_type": "display_data"
    },
    {
     "data": {
      "text/plain": [
       "'The validation score is 0.91646.'"
      ]
     },
     "metadata": {},
     "output_type": "display_data"
    },
    {
     "name": "stdout",
     "output_type": "stream",
     "text": [
      "\n"
     ]
    },
    {
     "data": {
      "text/plain": [
       "'The recall score is 0.916.'"
      ]
     },
     "metadata": {},
     "output_type": "display_data"
    },
    {
     "data": {
      "text/plain": [
       "'The precision score is 0.638.'"
      ]
     },
     "metadata": {},
     "output_type": "display_data"
    },
    {
     "data": {
      "text/plain": [
       "'The f1 score is 0.752.'"
      ]
     },
     "metadata": {},
     "output_type": "display_data"
    },
    {
     "data": {
      "text/plain": [
       "'The AUC score is 0.859.'"
      ]
     },
     "metadata": {},
     "output_type": "display_data"
    },
    {
     "name": "stdout",
     "output_type": "stream",
     "text": [
      "Wall time: 13min 57s\n"
     ]
    },
    {
     "data": {
      "image/png": "[encoded data removed]",
      "text/plain": [
       "<Figure size 432x288 with 2 Axes>"
      ]
     },
     "metadata": {
      "needs_background": "light"
     },
     "output_type": "display_data"
    }
   ],
   "source": [
    "%%time\n",
    "xgb_pipe = Pipeline([\n",
    "    ('tvec',tvec),\n",
    "    ('xgb', xgb.XGBClassifier(use_label_encoder=False, eval_metric='error', random_state=seed))\n",
    "])\n",
    "\n",
    "xgb_params = {\n",
    "    'tvec__ngram_range':[(1,1), (1,2), (1,3)],\n",
    "    'xgb__n_estimators': [50,100,120,150],\n",
    "    'xgb__max_depth': [5,10,15],\n",
    "    'xgb__colsample_bytree':[0.2,0.3,0.5],\n",
    "    'xgb__subsample':np.linspace(0.1,0.8,8),\n",
    "    'xgb__gamma':np.linspace(0.1,1,10),\n",
    "    'xgb__learning_rate':np.linspace(0.01,0.2,10),\n",
    "    'xgb__reg_alpha': np.logspace(-2,0,10),\n",
    "    'xgb__reg_lambda':np.logspace(-2,0,10)\n",
    "}\n",
    "\n",
    "rs4 = RandomizedSearchCV(xgb_pipe,\n",
    "                         xgb_params,\n",
    "                         n_iter=100,\n",
    "                         cv=3,\n",
    "                         scoring='recall',\n",
    "                         random_state=seed,\n",
    "                         n_jobs = -1)\n",
    "                         \n",
    "rs4.fit(X_train, y_train)\n",
    "xgb_train, xgb_validation, xgb_recall, xgb_precision, xgb_f1, xgb_auc = metrics(rs4, hyperparam_tuning=True)\n",
    "\n",
    "# record scores\n",
    "val_results['model'].append('XGB/TVEC')\n",
    "val_results['training_score'].append(xgb_train)\n",
    "val_results['validation_score'].append(xgb_validation)\n",
    "val_results['validation_recall'].append(xgb_recall)\n",
    "val_results['validation_precision'].append(xgb_precision)\n",
    "val_results['validation_f1'].append(xgb_f1)\n",
    "val_results['validation_AUC_score'].append(xgb_auc)"
   ]
  },
  {
   "cell_type": "code",
   "execution_count": 17,
   "id": "f94a359a-dc62-4003-9a71-12a9d73d6cc4",
   "metadata": {},
   "outputs": [
    {
     "data": {
      "text/plain": [
       "<sklearn.metrics._plot.confusion_matrix.ConfusionMatrixDisplay at 0x1f8f675f4f0>"
      ]
     },
     "metadata": {},
     "output_type": "display_data"
    },
    {
     "data": {
      "text/plain": [
       "\"Best Params:  {'xgb__subsample': 0.30000000000000004, 'xgb__reg_lambda': 0.01, 'xgb__reg_alpha': 0.3593813663804626, 'xgb__n_estimators': 120, 'xgb__max_depth': 15, 'xgb__learning_rate': 0.2, 'xgb__gamma': 0.30000000000000004, 'xgb__colsample_bytree': 0.5, 'tvec__ngram_range': (1, 3)}\""
      ]
     },
     "metadata": {},
     "output_type": "display_data"
    },
    {
     "data": {
      "text/plain": [
       "'Best Score:   0.923'"
      ]
     },
     "metadata": {},
     "output_type": "display_data"
    },
    {
     "data": {
      "text/plain": [
       "'The training score is: 0.9038.'"
      ]
     },
     "metadata": {},
     "output_type": "display_data"
    },
    {
     "data": {
      "text/plain": [
       "'The test score is 0.92194.'"
      ]
     },
     "metadata": {},
     "output_type": "display_data"
    },
    {
     "name": "stdout",
     "output_type": "stream",
     "text": [
      "\n"
     ]
    },
    {
     "data": {
      "text/plain": [
       "'The recall score is 0.922.'"
      ]
     },
     "metadata": {},
     "output_type": "display_data"
    },
    {
     "data": {
      "text/plain": [
       "'The precision score is 0.637.'"
      ]
     },
     "metadata": {},
     "output_type": "display_data"
    },
    {
     "data": {
      "text/plain": [
       "'The f1 score is 0.753.'"
      ]
     },
     "metadata": {},
     "output_type": "display_data"
    },
    {
     "data": {
      "text/plain": [
       "'The AUC score is 0.845.'"
      ]
     },
     "metadata": {},
     "output_type": "display_data"
    },
    {
     "name": "stdout",
     "output_type": "stream",
     "text": [
      "Wall time: 17min 53s\n"
     ]
    },
    {
     "data": {
      "image/png": "[encoded data removed]",
      "text/plain": [
       "<Figure size 432x288 with 2 Axes>"
      ]
     },
     "metadata": {
      "needs_background": "light"
     },
     "output_type": "display_data"
    }
   ],
   "source": [
    "%%time\n",
    "rs4.fit(X_train_val, y_train_val)\n",
    "xgb_train, xgb_validation, xgb_recall, xgb_precision, xgb_f1, xgb_auc = metrics(rs4,\n",
    "                                                                                X_train = X_train_val,\n",
    "                                                                                y_train = y_train_val,\n",
    "                                                                                X_test = X_test,\n",
    "                                                                                y_test = y_test,\n",
    "                                                                                test_set=True,\n",
    "                                                                                hyperparam_tuning=True)\n",
    "\n",
    "# Record scores\n",
    "test_results['model'].append('XGB/TVEC')\n",
    "test_results['training_score'].append(xgb_train)\n",
    "test_results['test_score'].append(xgb_validation)\n",
    "test_results['test_recall'].append(xgb_recall)\n",
    "test_results['test_precision'].append(xgb_precision)\n",
    "test_results['test_f1'].append(xgb_f1)\n",
    "test_results['test_AUC_score'].append(xgb_auc)\n",
    "\n",
    "\n",
    "filename = '../models/xgb.sav'\n",
    "pickle.dump(rs4, open(filename, 'wb'))"
   ]
  },
  {
   "cell_type": "markdown",
   "id": "60c24fc8-1c60-4838-87ed-f4f9bb57e231",
   "metadata": {},
   "source": [
    "### Random Forest Classifier\n",
    "#### CountVectorizer"
   ]
  },
  {
   "cell_type": "code",
   "execution_count": 18,
   "id": "df1b83a4-4b43-436d-a642-43521dc1261f",
   "metadata": {},
   "outputs": [
    {
     "data": {
      "text/plain": [
       "<sklearn.metrics._plot.confusion_matrix.ConfusionMatrixDisplay at 0x1f8f69263a0>"
      ]
     },
     "metadata": {},
     "output_type": "display_data"
    },
    {
     "data": {
      "text/plain": [
       "\"Best Params:  {'rf__n_estimators': 200, 'rf__min_samples_split': 20, 'rf__min_samples_leaf': 5, 'rf__max_features': 'log2', 'rf__max_depth': 80, 'cvec__ngram_range': (1, 1)}\""
      ]
     },
     "metadata": {},
     "output_type": "display_data"
    },
    {
     "data": {
      "text/plain": [
       "'Best Score:   0.905'"
      ]
     },
     "metadata": {},
     "output_type": "display_data"
    },
    {
     "data": {
      "text/plain": [
       "'The training score is: 0.91867.'"
      ]
     },
     "metadata": {},
     "output_type": "display_data"
    },
    {
     "data": {
      "text/plain": [
       "'The validation score is 0.90778.'"
      ]
     },
     "metadata": {},
     "output_type": "display_data"
    },
    {
     "name": "stdout",
     "output_type": "stream",
     "text": [
      "\n"
     ]
    },
    {
     "data": {
      "text/plain": [
       "'The recall score is 0.908.'"
      ]
     },
     "metadata": {},
     "output_type": "display_data"
    },
    {
     "data": {
      "text/plain": [
       "'The precision score is 0.69.'"
      ]
     },
     "metadata": {},
     "output_type": "display_data"
    },
    {
     "data": {
      "text/plain": [
       "'The f1 score is 0.784.'"
      ]
     },
     "metadata": {},
     "output_type": "display_data"
    },
    {
     "data": {
      "text/plain": [
       "'The AUC score is 0.874.'"
      ]
     },
     "metadata": {},
     "output_type": "display_data"
    },
    {
     "name": "stdout",
     "output_type": "stream",
     "text": [
      "Wall time: 2min 25s\n"
     ]
    },
    {
     "data": {
      "image/png": "[encoded data removed]",
      "text/plain": [
       "<Figure size 432x288 with 2 Axes>"
      ]
     },
     "metadata": {
      "needs_background": "light"
     },
     "output_type": "display_data"
    }
   ],
   "source": [
    "%%time\n",
    "rf_c_pipe = Pipeline([\n",
    "    ('cvec',cvec),\n",
    "    ('rf', RandomForestClassifier(random_state=seed))\n",
    "])\n",
    "\n",
    "rf_c_params = {\n",
    "    'cvec__ngram_range':[(1,1), (1,2), (1,3)],\n",
    "    'rf__n_estimators':[50,100,150,200],\n",
    "    'rf__max_depth':range(20,100,20),\n",
    "    'rf__max_features':['auto', 'sqrt','log2'],\n",
    "    'rf__min_samples_split':[5,10,20],\n",
    "    'rf__min_samples_leaf':[5,10,20]   \n",
    "}\n",
    "\n",
    "rs5 = RandomizedSearchCV(rf_c_pipe,\n",
    "                         rf_c_params,\n",
    "                         n_iter=100,\n",
    "                         cv=3,\n",
    "                         scoring='recall',\n",
    "                         random_state=seed,\n",
    "                         n_jobs = -1)\n",
    "                         \n",
    "rs5.fit(X_train, y_train)\n",
    "rf_c_train, rf_c_validation, rf_c_recall, rf_c_precision, rf_c_f1, rf_c_auc = metrics(rs5, hyperparam_tuning=True)\n",
    "\n",
    "# record scores\n",
    "val_results['model'].append('RF/CVEC')\n",
    "val_results['training_score'].append(rf_c_train)\n",
    "val_results['validation_score'].append(rf_c_validation)\n",
    "val_results['validation_recall'].append(rf_c_recall)\n",
    "val_results['validation_precision'].append(rf_c_precision)\n",
    "val_results['validation_f1'].append(rf_c_f1)\n",
    "val_results['validation_AUC_score'].append(rf_c_auc)"
   ]
  },
  {
   "cell_type": "code",
   "execution_count": 19,
   "id": "aec7b76c-9cc0-4938-b6b2-964b9dac33e5",
   "metadata": {},
   "outputs": [
    {
     "data": {
      "text/plain": [
       "<sklearn.metrics._plot.confusion_matrix.ConfusionMatrixDisplay at 0x1f8f6598c70>"
      ]
     },
     "metadata": {},
     "output_type": "display_data"
    },
    {
     "data": {
      "text/plain": [
       "\"Best Params:  {'rf__n_estimators': 200, 'rf__min_samples_split': 20, 'rf__min_samples_leaf': 5, 'rf__max_features': 'log2', 'rf__max_depth': 80, 'cvec__ngram_range': (1, 1)}\""
      ]
     },
     "metadata": {},
     "output_type": "display_data"
    },
    {
     "data": {
      "text/plain": [
       "'Best Score:   0.864'"
      ]
     },
     "metadata": {},
     "output_type": "display_data"
    },
    {
     "data": {
      "text/plain": [
       "'The training score is: 0.88524.'"
      ]
     },
     "metadata": {},
     "output_type": "display_data"
    },
    {
     "data": {
      "text/plain": [
       "'The test score is 0.86974.'"
      ]
     },
     "metadata": {},
     "output_type": "display_data"
    },
    {
     "name": "stdout",
     "output_type": "stream",
     "text": [
      "\n"
     ]
    },
    {
     "data": {
      "text/plain": [
       "'The recall score is 0.87.'"
      ]
     },
     "metadata": {},
     "output_type": "display_data"
    },
    {
     "data": {
      "text/plain": [
       "'The precision score is 0.749.'"
      ]
     },
     "metadata": {},
     "output_type": "display_data"
    },
    {
     "data": {
      "text/plain": [
       "'The f1 score is 0.805.'"
      ]
     },
     "metadata": {},
     "output_type": "display_data"
    },
    {
     "data": {
      "text/plain": [
       "'The AUC score is 0.885.'"
      ]
     },
     "metadata": {},
     "output_type": "display_data"
    },
    {
     "name": "stdout",
     "output_type": "stream",
     "text": [
      "Wall time: 3min 5s\n"
     ]
    },
    {
     "data": {
      "image/png": "[encoded data removed]",
      "text/plain": [
       "<Figure size 432x288 with 2 Axes>"
      ]
     },
     "metadata": {
      "needs_background": "light"
     },
     "output_type": "display_data"
    }
   ],
   "source": [
    "%%time\n",
    "rs5.fit(X_train_val, y_train_val)\n",
    "rf_c_train, rf_c_validation, rf_c_recall, rf_c_precision, rf_c_f1, rf_c_auc = metrics(rs5,\n",
    "                                                                                      X_train = X_train_val,\n",
    "                                                                                      y_train = y_train_val,\n",
    "                                                                                      X_test = X_test,\n",
    "                                                                                      y_test = y_test,\n",
    "                                                                                      test_set=True,\n",
    "                                                                                      hyperparam_tuning=True)\n",
    "\n",
    "# record scores\n",
    "test_results['model'].append('RF/CVEC')\n",
    "test_results['training_score'].append(rf_c_train)\n",
    "test_results['test_score'].append(rf_c_validation)\n",
    "test_results['test_recall'].append(rf_c_recall)\n",
    "test_results['test_precision'].append(rf_c_precision)\n",
    "test_results['test_f1'].append(rf_c_f1)\n",
    "test_results['test_AUC_score'].append(rf_c_auc)\n",
    "\n",
    "\n",
    "filename = '../models/rf_c.sav'\n",
    "pickle.dump(rs5, open(filename, 'wb'))"
   ]
  },
  {
   "cell_type": "markdown",
   "id": "69d7ccca-e304-4b1c-8e76-10cd6665c1b2",
   "metadata": {},
   "source": [
    "#### TF-IDF Vectorizer"
   ]
  },
  {
   "cell_type": "code",
   "execution_count": 20,
   "id": "4b36ee4f-1c37-4c28-b650-7cc658e9d65a",
   "metadata": {},
   "outputs": [
    {
     "data": {
      "text/plain": [
       "<sklearn.metrics._plot.confusion_matrix.ConfusionMatrixDisplay at 0x1f8f6745dc0>"
      ]
     },
     "metadata": {},
     "output_type": "display_data"
    },
    {
     "data": {
      "text/plain": [
       "\"Best Params:  {'tvec__ngram_range': (1, 1), 'rf__n_estimators': 150, 'rf__min_samples_split': 20, 'rf__min_samples_leaf': 5, 'rf__max_features': 'log2', 'rf__max_depth': 80}\""
      ]
     },
     "metadata": {},
     "output_type": "display_data"
    },
    {
     "data": {
      "text/plain": [
       "'Best Score:   0.87'"
      ]
     },
     "metadata": {},
     "output_type": "display_data"
    },
    {
     "data": {
      "text/plain": [
       "'The training score is: 0.89096.'"
      ]
     },
     "metadata": {},
     "output_type": "display_data"
    },
    {
     "data": {
      "text/plain": [
       "'The validation score is 0.88535.'"
      ]
     },
     "metadata": {},
     "output_type": "display_data"
    },
    {
     "name": "stdout",
     "output_type": "stream",
     "text": [
      "\n"
     ]
    },
    {
     "data": {
      "text/plain": [
       "'The recall score is 0.885.'"
      ]
     },
     "metadata": {},
     "output_type": "display_data"
    },
    {
     "data": {
      "text/plain": [
       "'The precision score is 0.692.'"
      ]
     },
     "metadata": {},
     "output_type": "display_data"
    },
    {
     "data": {
      "text/plain": [
       "'The f1 score is 0.777.'"
      ]
     },
     "metadata": {},
     "output_type": "display_data"
    },
    {
     "data": {
      "text/plain": [
       "'The AUC score is 0.859.'"
      ]
     },
     "metadata": {},
     "output_type": "display_data"
    },
    {
     "name": "stdout",
     "output_type": "stream",
     "text": [
      "Wall time: 2min 45s\n"
     ]
    },
    {
     "data": {
      "image/png": "[encoded data removed]",
      "text/plain": [
       "<Figure size 432x288 with 2 Axes>"
      ]
     },
     "metadata": {
      "needs_background": "light"
     },
     "output_type": "display_data"
    }
   ],
   "source": [
    "%%time\n",
    "\n",
    "rf_pipe = Pipeline([\n",
    "    ('tvec',tvec),\n",
    "    ('rf', RandomForestClassifier(random_state=seed))\n",
    "])\n",
    "\n",
    "rf_params = {\n",
    "    'tvec__ngram_range':[(1,1), (1,2), (1,3)],\n",
    "    'rf__n_estimators':[50,100,150,200],\n",
    "    'rf__max_depth':range(20,100,20),\n",
    "    'rf__max_features':['auto', 'sqrt','log2'],\n",
    "    'rf__min_samples_split':[5,10,20],\n",
    "    'rf__min_samples_leaf':[5,10,20]   \n",
    "}\n",
    "\n",
    "rs6 = RandomizedSearchCV(rf_pipe,\n",
    "                         rf_params,\n",
    "                         n_iter=100,\n",
    "                         cv=3,\n",
    "                         scoring='recall',\n",
    "                         random_state=seed,\n",
    "                         n_jobs = -1)\n",
    "                         \n",
    "rs6.fit(X_train, y_train)\n",
    "rf_train, rf_validation, rf_recall, rf_precision, rf_f1, rf_auc = metrics(rs6, hyperparam_tuning=True)\n",
    "\n",
    "# record scores\n",
    "val_results['model'].append('RF/TVEC')\n",
    "val_results['training_score'].append(rf_train)\n",
    "val_results['validation_score'].append(rf_validation)\n",
    "val_results['validation_recall'].append(rf_recall)\n",
    "val_results['validation_precision'].append(rf_precision)\n",
    "val_results['validation_f1'].append(rf_f1)\n",
    "val_results['validation_AUC_score'].append(rf_auc)"
   ]
  },
  {
   "cell_type": "code",
   "execution_count": 21,
   "id": "9a7c31f9-7d56-4a09-a11b-38e7d1aabac8",
   "metadata": {},
   "outputs": [
    {
     "data": {
      "text/plain": [
       "<sklearn.metrics._plot.confusion_matrix.ConfusionMatrixDisplay at 0x1f8fb7be6a0>"
      ]
     },
     "metadata": {},
     "output_type": "display_data"
    },
    {
     "data": {
      "text/plain": [
       "\"Best Params:  {'tvec__ngram_range': (1, 2), 'rf__n_estimators': 200, 'rf__min_samples_split': 10, 'rf__min_samples_leaf': 5, 'rf__max_features': 'sqrt', 'rf__max_depth': 80}\""
      ]
     },
     "metadata": {},
     "output_type": "display_data"
    },
    {
     "data": {
      "text/plain": [
       "'Best Score:   0.833'"
      ]
     },
     "metadata": {},
     "output_type": "display_data"
    },
    {
     "data": {
      "text/plain": [
       "'The training score is: 0.81278.'"
      ]
     },
     "metadata": {},
     "output_type": "display_data"
    },
    {
     "data": {
      "text/plain": [
       "'The test score is 0.83178.'"
      ]
     },
     "metadata": {},
     "output_type": "display_data"
    },
    {
     "name": "stdout",
     "output_type": "stream",
     "text": [
      "\n"
     ]
    },
    {
     "data": {
      "text/plain": [
       "'The recall score is 0.832.'"
      ]
     },
     "metadata": {},
     "output_type": "display_data"
    },
    {
     "data": {
      "text/plain": [
       "'The precision score is 0.808.'"
      ]
     },
     "metadata": {},
     "output_type": "display_data"
    },
    {
     "data": {
      "text/plain": [
       "'The f1 score is 0.82.'"
      ]
     },
     "metadata": {},
     "output_type": "display_data"
    },
    {
     "data": {
      "text/plain": [
       "'The AUC score is 0.905.'"
      ]
     },
     "metadata": {},
     "output_type": "display_data"
    },
    {
     "name": "stdout",
     "output_type": "stream",
     "text": [
      "Wall time: 3min 43s\n"
     ]
    },
    {
     "data": {
      "image/png": "[encoded data removed]",
      "text/plain": [
       "<Figure size 432x288 with 2 Axes>"
      ]
     },
     "metadata": {
      "needs_background": "light"
     },
     "output_type": "display_data"
    }
   ],
   "source": [
    "%%time\n",
    "rs6.fit(X_train_val, y_train_val)\n",
    "rf_train, rf_validation, rf_recall, rf_precision, rf_f1, rf_auc = metrics(rs6,\n",
    "                                                                          X_train = X_train_val,\n",
    "                                                                          y_train = y_train_val,\n",
    "                                                                          X_test = X_test,\n",
    "                                                                          y_test = y_test,\n",
    "                                                                          test_set=True,\n",
    "                                                                          hyperparam_tuning=True)\n",
    "\n",
    "# record scores\n",
    "test_results['model'].append('RF/TVEC')\n",
    "test_results['training_score'].append(rf_train)\n",
    "test_results['test_score'].append(rf_validation)\n",
    "test_results['test_recall'].append(rf_recall)\n",
    "test_results['test_precision'].append(rf_precision)\n",
    "test_results['test_f1'].append(rf_f1)\n",
    "test_results['test_AUC_score'].append(rf_auc)\n",
    "\n",
    "filename = '../models/rf.sav'\n",
    "pickle.dump(rs6, open(filename, 'wb'))"
   ]
  },
  {
   "cell_type": "markdown",
   "id": "7160432a-f5d2-4ee5-92a0-581ecfff179a",
   "metadata": {},
   "source": [
    "### Validation Scores"
   ]
  },
  {
   "cell_type": "code",
   "execution_count": 22,
   "id": "f7016bed-68bb-4c3a-b37c-e162764cc839",
   "metadata": {},
   "outputs": [
    {
     "data": {
      "text/html": [
       "<div>\n",
       "<style scoped>\n",
       "    .dataframe tbody tr th:only-of-type {\n",
       "        vertical-align: middle;\n",
       "    }\n",
       "\n",
       "    .dataframe tbody tr th {\n",
       "        vertical-align: top;\n",
       "    }\n",
       "\n",
       "    .dataframe thead th {\n",
       "        text-align: right;\n",
       "    }\n",
       "</style>\n",
       "<table border=\"1\" class=\"dataframe\">\n",
       "  <thead>\n",
       "    <tr style=\"text-align: right;\">\n",
       "      <th></th>\n",
       "      <th>model</th>\n",
       "      <th>training_score</th>\n",
       "      <th>validation_score</th>\n",
       "      <th>validation_recall</th>\n",
       "      <th>validation_precision</th>\n",
       "      <th>validation_f1</th>\n",
       "      <th>validation_AUC_score</th>\n",
       "    </tr>\n",
       "  </thead>\n",
       "  <tbody>\n",
       "    <tr>\n",
       "      <th>0</th>\n",
       "      <td>Multinomial NB/CVEC (Benchmark)</td>\n",
       "      <td>0.85963</td>\n",
       "      <td>0.83201</td>\n",
       "      <td>0.903</td>\n",
       "      <td>0.785</td>\n",
       "      <td>0.840</td>\n",
       "      <td>0.925</td>\n",
       "    </tr>\n",
       "    <tr>\n",
       "      <th>1</th>\n",
       "      <td>Logistic Regression/CVEC</td>\n",
       "      <td>1.00000</td>\n",
       "      <td>0.88318</td>\n",
       "      <td>0.883</td>\n",
       "      <td>0.873</td>\n",
       "      <td>0.878</td>\n",
       "      <td>0.951</td>\n",
       "    </tr>\n",
       "    <tr>\n",
       "      <th>2</th>\n",
       "      <td>Logistic Regression/TVEC</td>\n",
       "      <td>1.00000</td>\n",
       "      <td>0.90235</td>\n",
       "      <td>0.902</td>\n",
       "      <td>0.861</td>\n",
       "      <td>0.881</td>\n",
       "      <td>0.953</td>\n",
       "    </tr>\n",
       "    <tr>\n",
       "      <th>3</th>\n",
       "      <td>XGB/CVEC</td>\n",
       "      <td>0.90672</td>\n",
       "      <td>0.83906</td>\n",
       "      <td>0.839</td>\n",
       "      <td>0.846</td>\n",
       "      <td>0.843</td>\n",
       "      <td>0.934</td>\n",
       "    </tr>\n",
       "    <tr>\n",
       "      <th>4</th>\n",
       "      <td>XGB/TVEC</td>\n",
       "      <td>0.90893</td>\n",
       "      <td>0.91646</td>\n",
       "      <td>0.916</td>\n",
       "      <td>0.638</td>\n",
       "      <td>0.752</td>\n",
       "      <td>0.859</td>\n",
       "    </tr>\n",
       "    <tr>\n",
       "      <th>5</th>\n",
       "      <td>RF/CVEC</td>\n",
       "      <td>0.91867</td>\n",
       "      <td>0.90778</td>\n",
       "      <td>0.908</td>\n",
       "      <td>0.690</td>\n",
       "      <td>0.784</td>\n",
       "      <td>0.874</td>\n",
       "    </tr>\n",
       "    <tr>\n",
       "      <th>6</th>\n",
       "      <td>RF/TVEC</td>\n",
       "      <td>0.89096</td>\n",
       "      <td>0.88535</td>\n",
       "      <td>0.885</td>\n",
       "      <td>0.692</td>\n",
       "      <td>0.777</td>\n",
       "      <td>0.859</td>\n",
       "    </tr>\n",
       "  </tbody>\n",
       "</table>\n",
       "</div>"
      ],
      "text/plain": [
       "                             model  training_score  validation_score  \\\n",
       "0  Multinomial NB/CVEC (Benchmark)         0.85963           0.83201   \n",
       "1         Logistic Regression/CVEC         1.00000           0.88318   \n",
       "2         Logistic Regression/TVEC         1.00000           0.90235   \n",
       "3                         XGB/CVEC         0.90672           0.83906   \n",
       "4                         XGB/TVEC         0.90893           0.91646   \n",
       "5                          RF/CVEC         0.91867           0.90778   \n",
       "6                          RF/TVEC         0.89096           0.88535   \n",
       "\n",
       "   validation_recall  validation_precision  validation_f1  \\\n",
       "0              0.903                 0.785          0.840   \n",
       "1              0.883                 0.873          0.878   \n",
       "2              0.902                 0.861          0.881   \n",
       "3              0.839                 0.846          0.843   \n",
       "4              0.916                 0.638          0.752   \n",
       "5              0.908                 0.690          0.784   \n",
       "6              0.885                 0.692          0.777   \n",
       "\n",
       "   validation_AUC_score  \n",
       "0                 0.925  \n",
       "1                 0.951  \n",
       "2                 0.953  \n",
       "3                 0.934  \n",
       "4                 0.859  \n",
       "5                 0.874  \n",
       "6                 0.859  "
      ]
     },
     "execution_count": 22,
     "metadata": {},
     "output_type": "execute_result"
    }
   ],
   "source": [
    "df_results = pd.DataFrame(val_results)\n",
    "df_results"
   ]
  },
  {
   "cell_type": "markdown",
   "id": "56072171-21e8-4543-9f0c-653aa6f6989b",
   "metadata": {},
   "source": [
    "### Test Scores\n",
    "\n",
    "\n",
    "From the results on the test set, we can observe that the **Logistic Regression/TF-IDF Vectorizer** is the best performing model.\n",
    "\n",
    "\n",
    "On a whole, the tree-based models (XGB and Random Forest) did not perform as well as the Logistic Regression models for the evaluation metric (F1 score) and 3/4 tree-based models did not outperform the benchmark."
   ]
  },
  {
   "cell_type": "code",
   "execution_count": 23,
   "id": "578c613a-5c09-46df-802f-f4533ddf773b",
   "metadata": {},
   "outputs": [
    {
     "data": {
      "text/html": [
       "<div>\n",
       "<style scoped>\n",
       "    .dataframe tbody tr th:only-of-type {\n",
       "        vertical-align: middle;\n",
       "    }\n",
       "\n",
       "    .dataframe tbody tr th {\n",
       "        vertical-align: top;\n",
       "    }\n",
       "\n",
       "    .dataframe thead th {\n",
       "        text-align: right;\n",
       "    }\n",
       "</style>\n",
       "<table border=\"1\" class=\"dataframe\">\n",
       "  <thead>\n",
       "    <tr style=\"text-align: right;\">\n",
       "      <th></th>\n",
       "      <th>model</th>\n",
       "      <th>training_score</th>\n",
       "      <th>test_score</th>\n",
       "      <th>test_recall</th>\n",
       "      <th>test_precision</th>\n",
       "      <th>test_f1</th>\n",
       "      <th>test_AUC_score</th>\n",
       "    </tr>\n",
       "  </thead>\n",
       "  <tbody>\n",
       "    <tr>\n",
       "      <th>0</th>\n",
       "      <td>Multinomial NB/CVEC (Benchmark)</td>\n",
       "      <td>0.85909</td>\n",
       "      <td>0.83049</td>\n",
       "      <td>0.893</td>\n",
       "      <td>0.796</td>\n",
       "      <td>0.842</td>\n",
       "      <td>0.923</td>\n",
       "    </tr>\n",
       "    <tr>\n",
       "      <th>1</th>\n",
       "      <td>Logistic Regression/CVEC</td>\n",
       "      <td>1.00000</td>\n",
       "      <td>0.88938</td>\n",
       "      <td>0.889</td>\n",
       "      <td>0.891</td>\n",
       "      <td>0.890</td>\n",
       "      <td>0.958</td>\n",
       "    </tr>\n",
       "    <tr>\n",
       "      <th>2</th>\n",
       "      <td>Logistic Regression/TVEC</td>\n",
       "      <td>1.00000</td>\n",
       "      <td>0.90247</td>\n",
       "      <td>0.902</td>\n",
       "      <td>0.879</td>\n",
       "      <td>0.891</td>\n",
       "      <td>0.957</td>\n",
       "    </tr>\n",
       "    <tr>\n",
       "      <th>3</th>\n",
       "      <td>XGB/CVEC</td>\n",
       "      <td>0.89733</td>\n",
       "      <td>0.82572</td>\n",
       "      <td>0.826</td>\n",
       "      <td>0.866</td>\n",
       "      <td>0.846</td>\n",
       "      <td>0.934</td>\n",
       "    </tr>\n",
       "    <tr>\n",
       "      <th>4</th>\n",
       "      <td>XGB/TVEC</td>\n",
       "      <td>0.90380</td>\n",
       "      <td>0.92194</td>\n",
       "      <td>0.922</td>\n",
       "      <td>0.637</td>\n",
       "      <td>0.753</td>\n",
       "      <td>0.845</td>\n",
       "    </tr>\n",
       "    <tr>\n",
       "      <th>5</th>\n",
       "      <td>RF/CVEC</td>\n",
       "      <td>0.88524</td>\n",
       "      <td>0.86974</td>\n",
       "      <td>0.870</td>\n",
       "      <td>0.749</td>\n",
       "      <td>0.805</td>\n",
       "      <td>0.885</td>\n",
       "    </tr>\n",
       "    <tr>\n",
       "      <th>6</th>\n",
       "      <td>RF/TVEC</td>\n",
       "      <td>0.81278</td>\n",
       "      <td>0.83178</td>\n",
       "      <td>0.832</td>\n",
       "      <td>0.808</td>\n",
       "      <td>0.820</td>\n",
       "      <td>0.905</td>\n",
       "    </tr>\n",
       "  </tbody>\n",
       "</table>\n",
       "</div>"
      ],
      "text/plain": [
       "                             model  training_score  test_score  test_recall  \\\n",
       "0  Multinomial NB/CVEC (Benchmark)         0.85909     0.83049        0.893   \n",
       "1         Logistic Regression/CVEC         1.00000     0.88938        0.889   \n",
       "2         Logistic Regression/TVEC         1.00000     0.90247        0.902   \n",
       "3                         XGB/CVEC         0.89733     0.82572        0.826   \n",
       "4                         XGB/TVEC         0.90380     0.92194        0.922   \n",
       "5                          RF/CVEC         0.88524     0.86974        0.870   \n",
       "6                          RF/TVEC         0.81278     0.83178        0.832   \n",
       "\n",
       "   test_precision  test_f1  test_AUC_score  \n",
       "0           0.796    0.842           0.923  \n",
       "1           0.891    0.890           0.958  \n",
       "2           0.879    0.891           0.957  \n",
       "3           0.866    0.846           0.934  \n",
       "4           0.637    0.753           0.845  \n",
       "5           0.749    0.805           0.885  \n",
       "6           0.808    0.820           0.905  "
      ]
     },
     "execution_count": 23,
     "metadata": {},
     "output_type": "execute_result"
    }
   ],
   "source": [
    "df_test = pd.DataFrame(test_results)\n",
    "df_test"
   ]
  },
  {
   "cell_type": "code",
   "execution_count": 24,
   "id": "ffa94ffb-0396-4864-af25-eff8ce5528d5",
   "metadata": {},
   "outputs": [],
   "source": [
    "df_test.to_csv('../data/df_test.csv', index=False)"
   ]
  },
  {
   "cell_type": "markdown",
   "id": "3da39dd1-5645-4539-b5e1-96288b4a7153",
   "metadata": {},
   "source": [
    "### Examining Results of Best Performing Model"
   ]
  },
  {
   "cell_type": "code",
   "execution_count": 25,
   "id": "13213bae-1be4-4ed0-afd5-0d05a0b08082",
   "metadata": {},
   "outputs": [],
   "source": [
    "vectorizer = rs2.best_estimator_.named_steps['tvec']\n",
    "classifier = rs2.best_estimator_.named_steps['logreg']"
   ]
  },
  {
   "cell_type": "code",
   "execution_count": 26,
   "id": "c9d99aa3-91c7-4929-9b49-9eef87554c62",
   "metadata": {},
   "outputs": [
    {
     "data": {
      "text/plain": [
       "{'tvec__ngram_range': (1, 3),\n",
       " 'logreg__solver': 'newton-cg',\n",
       " 'logreg__C': 100.0}"
      ]
     },
     "execution_count": 26,
     "metadata": {},
     "output_type": "execute_result"
    }
   ],
   "source": [
    "rs2.best_params_"
   ]
  },
  {
   "cell_type": "markdown",
   "id": "c7051827-a70c-42c2-990e-0384dfa8c272",
   "metadata": {},
   "source": [
    "The vocabulary size of the model is about 1.04 million words (including unigrams, bigrams and trigrams)"
   ]
  },
  {
   "cell_type": "code",
   "execution_count": 27,
   "id": "6a8346e5-7741-4321-bf84-bba26f9f23d9",
   "metadata": {},
   "outputs": [
    {
     "data": {
      "text/plain": [
       "1048017"
      ]
     },
     "execution_count": 27,
     "metadata": {},
     "output_type": "execute_result"
    }
   ],
   "source": [
    "# vocabulary size of the model\n",
    "classifier.n_features_in_"
   ]
  },
  {
   "cell_type": "markdown",
   "id": "017923c3-de82-4bbd-8919-89275adc1773",
   "metadata": {},
   "source": [
    "We will extract the feature coefficients out for further examination."
   ]
  },
  {
   "cell_type": "code",
   "execution_count": 28,
   "id": "b2c6c3ee-4046-4928-bc8d-8d277654b2b6",
   "metadata": {},
   "outputs": [],
   "source": [
    "# get feature names and coefficients from the logreg model\n",
    "features = vectorizer.get_feature_names_out()\n",
    "coefs = classifier.coef_.flatten()"
   ]
  },
  {
   "cell_type": "code",
   "execution_count": 41,
   "id": "9f2d0df5-e77e-4627-939b-b4650392a435",
   "metadata": {},
   "outputs": [],
   "source": [
    "# storing the info in a dataframe in preparation for visualization\n",
    "zipped = zip(features, coefs)\n",
    "df_feature = pd.DataFrame(zipped, columns=[\"feature\", \"value\"])\n",
    "df_feature['abs_value'] = df_feature['value'].apply(abs)\n",
    "df_feature = df_feature.sort_values(\"abs_value\", ascending=False)\n",
    "df_feature[\"colors\"] = df_feature[\"value\"].apply(lambda x: \"green\" if x > 0 else \"red\")"
   ]
  },
  {
   "cell_type": "markdown",
   "id": "02e640e0-18b9-406f-b039-6862f2cc40fe",
   "metadata": {},
   "source": [
    "From the figures below, the following can be observed:\n",
    "\n",
    "\n",
    "* The word '**movie**' has a relatively high positive coefficient weight, this may result in a large number reviews (real or fake) in the `movies_and_TV` category to be classified as fake.\n",
    "\n",
    "* The word '**woman**' has a relatively high positive coefficient weight, this may result in reviews of products that are primarily purchased by women (eg. `clothing_shoes_and_jewellery`) to be prone to being misclassified as fake.\n",
    "\n",
    "* The word '**characters**' has a relatively high positive coefficient weight, this may result in reviews of products such as `movies & TV`, `books` and `kindle_store` to be more prone to being misclassified as fake."
   ]
  },
  {
   "cell_type": "code",
   "execution_count": 49,
   "id": "e07d3629-d32b-4b88-be8a-e7aa7ac60ea1",
   "metadata": {},
   "outputs": [
    {
     "data": {
      "text/plain": [
       "Text(0.5, 0, 'Feature Name')"
      ]
     },
     "execution_count": 49,
     "metadata": {},
     "output_type": "execute_result"
    },
    {
     "data": {
      "image/png": "[encoded data removed]",
      "text/plain": [
       "<Figure size 1296x576 with 1 Axes>"
      ]
     },
     "metadata": {
      "needs_background": "light"
     },
     "output_type": "display_data"
    }
   ],
   "source": [
    "plt.figure(figsize=(18,8))\n",
    "sns.barplot(y=\"feature\",\n",
    "            x=\"value\",\n",
    "            data=df_feature.head(40),\n",
    "           palette=df_feature.head(40)[\"colors\"], orient='horizontal')\n",
    "plt.xticks(rotation=90, fontsize=20)\n",
    "plt.title(\"Top 40 Feature Coefficients\", fontsize=25)\n",
    "plt.ylabel(\"Coef\", fontsize=22)\n",
    "plt.xlabel(\"Feature Name\", fontsize=22)"
   ]
  },
  {
   "cell_type": "markdown",
   "id": "60da73b6-f18c-4840-ac2b-e252b0890d62",
   "metadata": {},
   "source": [
    "The category distribution of test set is fairly balanced."
   ]
  },
  {
   "cell_type": "code",
   "execution_count": 32,
   "id": "85a4ba5a-9983-4b8e-b2f6-0d40fd13fe59",
   "metadata": {},
   "outputs": [
    {
     "data": {
      "text/plain": [
       "kindle_store                  0.117686\n",
       "books                         0.110341\n",
       "pet_supplies                  0.109268\n",
       "home_and_kitchen              0.098044\n",
       "electronics                   0.097962\n",
       "clothing_shoes_and_jewelry    0.096559\n",
       "sports_and_outdoors           0.096228\n",
       "tools_and_home_improvement    0.093505\n",
       "toys_and_games                0.092845\n",
       "movies_and_tv                 0.087563\n",
       "Name: category, dtype: float64"
      ]
     },
     "execution_count": 32,
     "metadata": {},
     "output_type": "execute_result"
    }
   ],
   "source": [
    "df_pred = df.iloc[X_test.index]\n",
    "df_pred['category'].value_counts(normalize=True)"
   ]
  },
  {
   "cell_type": "markdown",
   "id": "de5f8118-cc72-4d07-b1c9-7c0f2f7297eb",
   "metadata": {},
   "source": [
    "In the figures below, we drill down further to the category and class distribution of the misclassified reviews. We observe the following:\n",
    "\n",
    "\n",
    "* The class distribution is slightly skewed to class 1 (reviews predicted as fake)\n",
    "\n",
    "* `clothing_shoes_and_jewellery` and `pet supplies` have the largest number of misclassification. `home_and_kitchen` have the lowest misclassified reviews.\n",
    "\n",
    "* Apart from `electronics`, misclassifications for the rest of the product categories are misclassification of a review as fake.\n",
    "\n",
    "* As expected, misclassifications in the `movies & TV`, `books` , `kindle_store` and `clothing_shoes_and_jewellery` have the highest misclassification of reviews as fake due to the high coefficient of their related keywords (see above)"
   ]
  },
  {
   "cell_type": "code",
   "execution_count": 33,
   "id": "ddb593d6-0897-4a8a-91b0-868fc8346b6f",
   "metadata": {},
   "outputs": [
    {
     "data": {
      "text/plain": [
       "1    0.559172\n",
       "0    0.440828\n",
       "Name: class_pred, dtype: float64"
      ]
     },
     "execution_count": 33,
     "metadata": {},
     "output_type": "execute_result"
    }
   ],
   "source": [
    "warnings.filterwarnings(\"ignore\")\n",
    "\n",
    "# create columns for the predictions and whether they differ from ground truth\n",
    "df_pred['class_pred'] = rs2.predict(X_test)\n",
    "df_pred['misclassification'] = (df_pred['class'] != df_pred['class_pred'])\n",
    "\n",
    "# see misclassified reviews\n",
    "wrong_preds = df_pred[(df_pred['misclassification'] ==True)]\n",
    "\n",
    "wrong_preds['class_pred'].value_counts(normalize=True)"
   ]
  },
  {
   "cell_type": "code",
   "execution_count": 34,
   "id": "eaa115e7-4c86-411e-ab71-9ef1a401ec59",
   "metadata": {},
   "outputs": [
    {
     "data": {
      "text/plain": [
       "Text(0.5, 1.0, 'Number of Misclassified Reviews by Category')"
      ]
     },
     "execution_count": 34,
     "metadata": {},
     "output_type": "execute_result"
    },
    {
     "data": {
      "image/png": "[encoded data removed]",
      "text/plain": [
       "<Figure size 1584x576 with 1 Axes>"
      ]
     },
     "metadata": {
      "needs_background": "light"
     },
     "output_type": "display_data"
    }
   ],
   "source": [
    "plt.figure(figsize=(22,8))\n",
    "sns.countplot(x='category', data= wrong_preds, orient='horizontal', palette='Set2') \n",
    "plt.title('Number of Misclassified Reviews by Category', fontsize=22)"
   ]
  },
  {
   "cell_type": "code",
   "execution_count": 35,
   "id": "280dd2e7-1d59-4cbe-9f53-d179a5e8cc50",
   "metadata": {},
   "outputs": [
    {
     "data": {
      "text/plain": [
       "Text(0.5, 1.0, 'Number of Misclassified Reviews by Category/Class')"
      ]
     },
     "execution_count": 35,
     "metadata": {},
     "output_type": "execute_result"
    },
    {
     "data": {
      "image/png": "[encoded data removed]",
      "text/plain": [
       "<Figure size 1584x576 with 1 Axes>"
      ]
     },
     "metadata": {
      "needs_background": "light"
     },
     "output_type": "display_data"
    }
   ],
   "source": [
    "plt.figure(figsize=(22,8))\n",
    "sns.countplot(x='category', data= wrong_preds, hue='class_pred', orient='horizontal', palette='Set2') \n",
    "plt.title('Number of Misclassified Reviews by Category/Class', fontsize=22)"
   ]
  },
  {
   "cell_type": "markdown",
   "id": "3465c84f-6def-4980-8abf-2351f8bb96e8",
   "metadata": {},
   "source": [
    "# Notebook Conclusion\n",
    "\n",
    "In this notebook, we have:\n",
    "* Split the data into train, validation and test sets\n",
    "\n",
    "* Implemented Machine Learning Models with Count Vectorization and TF-IDF Vectorization \n",
    "\n",
    "* Chose the **Logistic Regression with TF-IDF Vectorization** as the best performing Machine Learning model and examined its output.\n",
    "\n",
    "In the next notebook, we will be building a classifier using Deep Learning."
   ]
  }
 ],
 "metadata": {
  "kernelspec": {
   "display_name": "Python 3 (ipykernel)",
   "language": "python",
   "name": "python3"
  },
  "language_info": {
   "codemirror_mode": {
    "name": "ipython",
    "version": 3
   },
   "file_extension": ".py",
   "mimetype": "text/x-python",
   "name": "python",
   "nbconvert_exporter": "python",
   "pygments_lexer": "ipython3",
   "version": "3.8.12"
  }
 },
 "nbformat": 4,
 "nbformat_minor": 5
}
