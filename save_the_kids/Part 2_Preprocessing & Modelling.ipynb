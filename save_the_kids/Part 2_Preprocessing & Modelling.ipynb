{
 "cells": [
  {
   "cell_type": "markdown",
   "id": "1bfd6fba",
   "metadata": {},
   "source": [
    "# Part 2/2 - Preprocessing, Modelling & Selection\n",
    "---\n",
    "\n",
    "In this notebook, the subreddit posts will be cleaned, preprocessed, tokenized and modelled using various classifiers. It is broadly split up to 4 steps:\n",
    "\n",
    "\n",
    "* **Step 1. Data Cleaning** - Imputing missing values, removal of duplicate posts. \n",
    "\n",
    "\n",
    "* **Step 2. Exploratory Data Analysis** - Preprocess of text data, word frequency \n",
    "\n",
    "\n",
    "* **Step 3: Modelling** - Creating benchmark model & candidate models for selection\n",
    "\n",
    "\n",
    "* **Step 4: Selection & Insight** - Selection of best model, justification and further insights\n",
    "\n",
    "\n",
    "* **Step5: Conclusion & Future Work**\n",
    "\n"
   ]
  },
  {
   "cell_type": "markdown",
   "id": "f88eecd5",
   "metadata": {},
   "source": [
    "## Housekeeping\n",
    "\n",
    "Importing the libraries needed and reuseable functions that will be deployed extensively in this notebook."
   ]
  },
  {
   "cell_type": "code",
   "execution_count": 1,
   "id": "e3d737da",
   "metadata": {},
   "outputs": [],
   "source": [
    "import pandas as pd\n",
    "import numpy as np\n",
    "import matplotlib.pyplot as plt\n",
    "\n",
    "import nltk\n",
    "from nltk.tokenize import RegexpTokenizer\n",
    "from nltk.stem import WordNetLemmatizer,PorterStemmer\n",
    "from nltk.corpus import stopwords\n",
    "import re\n",
    "\n",
    "import warnings\n",
    "from time import time\n",
    "\n",
    "from sklearn.feature_extraction.text import TfidfVectorizer, CountVectorizer\n",
    "from sklearn.model_selection import train_test_split, GridSearchCV\n",
    "from sklearn.pipeline import Pipeline\n",
    "from sklearn.naive_bayes import MultinomialNB\n",
    "from sklearn.linear_model import LogisticRegression\n",
    "from sklearn.metrics import confusion_matrix, ConfusionMatrixDisplay, f1_score, roc_auc_score, RocCurveDisplay\n",
    "from sklearn.neighbors import KNeighborsClassifier\n",
    "from sklearn.ensemble import RandomForestClassifier\n",
    "\n",
    "warnings.filterwarnings(\"ignore\")\n",
    "\n",
    "lemmatizer = WordNetLemmatizer()\n",
    "stemmer = PorterStemmer() "
   ]
  },
  {
   "cell_type": "code",
   "execution_count": 3,
   "id": "b19290c3",
   "metadata": {},
   "outputs": [],
   "source": [
    " def preprocess(sentence):\n",
    "    '''\n",
    "\n",
    "    Takes input of a document, converts to lowercase and removes special symbols, numbers and web addresses. \n",
    "    Tokenizes and lemmatizeswords using nltk methods to ready documents for vectorization\n",
    "\n",
    "    '''\n",
    "    \n",
    "    sentence=str(sentence)\n",
    "    sentence = sentence.lower()\n",
    "    cleanr = re.compile('<.*?>')\n",
    "    cleantext = re.sub(cleanr, '', sentence)\n",
    "    rem_url=re.sub(r'http\\S+', '',cleantext)\n",
    "    rem_num = re.sub('[0-9]+', '', rem_url)\n",
    "    rem_keywords = re.sub(r'daily|thread|monday|tuesday|wednesday|thursday|friday|saturday|sunday|soccer'\n",
    "                          r'football|bet|betting|betted','',rem_num)\n",
    "    tokenizer = RegexpTokenizer(r'\\w+')\n",
    "    tokens = tokenizer.tokenize(rem_keywords)  \n",
    "    filtered_words = [w for w in tokens if len(w) > 2 if not w in stopwords.words('english')]\n",
    "    lemma_words=[lemmatizer.lemmatize(w) for w in filtered_words]\n",
    "    stem_words = [stemmer.stem(w) for w in lemma_words]\n",
    "    \n",
    "    return ' '.join(stem_words)"
   ]
  },
  {
   "cell_type": "code",
   "execution_count": 4,
   "id": "177b1c05",
   "metadata": {},
   "outputs": [
    {
     "data": {
      "text/html": [
       "<div>\n",
       "<style scoped>\n",
       "    .dataframe tbody tr th:only-of-type {\n",
       "        vertical-align: middle;\n",
       "    }\n",
       "\n",
       "    .dataframe tbody tr th {\n",
       "        vertical-align: top;\n",
       "    }\n",
       "\n",
       "    .dataframe thead th {\n",
       "        text-align: right;\n",
       "    }\n",
       "</style>\n",
       "<table border=\"1\" class=\"dataframe\">\n",
       "  <thead>\n",
       "    <tr style=\"text-align: right;\">\n",
       "      <th></th>\n",
       "      <th>subreddit</th>\n",
       "      <th>selftext</th>\n",
       "      <th>title</th>\n",
       "    </tr>\n",
       "  </thead>\n",
       "  <tbody>\n",
       "    <tr>\n",
       "      <th>0</th>\n",
       "      <td>football</td>\n",
       "      <td>How many other current footballers (age 19 to ...</td>\n",
       "      <td>Alex Ferguson said \"Give me Zidane and 10 piec...</td>\n",
       "    </tr>\n",
       "    <tr>\n",
       "      <th>1</th>\n",
       "      <td>football</td>\n",
       "      <td>NaN</td>\n",
       "      <td>let me present the worst rating system in foot...</td>\n",
       "    </tr>\n",
       "    <tr>\n",
       "      <th>2</th>\n",
       "      <td>football</td>\n",
       "      <td>I want to inspire myself. I would prefer answe...</td>\n",
       "      <td>Who are some footballers with a great hard wor...</td>\n",
       "    </tr>\n",
       "    <tr>\n",
       "      <th>3</th>\n",
       "      <td>football</td>\n",
       "      <td>[removed]</td>\n",
       "      <td>Who are some players with the best mentalities...</td>\n",
       "    </tr>\n",
       "    <tr>\n",
       "      <th>4</th>\n",
       "      <td>football</td>\n",
       "      <td>[removed]</td>\n",
       "      <td>African Cup of Nation 2022 kicked off in Camer...</td>\n",
       "    </tr>\n",
       "  </tbody>\n",
       "</table>\n",
       "</div>"
      ],
      "text/plain": [
       "  subreddit                                           selftext  \\\n",
       "0  football  How many other current footballers (age 19 to ...   \n",
       "1  football                                                NaN   \n",
       "2  football  I want to inspire myself. I would prefer answe...   \n",
       "3  football                                          [removed]   \n",
       "4  football                                          [removed]   \n",
       "\n",
       "                                               title  \n",
       "0  Alex Ferguson said \"Give me Zidane and 10 piec...  \n",
       "1  let me present the worst rating system in foot...  \n",
       "2  Who are some footballers with a great hard wor...  \n",
       "3  Who are some players with the best mentalities...  \n",
       "4  African Cup of Nation 2022 kicked off in Camer...  "
      ]
     },
     "metadata": {},
     "output_type": "display_data"
    },
    {
     "data": {
      "text/plain": [
       "(4000, 3)"
      ]
     },
     "metadata": {},
     "output_type": "display_data"
    }
   ],
   "source": [
    "subreddit = pd.read_csv('.../datasets/subreddit.csv')\n",
    "display(subreddit.head())\n",
    "display(subreddit.shape)\n",
    "\n",
    "# renaming the target column to avoid confusion with the subreddit word token later on\n",
    "subreddit.rename(columns={'subreddit':'y_subreddit'}, inplace=True)"
   ]
  },
  {
   "cell_type": "markdown",
   "id": "6df3f599",
   "metadata": {},
   "source": [
    "## Step 1: Data Cleaning (Removed/Deleted Posts, Missing Values & Duplicates)\n",
    "---\n",
    "### Removed/Deleted Posts\n",
    "\n",
    "\n",
    "There is quite number of removed and deleted posts (1230 posts in total (~30% of posts)). There may be many reasons for removing or deleting a post (eg.inactive posts, irrelevant posts, offensive posts etc), unlike the approach taken to impute the `title` content into the `selftext`, the moderators of the subreddits made the conscious decision to remove/delete these posts, and therefore be excluded from the analysis.\n",
    "\n",
    "\n",
    "In addition, the analysis is limited to 1000+ posts each from each subreddit to minimize model training time. There will still be ~2700 posts left for analysis, which is sufficient.\n",
    "\n",
    "\n",
    "A new dataframe `df` is created by subsetting the posts that were not removed/deleted. `df` will be used henceforth."
   ]
  },
  {
   "cell_type": "code",
   "execution_count": 5,
   "id": "4fe5c0ba",
   "metadata": {},
   "outputs": [
    {
     "data": {
      "text/html": [
       "<div>\n",
       "<style scoped>\n",
       "    .dataframe tbody tr th:only-of-type {\n",
       "        vertical-align: middle;\n",
       "    }\n",
       "\n",
       "    .dataframe tbody tr th {\n",
       "        vertical-align: top;\n",
       "    }\n",
       "\n",
       "    .dataframe thead th {\n",
       "        text-align: right;\n",
       "    }\n",
       "</style>\n",
       "<table border=\"1\" class=\"dataframe\">\n",
       "  <thead>\n",
       "    <tr style=\"text-align: right;\">\n",
       "      <th></th>\n",
       "      <th>y_subreddit</th>\n",
       "      <th>selftext</th>\n",
       "      <th>title</th>\n",
       "    </tr>\n",
       "  </thead>\n",
       "  <tbody>\n",
       "    <tr>\n",
       "      <th>3</th>\n",
       "      <td>football</td>\n",
       "      <td>[removed]</td>\n",
       "      <td>Who are some players with the best mentalities...</td>\n",
       "    </tr>\n",
       "    <tr>\n",
       "      <th>4</th>\n",
       "      <td>football</td>\n",
       "      <td>[removed]</td>\n",
       "      <td>African Cup of Nation 2022 kicked off in Camer...</td>\n",
       "    </tr>\n",
       "    <tr>\n",
       "      <th>5</th>\n",
       "      <td>football</td>\n",
       "      <td>[removed]</td>\n",
       "      <td>African Cup of Nation 2022 kicked off in Camer...</td>\n",
       "    </tr>\n",
       "    <tr>\n",
       "      <th>12</th>\n",
       "      <td>football</td>\n",
       "      <td>[removed]</td>\n",
       "      <td>Is there a football that pros prefer to play w...</td>\n",
       "    </tr>\n",
       "    <tr>\n",
       "      <th>19</th>\n",
       "      <td>football</td>\n",
       "      <td>[removed]</td>\n",
       "      <td>Anyone not happy about the winter world cup?</td>\n",
       "    </tr>\n",
       "    <tr>\n",
       "      <th>...</th>\n",
       "      <td>...</td>\n",
       "      <td>...</td>\n",
       "      <td>...</td>\n",
       "    </tr>\n",
       "    <tr>\n",
       "      <th>3987</th>\n",
       "      <td>SoccerBetting</td>\n",
       "      <td>[removed]</td>\n",
       "      <td>Beginner</td>\n",
       "    </tr>\n",
       "    <tr>\n",
       "      <th>3988</th>\n",
       "      <td>SoccerBetting</td>\n",
       "      <td>[removed]</td>\n",
       "      <td>Congratulations to those that believed in me a...</td>\n",
       "    </tr>\n",
       "    <tr>\n",
       "      <th>3989</th>\n",
       "      <td>SoccerBetting</td>\n",
       "      <td>[removed]</td>\n",
       "      <td>Potd</td>\n",
       "    </tr>\n",
       "    <tr>\n",
       "      <th>3996</th>\n",
       "      <td>SoccerBetting</td>\n",
       "      <td>[removed]</td>\n",
       "      <td>Juventus vs Inter Milan Predictions and Bettin...</td>\n",
       "    </tr>\n",
       "    <tr>\n",
       "      <th>3999</th>\n",
       "      <td>SoccerBetting</td>\n",
       "      <td>[removed]</td>\n",
       "      <td>Duelbits - Get up to 50$ for free, no strings ...</td>\n",
       "    </tr>\n",
       "  </tbody>\n",
       "</table>\n",
       "<p>1230 rows × 3 columns</p>\n",
       "</div>"
      ],
      "text/plain": [
       "        y_subreddit   selftext  \\\n",
       "3          football  [removed]   \n",
       "4          football  [removed]   \n",
       "5          football  [removed]   \n",
       "12         football  [removed]   \n",
       "19         football  [removed]   \n",
       "...             ...        ...   \n",
       "3987  SoccerBetting  [removed]   \n",
       "3988  SoccerBetting  [removed]   \n",
       "3989  SoccerBetting  [removed]   \n",
       "3996  SoccerBetting  [removed]   \n",
       "3999  SoccerBetting  [removed]   \n",
       "\n",
       "                                                  title  \n",
       "3     Who are some players with the best mentalities...  \n",
       "4     African Cup of Nation 2022 kicked off in Camer...  \n",
       "5     African Cup of Nation 2022 kicked off in Camer...  \n",
       "12    Is there a football that pros prefer to play w...  \n",
       "19         Anyone not happy about the winter world cup?  \n",
       "...                                                 ...  \n",
       "3987                                           Beginner  \n",
       "3988  Congratulations to those that believed in me a...  \n",
       "3989                                               Potd  \n",
       "3996  Juventus vs Inter Milan Predictions and Bettin...  \n",
       "3999  Duelbits - Get up to 50$ for free, no strings ...  \n",
       "\n",
       "[1230 rows x 3 columns]"
      ]
     },
     "metadata": {},
     "output_type": "display_data"
    }
   ],
   "source": [
    "display(subreddit[((subreddit[\"selftext\"]=='[deleted]') | (subreddit['selftext']=='[removed]'))])\n",
    "\n",
    "df = subreddit[~((subreddit[\"selftext\"]=='[deleted]') | (subreddit['selftext']=='[removed]'))]"
   ]
  },
  {
   "cell_type": "markdown",
   "id": "4e44fdd7",
   "metadata": {},
   "source": [
    "### Missing Values\n",
    "There are **1308** null values in the column of interest (the `selftext` column). It is observed that it is fairly common for reddit users to simply post what they wish to say all in the title instead of using the `title` field and inserting their content as a `selftext`.There is also a very low possibility of a data collection error made while using the PushShift API, thus the content in `title` will be imputed in place of the null values in `selftext`.\n",
    "\n",
    "As mentioned above, important information regarding the subject of discussion in the subreddit is also present in the `title`and should be included in the analysis. To address the missing values as well as improving the analysis, the content in the entire `title` column will be appended to `selftext`"
   ]
  },
  {
   "cell_type": "code",
   "execution_count": 6,
   "id": "589933be",
   "metadata": {},
   "outputs": [
    {
     "data": {
      "text/plain": [
       "y_subreddit       0\n",
       "selftext       1308\n",
       "title             0\n",
       "dtype: int64"
      ]
     },
     "metadata": {},
     "output_type": "display_data"
    }
   ],
   "source": [
    "# replacing null values with titles\n",
    "display(df.isnull().sum())\n",
    "df['selftext'] = df['title'] + df['selftext']\n",
    "df['selftext'].fillna(df['title'],inplace=True)"
   ]
  },
  {
   "cell_type": "markdown",
   "id": "2f113ac2",
   "metadata": {},
   "source": [
    "### Duplicated Posts"
   ]
  },
  {
   "cell_type": "code",
   "execution_count": 7,
   "id": "cdaf4d81",
   "metadata": {},
   "outputs": [
    {
     "data": {
      "text/html": [
       "<div>\n",
       "<style scoped>\n",
       "    .dataframe tbody tr th:only-of-type {\n",
       "        vertical-align: middle;\n",
       "    }\n",
       "\n",
       "    .dataframe tbody tr th {\n",
       "        vertical-align: top;\n",
       "    }\n",
       "\n",
       "    .dataframe thead th {\n",
       "        text-align: right;\n",
       "    }\n",
       "</style>\n",
       "<table border=\"1\" class=\"dataframe\">\n",
       "  <thead>\n",
       "    <tr style=\"text-align: right;\">\n",
       "      <th></th>\n",
       "      <th>y_subreddit</th>\n",
       "      <th>selftext</th>\n",
       "      <th>title</th>\n",
       "    </tr>\n",
       "  </thead>\n",
       "  <tbody>\n",
       "    <tr>\n",
       "      <th>71</th>\n",
       "      <td>football</td>\n",
       "      <td>r/Football Daily Discussion ThreadSmall talk o...</td>\n",
       "      <td>r/Football Daily Discussion Thread</td>\n",
       "    </tr>\n",
       "    <tr>\n",
       "      <th>103</th>\n",
       "      <td>football</td>\n",
       "      <td>r/Football Daily Discussion ThreadSmall talk o...</td>\n",
       "      <td>r/Football Daily Discussion Thread</td>\n",
       "    </tr>\n",
       "    <tr>\n",
       "      <th>149</th>\n",
       "      <td>football</td>\n",
       "      <td>r/Football Daily Discussion ThreadSmall talk o...</td>\n",
       "      <td>r/Football Daily Discussion Thread</td>\n",
       "    </tr>\n",
       "    <tr>\n",
       "      <th>209</th>\n",
       "      <td>football</td>\n",
       "      <td>r/Football Daily Discussion ThreadSmall talk o...</td>\n",
       "      <td>r/Football Daily Discussion Thread</td>\n",
       "    </tr>\n",
       "    <tr>\n",
       "      <th>246</th>\n",
       "      <td>football</td>\n",
       "      <td>r/Football Daily Discussion ThreadSmall talk o...</td>\n",
       "      <td>r/Football Daily Discussion Thread</td>\n",
       "    </tr>\n",
       "    <tr>\n",
       "      <th>...</th>\n",
       "      <td>...</td>\n",
       "      <td>...</td>\n",
       "      <td>...</td>\n",
       "    </tr>\n",
       "    <tr>\n",
       "      <th>2343</th>\n",
       "      <td>SoccerBetting</td>\n",
       "      <td>btts ht and last second goal bugsGreetings guy...</td>\n",
       "      <td>btts ht and last second goal bugs</td>\n",
       "    </tr>\n",
       "    <tr>\n",
       "      <th>3018</th>\n",
       "      <td>SoccerBetting</td>\n",
       "      <td>Daily Picks Thread Saturday - 28/08/21</td>\n",
       "      <td>Daily Picks Thread Saturday - 28/08/21</td>\n",
       "    </tr>\n",
       "    <tr>\n",
       "      <th>3558</th>\n",
       "      <td>SoccerBetting</td>\n",
       "      <td>France vs HungaryPutting a bet on France winni...</td>\n",
       "      <td>France vs Hungary</td>\n",
       "    </tr>\n",
       "    <tr>\n",
       "      <th>3658</th>\n",
       "      <td>SoccerBetting</td>\n",
       "      <td>Daily Picks Thread - Saturday 12/06/21</td>\n",
       "      <td>Daily Picks Thread - Saturday 12/06/21</td>\n",
       "    </tr>\n",
       "    <tr>\n",
       "      <th>3875</th>\n",
       "      <td>SoccerBetting</td>\n",
       "      <td>Daily Picks Thread - Wednesday 26/05/21</td>\n",
       "      <td>Daily Picks Thread - Wednesday 26/05/21</td>\n",
       "    </tr>\n",
       "  </tbody>\n",
       "</table>\n",
       "<p>64 rows × 3 columns</p>\n",
       "</div>"
      ],
      "text/plain": [
       "        y_subreddit                                           selftext  \\\n",
       "71         football  r/Football Daily Discussion ThreadSmall talk o...   \n",
       "103        football  r/Football Daily Discussion ThreadSmall talk o...   \n",
       "149        football  r/Football Daily Discussion ThreadSmall talk o...   \n",
       "209        football  r/Football Daily Discussion ThreadSmall talk o...   \n",
       "246        football  r/Football Daily Discussion ThreadSmall talk o...   \n",
       "...             ...                                                ...   \n",
       "2343  SoccerBetting  btts ht and last second goal bugsGreetings guy...   \n",
       "3018  SoccerBetting             Daily Picks Thread Saturday - 28/08/21   \n",
       "3558  SoccerBetting  France vs HungaryPutting a bet on France winni...   \n",
       "3658  SoccerBetting             Daily Picks Thread - Saturday 12/06/21   \n",
       "3875  SoccerBetting            Daily Picks Thread - Wednesday 26/05/21   \n",
       "\n",
       "                                        title  \n",
       "71         r/Football Daily Discussion Thread  \n",
       "103        r/Football Daily Discussion Thread  \n",
       "149        r/Football Daily Discussion Thread  \n",
       "209        r/Football Daily Discussion Thread  \n",
       "246        r/Football Daily Discussion Thread  \n",
       "...                                       ...  \n",
       "2343        btts ht and last second goal bugs  \n",
       "3018   Daily Picks Thread Saturday - 28/08/21  \n",
       "3558                        France vs Hungary  \n",
       "3658   Daily Picks Thread - Saturday 12/06/21  \n",
       "3875  Daily Picks Thread - Wednesday 26/05/21  \n",
       "\n",
       "[64 rows x 3 columns]"
      ]
     },
     "metadata": {},
     "output_type": "display_data"
    }
   ],
   "source": [
    "display(df[df['selftext'].duplicated()])\n",
    "df.drop_duplicates(subset=['selftext'],inplace=True)"
   ]
  },
  {
   "cell_type": "code",
   "execution_count": 8,
   "id": "c9d743de",
   "metadata": {},
   "outputs": [],
   "source": [
    "df.reset_index(drop=True, inplace=True)"
   ]
  },
  {
   "cell_type": "code",
   "execution_count": 91,
   "id": "a7c3f5a1",
   "metadata": {},
   "outputs": [
    {
     "data": {
      "text/plain": [
       "(2706, 5)"
      ]
     },
     "execution_count": 91,
     "metadata": {},
     "output_type": "execute_result"
    }
   ],
   "source": [
    "df.shape"
   ]
  },
  {
   "cell_type": "markdown",
   "id": "5c85ca1c",
   "metadata": {},
   "source": [
    "## Step 2: Exploratory Data Analysis\n",
    "---\n",
    "Once the data is clean, a preprocessing function will be passed into the `selftext` column to ensure that it is in the correct format for vectorization. Specifically, the function will perform the following with the help of the `nltk` library:\n",
    "\n",
    "\n",
    "1. Converts document to lowercase\n",
    "2. Removes numbers, symbols and web addresses (starting with http) & unhelpful keywords\\**\n",
    "3. Tokenizes document\n",
    "4. Stems and lemmatizes document\n",
    "5. Returns a string to be stored in the dataframe\n",
    "\n",
    "\n",
    "Following that, the target column (`y_subreddit`) will be encoded.\n",
    ">* '1': Positive Class (Post belongs to r/Football)\n",
    ">* '0': Negative Class (Post belongs to r/Soccerbetting)\n",
    "\n",
    "\n",
    "\n",
    "\n",
    "\\**   The tokens 'daily', 'thread' and 'monday' - 'sunday' were removed from the corpus because r/Soccerbetting has a dedicated posts daily titled 'Daily Picks Thread \\<Weekday> \\<Date>' which does not provide useful insight to generalize to normal posts by users.\n",
    "\n",
    "\\** Common occuring words such as 'soccer','football' and 'betting' were also removed as these words were commonly occurring and would dilute the effect of other words on the model."
   ]
  },
  {
   "cell_type": "code",
   "execution_count": 9,
   "id": "e37ce9ab",
   "metadata": {},
   "outputs": [],
   "source": [
    "df['clean_text']=df['selftext'].map(lambda s:preprocess(s))\n",
    "df['y_subreddit'] = df['y_subreddit'].apply(lambda x: 1 if x=='football' else 0)"
   ]
  },
  {
   "cell_type": "markdown",
   "id": "9a082cf5",
   "metadata": {},
   "source": [
    "There is a slight class imbalance of 57-43 in favour of the positive class (shown in the cell below). This is the baseline score we will have to meet.\n",
    "\n",
    "\n",
    "This is the baseline score as it is the score for the negative & positive classes if we created a model that simply predicted all future posts to be either in the positive or negative class and obtain an accuracy score of 57% and 43% respectively. "
   ]
  },
  {
   "cell_type": "code",
   "execution_count": 10,
   "id": "711ed124",
   "metadata": {},
   "outputs": [
    {
     "data": {
      "text/plain": [
       "1    0.56578\n",
       "0    0.43422\n",
       "Name: y_subreddit, dtype: float64"
      ]
     },
     "metadata": {},
     "output_type": "display_data"
    }
   ],
   "source": [
    "display(df['y_subreddit'].value_counts(normalize=True))"
   ]
  },
  {
   "cell_type": "markdown",
   "id": "2e33bcda",
   "metadata": {},
   "source": [
    "### Word Lengths\n",
    "\n",
    "The distribution of words in the data is right skewed as seen from the plot below. It is a right skewed distribution with a majority of posts below 30 words in length. \n",
    "\n",
    "The distribution of word lengths of the negative and positive classes are similar with similar mean and median values."
   ]
  },
  {
   "cell_type": "code",
   "execution_count": 60,
   "id": "a802b1f1",
   "metadata": {},
   "outputs": [
    {
     "name": "stdout",
     "output_type": "stream",
     "text": [
      "The positive class has a mean word length of 29.57 and median of 10.0\n",
      "The negative class has a mean word length of 23.87 and median of 13.0\n"
     ]
    },
    {
     "data": {
      "text/plain": [
       "count    2706.000000\n",
       "mean       27.090909\n",
       "std        49.774499\n",
       "min         1.000000\n",
       "25%         5.000000\n",
       "50%        11.000000\n",
       "75%        27.000000\n",
       "max       839.000000\n",
       "Name: word_length, dtype: float64"
      ]
     },
     "metadata": {},
     "output_type": "display_data"
    },
    {
     "data": {
      "text/plain": [
       "Text(0, 0.5, 'Count')"
      ]
     },
     "execution_count": 60,
     "metadata": {},
     "output_type": "execute_result"
    },
    {
     "data": {
      "image/png": "[encoded data removed]",
      "text/plain": [
       "<Figure size 432x288 with 1 Axes>"
      ]
     },
     "metadata": {
      "needs_background": "light"
     },
     "output_type": "display_data"
    }
   ],
   "source": [
    "df['word_length'] = df['clean_text'].apply(lambda x:len(x.split(' ')))\n",
    "avg_positive_length = round(df[df['y_subreddit']==1]['word_length'].mean(),2)\n",
    "avg_negative_length = round(df[df['y_subreddit']==0]['word_length'].mean(),2)\n",
    "med_positive_length = df[df['y_subreddit']==1]['word_length'].median()\n",
    "med_negative_length = df[df['y_subreddit']==0]['word_length'].median()\n",
    "print(f'The positive class has a mean word length of {avg_positive_length} and median of {med_positive_length}')\n",
    "print(f'The negative class has a mean word length of {avg_negative_length} and median of {med_negative_length}')\n",
    "display(df['word_length'].describe())\n",
    "df['word_length'].hist()\n",
    "plt.title('Distribution of Words')\n",
    "plt.xlabel('Word Lengths')\n",
    "plt.ylabel('Count')"
   ]
  },
  {
   "cell_type": "markdown",
   "id": "7dd85db4",
   "metadata": {},
   "source": [
    "### Most Frequently Occuring Words in r/Football & r/Soccerbetting"
   ]
  },
  {
   "cell_type": "code",
   "execution_count": 11,
   "id": "e27c1d4d",
   "metadata": {},
   "outputs": [],
   "source": [
    "cvec = CountVectorizer()"
   ]
  },
  {
   "cell_type": "code",
   "execution_count": 12,
   "id": "7ca59d3a",
   "metadata": {},
   "outputs": [
    {
     "data": {
      "image/png": "[encoded data removed]",
      "text/plain": [
       "<Figure size 864x576 with 2 Axes>"
      ]
     },
     "metadata": {
      "needs_background": "light"
     },
     "output_type": "display_data"
    }
   ],
   "source": [
    "# convert training data to dataframe\n",
    "cvec_df = pd.DataFrame(cvec.fit_transform(df['clean_text']).todense(), \n",
    "                          columns=cvec.get_feature_names())\n",
    "cvec_df = pd.concat([cvec_df, df['y_subreddit']], axis='columns')\n",
    "\n",
    "# # plot top 15 occuring words\n",
    "fig, axes = plt.subplots(nrows=1, ncols=2, figsize=(12, 8))\n",
    "\n",
    "cvec_df[cvec_df['y_subreddit']==1].drop(columns=['y_subreddit']).sum().sort_values(ascending=False).head(15).plot(kind='barh',\n",
    "                                                                                                                 ax=axes[0])\n",
    "axes[0].set_title('15 Most Frequent Words in r/Football')\n",
    "axes[0].set_ylabel('Word')\n",
    "axes[0].set_xlabel('Frequency')\n",
    "\n",
    "cvec_df[cvec_df['y_subreddit']==0].drop(columns=['y_subreddit']).sum().sort_values(ascending=False).head(15).plot(kind='barh',\n",
    "                                                                                                                 ax=axes[1],\n",
    "                                                                                                                 color='r')\n",
    "axes[1].set_title('15 Most Frequent Words in r/Soccerbetting')\n",
    "axes[1].set_ylabel('Word')\n",
    "axes[1].set_xlabel('Frequency')\n",
    "\n",
    "plt.tight_layout()"
   ]
  },
  {
   "cell_type": "markdown",
   "id": "7518a94b",
   "metadata": {},
   "source": [
    "From the frequency charts above, we can make the following observations:\n",
    "\n",
    "\n",
    "* There are overlapping words in the top 15 most frequent words such as 'team', 'goal', 'match', 'league', 'time'. Overlapping words are expected as the subject matter of both subreddits are quite similar.\n",
    "\n",
    "\n",
    "* Words strongly associated with betting such as 'odd', 'pick', 'game' and 'win' appear most commonly in the negative class. This is a reasonable observation.\n",
    "\n",
    "\n",
    "* The frequent words of the positive class tend to be more holistic in nature around Football as it contains words like 'coach', 'player', 'lineup'and 'league' whereas the frequent words in the negative class tend to centre around the betting aspect of football with little mention of other related words."
   ]
  },
  {
   "cell_type": "markdown",
   "id": "7f962e75",
   "metadata": {},
   "source": [
    "### Most Frequent Occuring Bigrams and Trigrams"
   ]
  },
  {
   "cell_type": "code",
   "execution_count": 13,
   "id": "df62f029",
   "metadata": {},
   "outputs": [
    {
     "data": {
      "image/png": "[encoded data removed]",
      "text/plain": [
       "<Figure size 864x576 with 2 Axes>"
      ]
     },
     "metadata": {
      "needs_background": "light"
     },
     "output_type": "display_data"
    }
   ],
   "source": [
    "cvec_bigram = CountVectorizer(ngram_range=(2,2))\n",
    "\n",
    "# convert training data to dataframe\n",
    "cvec_bigram_df = pd.DataFrame(cvec_bigram.fit_transform(df['clean_text']).todense(), \n",
    "                          columns=cvec_bigram.get_feature_names())\n",
    "cvec_bigram_df = pd.concat([cvec_bigram_df, df['y_subreddit']], axis='columns')\n",
    "\n",
    "# # plot top 15 occuring words\n",
    "fig, axes = plt.subplots(nrows=1, ncols=2, figsize=(12, 8))\n",
    "\n",
    "cvec_bigram_df[cvec_bigram_df['y_subreddit']==1].drop(columns=['y_subreddit']).sum().sort_values(ascending=False).head(15).plot(kind='barh',\n",
    "                                                                                                                 ax=axes[0])\n",
    "axes[0].set_title('15 Most Frequent Words in r/Football')\n",
    "axes[0].set_ylabel('Word')\n",
    "axes[0].set_xlabel('Frequency')\n",
    "\n",
    "cvec_bigram_df[cvec_bigram_df['y_subreddit']==0].drop(columns=['y_subreddit']).sum().sort_values(ascending=False).head(15).plot(kind='barh',\n",
    "                                                                                                                 ax=axes[1],\n",
    "                                                                                                                 color='r')\n",
    "axes[1].set_title('15 Most Frequent Bigrams in r/Soccerbetting')\n",
    "axes[1].set_ylabel('Word')\n",
    "axes[1].set_xlabel('Frequency')\n",
    "\n",
    "plt.tight_layout()"
   ]
  },
  {
   "cell_type": "code",
   "execution_count": 18,
   "id": "88b44506",
   "metadata": {},
   "outputs": [
    {
     "data": {
      "image/png": "[encoded data removed]",
      "text/plain": [
       "<Figure size 864x576 with 2 Axes>"
      ]
     },
     "metadata": {
      "needs_background": "light"
     },
     "output_type": "display_data"
    }
   ],
   "source": [
    "cvec_trigram = CountVectorizer(ngram_range=(3,3))\n",
    "\n",
    "# convert training data to dataframe\n",
    "cvec_trigram_df = pd.DataFrame(cvec_trigram.fit_transform(df['clean_text']).todense(), \n",
    "                          columns=cvec_trigram.get_feature_names())\n",
    "cvec_trigram_df = pd.concat([cvec_trigram_df, df['y_subreddit']], axis='columns')\n",
    "\n",
    "# # plot top 15 occuring words\n",
    "fig, axes = plt.subplots(nrows=1, ncols=2, figsize=(12, 8))\n",
    "\n",
    "cvec_trigram_df[cvec_trigram_df['y_subreddit']==1].drop(columns=['y_subreddit']).sum().sort_values(ascending=False).head(15).plot(kind='barh',\n",
    "                                                                                                                                  ax=axes[0])\n",
    "axes[0].set_title('15 Most Frequent Words in r/Football')\n",
    "axes[0].set_ylabel('Word')\n",
    "axes[0].set_xlabel('Frequency')\n",
    "\n",
    "cvec_trigram_df[cvec_trigram_df['y_subreddit']==0].drop(columns=['y_subreddit']).sum().sort_values(ascending=False).head(15).plot(kind='barh', \n",
    "                                                                                                                                  ax=axes[1], \n",
    "                                                                                                                                  color='r')\n",
    "axes[1].set_title('15 Most Frequent Trigrams in r/Soccerbetting')\n",
    "axes[1].set_ylabel('Word')\n",
    "axes[1].set_xlabel('Frequency')\n",
    "\n",
    "plt.tight_layout()"
   ]
  },
  {
   "cell_type": "markdown",
   "id": "11305813",
   "metadata": {},
   "source": [
    "## Step 3: Modelling\n",
    "---\n",
    "\n",
    "In this step, 4 models including 1 benchmark will be ran. The models are:\n",
    "\n",
    "\n",
    "- Logistic Regression/Count Vectorization (Benchmark Model)\n",
    "- K Neighbors/TF-IDF Vectorization with Hyperparameter Tuning\n",
    "- Multinomial Naive Bayes/TF-IDF Vectorization with Hyperparameter Tuning\n",
    "- Random Forest/TF-IDF Vectorization with Hyperparameter Tuning\n",
    "\n",
    "For the benchmark model, a Logistic Regression (with default hyperparameters) will be used following Count Vectorization of the corpus. This is chosen for the benchmark because of its simplicity and speed of modelling. \n",
    "\n",
    "The other models will be vectorized with the TF-IDF Vectorizer which is built on top of the Count Vectorizer and assigns importance to certain words by creating a normalized count where each word count is divided by the number of documents this word appears in. Other estimators will also be used in conjunction with TF-IDF.\n",
    "\n",
    "#### Performance Metric\n",
    "Recall that our business problem requires the model to correctly identify posts pertaining to soccer betting (the negative class) the selected model must be able to achieve a performance metric of < 90% accuracy while optimizing for **Specificity**.\n",
    "\n",
    "\n",
    "**Specificity** has to be maximized as False Positives would mean that posts that are supposed to be about betting would be retained on r/Football, hence False Positives have to be reduced to as low as practically possible. On the other hand, False Negatives do not pose as much of an issue to the business problem as it means that the model is being overly cautious to misclassify non-soccer betting posts as such. Therefore, a trade-off with recall is acceptable."
   ]
  },
  {
   "cell_type": "markdown",
   "id": "8045cb65",
   "metadata": {},
   "source": [
    "### Defining Features, Target and Train-Test Split"
   ]
  },
  {
   "cell_type": "code",
   "execution_count": 19,
   "id": "83fb257e",
   "metadata": {},
   "outputs": [],
   "source": [
    "X = df['clean_text']\n",
    "y = df['y_subreddit']\n",
    "\n",
    "# Random state for reproducibility\n",
    "seed = 42"
   ]
  },
  {
   "cell_type": "code",
   "execution_count": 20,
   "id": "918aadbb",
   "metadata": {},
   "outputs": [],
   "source": [
    "X_train, X_test, y_train, y_test = train_test_split(X,\n",
    "                                                    y,\n",
    "                                                    test_size=0.25,\n",
    "                                                    stratify=y,\n",
    "                                                    random_state=seed)"
   ]
  },
  {
   "cell_type": "markdown",
   "id": "3537f12c",
   "metadata": {},
   "source": [
    "#### Reuseable Function to produce the classification metrics required"
   ]
  },
  {
   "cell_type": "code",
   "execution_count": 21,
   "id": "a51ff90f",
   "metadata": {},
   "outputs": [],
   "source": [
    "def metrics(fitted_estimator, X_train=X_train, X_test=X_test, \n",
    "                           y_train=y_train, y_test=y_test, gridsearch=False, ):\n",
    "    '''\n",
    "\n",
    "    Takes input of a fitted estimator and outputs the various classification metrics. if the fitted model is a gridsearch\n",
    "    It will also output the best params_ and best_score_.\n",
    "\n",
    "    '''\n",
    "    pred = fitted_estimator.predict(X_test)\n",
    "    pred_proba = fitted_estimator.predict_proba(X_test)[:,1]\n",
    "    tn,fp,fn,tp = confusion_matrix(y_test, pred).ravel()\n",
    "    recall = round(tp/(tp+fn),3)\n",
    "    precision = round(tp/(tp+fp),3)\n",
    "    specificity = round(tn/(tn+fp),3)\n",
    "    f1 = round(f1_score(y_test, pred),3)\n",
    "    training_score = round(fitted_estimator.score(X_train, y_train),3)\n",
    "    testing_score = round(fitted_estimator.score(X_test, y_test),3)\n",
    "    auc_score = round(roc_auc_score(y_test,pred_proba),3)\n",
    "\n",
    "    display(ConfusionMatrixDisplay.from_predictions(y_test, pred, display_labels = ['Soccerbetting', 'football']))\n",
    "    \n",
    "    if gridsearch:\n",
    "        display(f'Best Params:  {fitted_estimator.best_params_}')\n",
    "        display(f'Best Score:   {round(fitted_estimator.best_score_,3)}')\n",
    "        \n",
    "    display(f'The training score is: {training_score}.')\n",
    "    display(f'The testing score is {testing_score}.')\n",
    "    display(f'The specificity score is {specificity}.')\n",
    "    display(f'The recall score is {recall}.')\n",
    "    display(f'The precision score is {precision}.')\n",
    "    display(f'The f1 score is {f1}.')\n",
    "    display(f'The AUC score is {auc_score}.')\n",
    "    \n",
    "    return training_score, testing_score , specificity, recall, precision, f1, auc_score"
   ]
  },
  {
   "cell_type": "code",
   "execution_count": 22,
   "id": "61956e7d",
   "metadata": {},
   "outputs": [
    {
     "data": {
      "text/plain": [
       "(2029,)"
      ]
     },
     "metadata": {},
     "output_type": "display_data"
    },
    {
     "data": {
      "text/plain": [
       "(2029,)"
      ]
     },
     "metadata": {},
     "output_type": "display_data"
    },
    {
     "data": {
      "text/plain": [
       "(677,)"
      ]
     },
     "metadata": {},
     "output_type": "display_data"
    },
    {
     "data": {
      "text/plain": [
       "(677,)"
      ]
     },
     "metadata": {},
     "output_type": "display_data"
    }
   ],
   "source": [
    "display(X_train.shape)\n",
    "display(y_train.shape)\n",
    "display(X_test.shape)\n",
    "display(y_test.shape)"
   ]
  },
  {
   "cell_type": "markdown",
   "id": "310d6223",
   "metadata": {},
   "source": [
    "### Benchmark Model Logistic Regression/ Count Vectorizer"
   ]
  },
  {
   "cell_type": "code",
   "execution_count": 23,
   "id": "5cdb6fd5",
   "metadata": {},
   "outputs": [
    {
     "data": {
      "text/plain": [
       "<sklearn.metrics._plot.confusion_matrix.ConfusionMatrixDisplay at 0x24044596ee0>"
      ]
     },
     "metadata": {},
     "output_type": "display_data"
    },
    {
     "data": {
      "text/plain": [
       "'The training score is: 0.989.'"
      ]
     },
     "metadata": {},
     "output_type": "display_data"
    },
    {
     "data": {
      "text/plain": [
       "'The testing score is 0.894.'"
      ]
     },
     "metadata": {},
     "output_type": "display_data"
    },
    {
     "data": {
      "text/plain": [
       "'The specificity score is 0.816.'"
      ]
     },
     "metadata": {},
     "output_type": "display_data"
    },
    {
     "data": {
      "text/plain": [
       "'The recall score is 0.953.'"
      ]
     },
     "metadata": {},
     "output_type": "display_data"
    },
    {
     "data": {
      "text/plain": [
       "'The precision score is 0.871.'"
      ]
     },
     "metadata": {},
     "output_type": "display_data"
    },
    {
     "data": {
      "text/plain": [
       "'The f1 score is 0.91.'"
      ]
     },
     "metadata": {},
     "output_type": "display_data"
    },
    {
     "data": {
      "text/plain": [
       "'The AUC score is 0.96.'"
      ]
     },
     "metadata": {},
     "output_type": "display_data"
    },
    {
     "name": "stdout",
     "output_type": "stream",
     "text": [
      "Time taken: 0.168s.\n"
     ]
    },
    {
     "data": {
      "image/png": "[encoded data removed]",
      "text/plain": [
       "<Figure size 432x288 with 2 Axes>"
      ]
     },
     "metadata": {
      "needs_background": "light"
     },
     "output_type": "display_data"
    }
   ],
   "source": [
    "t0=time()\n",
    "\n",
    "cvec = CountVectorizer()\n",
    "\n",
    "bench = Pipeline([\n",
    "    ('cvec',cvec),\n",
    "    ('logreg', LogisticRegression())\n",
    "])\n",
    "\n",
    "bench.fit(X_train, y_train)\n",
    "duration = round(time()-t0,3)\n",
    "bench_train, bench_test, bench_specificity, bench_recall, bench_precision, bench_f1, bench_auc = metrics(bench)\n",
    "print(f'Time taken: {duration}s.')\n",
    "\n",
    "# creating a dictionary to consolidate all model scores to convert into a DataFrame later on\n",
    "results = {'model':['Logistic Regression/CVEC'],\n",
    "           'training_score':[bench_train],\n",
    "          'testing_score':[bench_test],\n",
    "           'specificity':[bench_specificity],\n",
    "          'recall':[bench_recall],\n",
    "          'precision':[bench_precision],\n",
    "          'f1':[bench_f1],\n",
    "           'AUC_score':[bench_auc],\n",
    "          'time_taken(/s)':[duration]}"
   ]
  },
  {
   "cell_type": "markdown",
   "id": "79d79f34",
   "metadata": {},
   "source": [
    "### K Neighbors/ TF-IDF Vectorizer"
   ]
  },
  {
   "cell_type": "code",
   "execution_count": 24,
   "id": "182215b2",
   "metadata": {},
   "outputs": [
    {
     "name": "stdout",
     "output_type": "stream",
     "text": [
      "Fitting 5 folds for each of 972 candidates, totalling 4860 fits\n"
     ]
    },
    {
     "data": {
      "text/plain": [
       "<sklearn.metrics._plot.confusion_matrix.ConfusionMatrixDisplay at 0x24044596ee0>"
      ]
     },
     "metadata": {},
     "output_type": "display_data"
    },
    {
     "data": {
      "text/plain": [
       "\"Best Params:  {'knn__metric': 'euclidean', 'knn__n_neighbors': 15, 'knn__p': 'uniform', 'tvec__max_features': 8000, 'tvec__min_df': 1, 'tvec__ngram_range': (1, 1), 'tvec__stop_words': 'english'}\""
      ]
     },
     "metadata": {},
     "output_type": "display_data"
    },
    {
     "data": {
      "text/plain": [
       "'Best Score:   0.887'"
      ]
     },
     "metadata": {},
     "output_type": "display_data"
    },
    {
     "data": {
      "text/plain": [
       "'The training score is: 0.916.'"
      ]
     },
     "metadata": {},
     "output_type": "display_data"
    },
    {
     "data": {
      "text/plain": [
       "'The testing score is 0.897.'"
      ]
     },
     "metadata": {},
     "output_type": "display_data"
    },
    {
     "data": {
      "text/plain": [
       "'The specificity score is 0.823.'"
      ]
     },
     "metadata": {},
     "output_type": "display_data"
    },
    {
     "data": {
      "text/plain": [
       "'The recall score is 0.953.'"
      ]
     },
     "metadata": {},
     "output_type": "display_data"
    },
    {
     "data": {
      "text/plain": [
       "'The precision score is 0.875.'"
      ]
     },
     "metadata": {},
     "output_type": "display_data"
    },
    {
     "data": {
      "text/plain": [
       "'The f1 score is 0.913.'"
      ]
     },
     "metadata": {},
     "output_type": "display_data"
    },
    {
     "data": {
      "text/plain": [
       "'The AUC score is 0.952.'"
      ]
     },
     "metadata": {},
     "output_type": "display_data"
    },
    {
     "name": "stdout",
     "output_type": "stream",
     "text": [
      "Time taken: 203.21s.\n"
     ]
    },
    {
     "data": {
      "image/png": "[encoded data removed]",
      "text/plain": [
       "<Figure size 432x288 with 2 Axes>"
      ]
     },
     "metadata": {
      "needs_background": "light"
     },
     "output_type": "display_data"
    }
   ],
   "source": [
    "t0 = time()\n",
    "\n",
    "tvec = TfidfVectorizer()\n",
    "pipe1 = Pipeline([\n",
    "    ('tvec',tvec),\n",
    "    ('knn', KNeighborsClassifier())\n",
    "])\n",
    "\n",
    "pipe1_params = {\n",
    "    'tvec__min_df':[0.1,0.25,1],\n",
    "    'tvec__max_features':[3000,8000,12000],\n",
    "    'tvec__stop_words':['english', None],\n",
    "    'tvec__ngram_range':[(1,1), (1,2), (1,3)],\n",
    "    'knn__metric':['euclidean','manhattan','minkowski'],\n",
    "    'knn__n_neighbors':[1,15,35],\n",
    "    'knn__p':['uniform', 'distance']\n",
    "}\n",
    "\n",
    "gs1 = GridSearchCV(pipe1, pipe1_params, cv=5, n_jobs=3, verbose=1)\n",
    "gs1.fit(X_train, y_train)\n",
    "duration = round(time()-t0,3)\n",
    "gs1_train, gs1_test, gs1_specificity, gs1_recall, gs1_precision, gs1_f1, gs1_auc = metrics(gs1,gridsearch=True)\n",
    "\n",
    "print(f'Time taken: {duration}s.')\n",
    "\n",
    "results['model'].append('KNN Classifier/TVEC')\n",
    "results['training_score'].append(gs1_train)\n",
    "results['testing_score'].append(gs1_test)\n",
    "results['specificity'].append(gs1_specificity)\n",
    "results['recall'].append(gs1_recall)\n",
    "results['precision'].append(gs1_precision)\n",
    "results['f1'].append(gs1_f1)\n",
    "results['AUC_score'].append(gs1_auc)\n",
    "results['time_taken(/s)'].append(duration)"
   ]
  },
  {
   "cell_type": "markdown",
   "id": "1ef207ec",
   "metadata": {},
   "source": [
    "### Multinomial Naive Bayes/ TF-IDF Vectorizer"
   ]
  },
  {
   "cell_type": "code",
   "execution_count": 25,
   "id": "fad4af18",
   "metadata": {},
   "outputs": [
    {
     "name": "stdout",
     "output_type": "stream",
     "text": [
      "Fitting 5 folds for each of 54 candidates, totalling 270 fits\n"
     ]
    },
    {
     "data": {
      "text/plain": [
       "<sklearn.metrics._plot.confusion_matrix.ConfusionMatrixDisplay at 0x2404fc67a30>"
      ]
     },
     "metadata": {},
     "output_type": "display_data"
    },
    {
     "data": {
      "text/plain": [
       "\"Best Params:  {'tvec__max_features': 8000, 'tvec__min_df': 1, 'tvec__ngram_range': (1, 1), 'tvec__stop_words': None}\""
      ]
     },
     "metadata": {},
     "output_type": "display_data"
    },
    {
     "data": {
      "text/plain": [
       "'Best Score:   0.918'"
      ]
     },
     "metadata": {},
     "output_type": "display_data"
    },
    {
     "data": {
      "text/plain": [
       "'The training score is: 0.972.'"
      ]
     },
     "metadata": {},
     "output_type": "display_data"
    },
    {
     "data": {
      "text/plain": [
       "'The testing score is 0.913.'"
      ]
     },
     "metadata": {},
     "output_type": "display_data"
    },
    {
     "data": {
      "text/plain": [
       "'The specificity score is 0.867.'"
      ]
     },
     "metadata": {},
     "output_type": "display_data"
    },
    {
     "data": {
      "text/plain": [
       "'The recall score is 0.948.'"
      ]
     },
     "metadata": {},
     "output_type": "display_data"
    },
    {
     "data": {
      "text/plain": [
       "'The precision score is 0.903.'"
      ]
     },
     "metadata": {},
     "output_type": "display_data"
    },
    {
     "data": {
      "text/plain": [
       "'The f1 score is 0.925.'"
      ]
     },
     "metadata": {},
     "output_type": "display_data"
    },
    {
     "data": {
      "text/plain": [
       "'The AUC score is 0.966.'"
      ]
     },
     "metadata": {},
     "output_type": "display_data"
    },
    {
     "name": "stdout",
     "output_type": "stream",
     "text": [
      "Time taken: 9.754s.\n"
     ]
    },
    {
     "data": {
      "image/png": "[encoded data removed]",
      "text/plain": [
       "<Figure size 432x288 with 2 Axes>"
      ]
     },
     "metadata": {
      "needs_background": "light"
     },
     "output_type": "display_data"
    }
   ],
   "source": [
    "t0=time()\n",
    "pipe2 = Pipeline([\n",
    "    ('tvec',tvec),\n",
    "    ('nb', MultinomialNB())\n",
    "])\n",
    "\n",
    "pipe2_params = {\n",
    "    'tvec__min_df':[0.1,0.25,1],\n",
    "    'tvec__max_features':[4000,8000,10000],\n",
    "    'tvec__stop_words':['english', None],\n",
    "    'tvec__ngram_range':[(1,1), (1,2), (1,3)]\n",
    "}\n",
    "\n",
    "gs2 = GridSearchCV(pipe2, pipe2_params, cv=5, n_jobs=3, verbose=1)\n",
    "gs2.fit(X_train, y_train)\n",
    "duration = round(time()-t0,3)\n",
    "gs2_train, gs2_test, gs2_specificity, gs2_recall, gs2_precision, gs2_f1, gs2_auc = metrics(gs2, gridsearch=True)\n",
    "print(f'Time taken: {duration}s.')\n",
    "\n",
    "results['model'].append('Multinomial NB/TVEC')\n",
    "results['training_score'].append(gs2_train)\n",
    "results['testing_score'].append(gs2_test)\n",
    "results['specificity'].append(gs2_specificity)\n",
    "results['recall'].append(gs2_recall)\n",
    "results['precision'].append(gs2_precision)\n",
    "results['f1'].append(gs2_f1)\n",
    "results['AUC_score'].append(gs2_auc)\n",
    "results['time_taken(/s)'].append(duration)"
   ]
  },
  {
   "cell_type": "markdown",
   "id": "3ba12d20",
   "metadata": {},
   "source": [
    "### Random Forest/ TF-IDF Classifier"
   ]
  },
  {
   "cell_type": "code",
   "execution_count": 26,
   "id": "ccacc9af",
   "metadata": {},
   "outputs": [
    {
     "name": "stdout",
     "output_type": "stream",
     "text": [
      "Fitting 5 folds for each of 972 candidates, totalling 4860 fits\n"
     ]
    },
    {
     "data": {
      "text/plain": [
       "<sklearn.metrics._plot.confusion_matrix.ConfusionMatrixDisplay at 0x2405232a400>"
      ]
     },
     "metadata": {},
     "output_type": "display_data"
    },
    {
     "data": {
      "text/plain": [
       "\"Best Params:  {'rf__max_depth': None, 'rf__max_samples': None, 'rf__n_estimators': 100, 'tvec__max_features': 8000, 'tvec__min_df': 1, 'tvec__ngram_range': (1, 1), 'tvec__stop_words': 'english'}\""
      ]
     },
     "metadata": {},
     "output_type": "display_data"
    },
    {
     "data": {
      "text/plain": [
       "'Best Score:   0.916'"
      ]
     },
     "metadata": {},
     "output_type": "display_data"
    },
    {
     "data": {
      "text/plain": [
       "'The training score is: 1.0.'"
      ]
     },
     "metadata": {},
     "output_type": "display_data"
    },
    {
     "data": {
      "text/plain": [
       "'The testing score is 0.897.'"
      ]
     },
     "metadata": {},
     "output_type": "display_data"
    },
    {
     "data": {
      "text/plain": [
       "'The specificity score is 0.806.'"
      ]
     },
     "metadata": {},
     "output_type": "display_data"
    },
    {
     "data": {
      "text/plain": [
       "'The recall score is 0.966.'"
      ]
     },
     "metadata": {},
     "output_type": "display_data"
    },
    {
     "data": {
      "text/plain": [
       "'The precision score is 0.867.'"
      ]
     },
     "metadata": {},
     "output_type": "display_data"
    },
    {
     "data": {
      "text/plain": [
       "'The f1 score is 0.914.'"
      ]
     },
     "metadata": {},
     "output_type": "display_data"
    },
    {
     "data": {
      "text/plain": [
       "'The AUC score is 0.957.'"
      ]
     },
     "metadata": {},
     "output_type": "display_data"
    },
    {
     "name": "stdout",
     "output_type": "stream",
     "text": [
      "Time taken: 318.44s.\n"
     ]
    },
    {
     "data": {
      "image/png": "[encoded data removed]",
      "text/plain": [
       "<Figure size 432x288 with 2 Axes>"
      ]
     },
     "metadata": {
      "needs_background": "light"
     },
     "output_type": "display_data"
    }
   ],
   "source": [
    "t0=time()\n",
    "pipe3 = Pipeline([\n",
    "    ('tvec',tvec),\n",
    "    ('rf', RandomForestClassifier(random_state=seed))\n",
    "])\n",
    "\n",
    "pipe3_params = {\n",
    "    'tvec__min_df':[0.1,0.25,1],\n",
    "    'tvec__max_features':[5000,8000,12000],\n",
    "    'tvec__stop_words':['english', None],\n",
    "    'tvec__ngram_range':[(1,1), (1,2), (1,3)],\n",
    "    'rf__n_estimators':[80,100],\n",
    "    'rf__max_samples':[None,0.1,0.3],\n",
    "    'rf__max_depth':[None,25,50]\n",
    "}\n",
    "\n",
    "gs3 = GridSearchCV(pipe3, pipe3_params, cv=5, n_jobs=3, verbose=1)\n",
    "gs3.fit(X_train, y_train)\n",
    "duration = round(time()-t0,3)\n",
    "gs3_train, gs3_test, gs3_specificity, gs3_recall, gs3_precision, gs3_f1, gs3_auc = metrics(gs3,gridsearch=True)\n",
    "print(f'Time taken: {duration}s.')\n",
    "\n",
    "results['model'].append('Random Forest Classifier/TVEC')\n",
    "results['training_score'].append(gs3_train)\n",
    "results['testing_score'].append(gs3_test)\n",
    "results['specificity'].append(gs3_specificity)\n",
    "results['recall'].append(gs3_recall)\n",
    "results['precision'].append(gs3_precision)\n",
    "results['f1'].append(gs3_f1)\n",
    "results['AUC_score'].append(gs3_auc)\n",
    "results['time_taken(/s)'].append(duration)"
   ]
  },
  {
   "cell_type": "markdown",
   "id": "543fb3a6",
   "metadata": {},
   "source": [
    "### Step 4: Selection & Insights"
   ]
  },
  {
   "cell_type": "markdown",
   "id": "19805e98",
   "metadata": {},
   "source": [
    "#### Model Selection\n",
    "\n",
    "The best model is the **Multinomial NB/TVEC** (Index number 2 in DataFrame below) as it offered the highest accuracy on the test test, as well as the highest specificity and AUC score among all the other classifiers."
   ]
  },
  {
   "cell_type": "code",
   "execution_count": 27,
   "id": "13bd74d4",
   "metadata": {},
   "outputs": [
    {
     "data": {
      "text/html": [
       "<div>\n",
       "<style scoped>\n",
       "    .dataframe tbody tr th:only-of-type {\n",
       "        vertical-align: middle;\n",
       "    }\n",
       "\n",
       "    .dataframe tbody tr th {\n",
       "        vertical-align: top;\n",
       "    }\n",
       "\n",
       "    .dataframe thead th {\n",
       "        text-align: right;\n",
       "    }\n",
       "</style>\n",
       "<table border=\"1\" class=\"dataframe\">\n",
       "  <thead>\n",
       "    <tr style=\"text-align: right;\">\n",
       "      <th></th>\n",
       "      <th>model</th>\n",
       "      <th>training_score</th>\n",
       "      <th>testing_score</th>\n",
       "      <th>specificity</th>\n",
       "      <th>recall</th>\n",
       "      <th>precision</th>\n",
       "      <th>f1</th>\n",
       "      <th>AUC_score</th>\n",
       "      <th>time_taken(/s)</th>\n",
       "    </tr>\n",
       "  </thead>\n",
       "  <tbody>\n",
       "    <tr>\n",
       "      <th>0</th>\n",
       "      <td>Logistic Regression/CVEC</td>\n",
       "      <td>0.989</td>\n",
       "      <td>0.894</td>\n",
       "      <td>0.816</td>\n",
       "      <td>0.953</td>\n",
       "      <td>0.871</td>\n",
       "      <td>0.910</td>\n",
       "      <td>0.960</td>\n",
       "      <td>0.168</td>\n",
       "    </tr>\n",
       "    <tr>\n",
       "      <th>1</th>\n",
       "      <td>KNN Classifier/TVEC</td>\n",
       "      <td>0.916</td>\n",
       "      <td>0.897</td>\n",
       "      <td>0.823</td>\n",
       "      <td>0.953</td>\n",
       "      <td>0.875</td>\n",
       "      <td>0.913</td>\n",
       "      <td>0.952</td>\n",
       "      <td>203.210</td>\n",
       "    </tr>\n",
       "    <tr>\n",
       "      <th>2</th>\n",
       "      <td>Multinomial NB/TVEC</td>\n",
       "      <td>0.972</td>\n",
       "      <td>0.913</td>\n",
       "      <td>0.867</td>\n",
       "      <td>0.948</td>\n",
       "      <td>0.903</td>\n",
       "      <td>0.925</td>\n",
       "      <td>0.966</td>\n",
       "      <td>9.754</td>\n",
       "    </tr>\n",
       "    <tr>\n",
       "      <th>3</th>\n",
       "      <td>Random Forest Classifier/TVEC</td>\n",
       "      <td>1.000</td>\n",
       "      <td>0.897</td>\n",
       "      <td>0.806</td>\n",
       "      <td>0.966</td>\n",
       "      <td>0.867</td>\n",
       "      <td>0.914</td>\n",
       "      <td>0.957</td>\n",
       "      <td>318.440</td>\n",
       "    </tr>\n",
       "  </tbody>\n",
       "</table>\n",
       "</div>"
      ],
      "text/plain": [
       "                           model  training_score  testing_score  specificity  \\\n",
       "0       Logistic Regression/CVEC           0.989          0.894        0.816   \n",
       "1            KNN Classifier/TVEC           0.916          0.897        0.823   \n",
       "2            Multinomial NB/TVEC           0.972          0.913        0.867   \n",
       "3  Random Forest Classifier/TVEC           1.000          0.897        0.806   \n",
       "\n",
       "   recall  precision     f1  AUC_score  time_taken(/s)  \n",
       "0   0.953      0.871  0.910      0.960           0.168  \n",
       "1   0.953      0.875  0.913      0.952         203.210  \n",
       "2   0.948      0.903  0.925      0.966           9.754  \n",
       "3   0.966      0.867  0.914      0.957         318.440  "
      ]
     },
     "metadata": {},
     "output_type": "display_data"
    }
   ],
   "source": [
    "comparison = pd.DataFrame(results)\n",
    "display(comparison)"
   ]
  },
  {
   "cell_type": "markdown",
   "id": "8593b349",
   "metadata": {},
   "source": [
    "> The winner is......**Multinomial NB/TVEC** with the following defined parameters, other parameters were kept at default:\n",
    ">* 'tvec__max_features': 8000 \n",
    ">* 'tvec__min_df': 1 \n",
    ">* 'tvec__ngram_range': (1, 1)\n",
    ">* 'tvec__stop_words': None\n",
    "\n",
    "\n",
    "There are about 5.8% of posts that were False Positives."
   ]
  },
  {
   "cell_type": "code",
   "execution_count": 90,
   "id": "8f803325",
   "metadata": {
    "scrolled": false
   },
   "outputs": [
    {
     "name": "stdout",
     "output_type": "stream",
     "text": [
      "There are 39/677(5.76%) misclassified posts in the test set.\n",
      "\n"
     ]
    }
   ],
   "source": [
    "# Examination of False Positives (true value r/Soccerbetting but predicted r/Football)\n",
    "fp = X_test[gs2.predict(X_test)>y_test]\n",
    "misclassified = pd.DataFrame(fp)\n",
    "print(f'There are {len(misclassified)}/{len(y_test)}({round(100*(len(misclassified)/len(y_test)),2)}%)' \n",
    "      f' misclassified posts in the test set.\\n')"
   ]
  },
  {
   "cell_type": "markdown",
   "id": "fe135a72",
   "metadata": {},
   "source": [
    "#### Comparison with Benchmark (Logistic Regression/ Count Vectorization)\n",
    "\n",
    "\n",
    "For the Multinomial NB classifier, each probability of each feature given that it is in positive/negative class is computed by the model. If a feature has a high probability in the negative class and lower in the other, it means that it has a greater discriminative power for documents that belong in the negative class, and vice versa. This can be computed by obtaining the differences in class probabilities of each feature. We use log probabilities for easier visual representation.\n",
    "\n",
    "\n",
    "A similar measure for the benchmark Logistic Regression Model would be obtaining the feature coefficients as it will inform on the strongest components that contributes to the model.\n",
    "\n",
    "**Observations**\n",
    "\n",
    "\n",
    "* In the figure below, the top 15 contributors for each model is shown and it can be observed that about 60% of the features are common, which is expected. This is why the performance metrics are very close.\n",
    "\n",
    "\n",
    "* In fact, the top 3 contributors for both models are identical. We can infer that the tokens:`pick`, `bet` & `odd` are the most important contributors to the model."
   ]
  },
  {
   "cell_type": "code",
   "execution_count": 29,
   "id": "0e3b3075",
   "metadata": {},
   "outputs": [
    {
     "name": "stdout",
     "output_type": "stream",
     "text": [
      "There are 9 common tokens in the top 15 tokens (60.0%).They are ['pick', 'ting', 'odd', 'beat', 'barcelona', 'profit', 'site', 'drop', 'btt'].\n"
     ]
    },
    {
     "data": {
      "image/png": "[encoded data removed]",
      "text/plain": [
       "<Figure size 1008x720 with 2 Axes>"
      ]
     },
     "metadata": {
      "needs_background": "light"
     },
     "output_type": "display_data"
    }
   ],
   "source": [
    "# Extracting top 15 coefficients for barh plot\n",
    "lr_coef = bench[1].coef_.reshape(-1).tolist()\n",
    "lr_feature_names = bench[0].get_feature_names()\n",
    "benchmark = pd.DataFrame({'coefficients':lr_coef,'tokens':lr_feature_names}).set_index('tokens')\n",
    "benchmark['abs_coefs'] = benchmark['coefficients'].apply(np.abs)\n",
    "\n",
    "# Extracting top 15 log proba differences for barh plot\n",
    "betting_log_proba = gs2.best_estimator_[1].feature_log_prob_[0,:]\n",
    "soccer_log_proba = gs2.best_estimator_[1].feature_log_prob_[1,:]\n",
    "feature_names = gs2.best_estimator_[0].get_feature_names()\n",
    "evaluate = pd.DataFrame({'r/Soccerbetting':betting_log_proba, 'r/Football':soccer_log_proba, \n",
    "                        'tokens':feature_names}).set_index('tokens')\n",
    "evaluate['log_proba_difference'] = np.abs(evaluate['r/Soccerbetting']-evaluate['r/Football'])\n",
    "\n",
    "# Extracting common tokens\n",
    "identical_tokens = [w for w in benchmark['abs_coefs'].sort_values(ascending=False).head(15).index if\n",
    "                   w in evaluate['log_proba_difference'].sort_values(ascending=False).head(15).index]\n",
    "print(f'There are {len(identical_tokens)} common tokens in the top 15 tokens ({round(100*(len(identical_tokens)/15),2)}%).'\n",
    "      f'They are {identical_tokens}.')\n",
    "\n",
    "# Plotting information extracted above\n",
    "fig, ax = plt.subplots(nrows=1, ncols=2, figsize=(14, 10))\n",
    "\n",
    "benchmark['abs_coefs'].sort_values(ascending=False).head(15).plot(kind='barh', ax=ax[0])                                                                                                    \n",
    "ax[0].set_title('Top 15 Logistic Regression Coefficients')\n",
    "ax[0].set_ylabel('Token')\n",
    "ax[0].set_xlabel('Coefficient Value')\n",
    "\n",
    "evaluate['log_proba_difference'].sort_values(ascending=False).head(15).plot(kind='barh',ax=ax[1], color='g')                                                                                           \n",
    "ax[1].set_title('Top 15 Tokens with Largest Log Probability Differences')\n",
    "ax[1].set_ylabel('Token')\n",
    "ax[1].set_xlabel('Log Probability')\n",
    "\n",
    "plt.tight_layout()"
   ]
  },
  {
   "cell_type": "markdown",
   "id": "4d0d0e94",
   "metadata": {},
   "source": [
    "## Step 5: Conclusion & Future Work\n",
    "\n",
    "\n",
    "In summary, the data was obtained by utilizing the PushShift API to obtain the most recent 2000 posts (as of time of project) from each subreddit to provide the dataset for the classification model so that it can be trained to classify future posts into either r/Football or r/Soccerbetting.\n",
    "\n",
    "\n",
    "After cleaning and preprocessing the data, several models were fitted and compared to the benchmark model. Using the desired performance metric (accuracy and specificity), the **Multinomial Naive Bayes/TF-IDF Classifier** provided the best results on the test data and was selected as the classifier of choice for production as part of the moderator tools to ensure that gambling content is policed in the r/Football subreddit.\n",
    "\n",
    "\n",
    "### Suggested Improvements\n",
    "\n",
    "\n",
    "* **Increase Model Vocabulary**: Instead of simply obtaining data from the r/Soccerbetting subreddit, data can be obtained from other subreddits which centre on gambling in general (such as [r/Gambling](https://www.reddit.com/r/gambling/), this will increase the model's ability to generalize when exposed to more generic words associated with gambling.\n",
    "\n",
    "\n",
    "* **Improve Data Quality**: One of the likely reasons for misclassification is typo errors from the user, improvements can be done on the text preprocessing function that takes common spelling errors into account prior to modelling. An example would be to use the `TextBlob` library with the `Word` module. Rectifying spelling mistakes will enable improve lemmatization and stemming performance, which will likely contribute to improvements in model performance."
   ]
  }
 ],
 "metadata": {
  "kernelspec": {
   "display_name": "Python 3 (ipykernel)",
   "language": "python",
   "name": "python3"
  },
  "language_info": {
   "codemirror_mode": {
    "name": "ipython",
    "version": 3
   },
   "file_extension": ".py",
   "mimetype": "text/x-python",
   "name": "python",
   "nbconvert_exporter": "python",
   "pygments_lexer": "ipython3",
   "version": "3.8.12"
  }
 },
 "nbformat": 4,
 "nbformat_minor": 5
}
